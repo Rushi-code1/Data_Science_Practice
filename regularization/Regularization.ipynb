{
 "cells": [
  {
   "cell_type": "code",
   "execution_count": 2,
   "id": "53affba1",
   "metadata": {
    "ExecuteTime": {
     "end_time": "2023-10-12T08:00:36.384130Z",
     "start_time": "2023-10-12T08:00:30.769453Z"
    }
   },
   "outputs": [],
   "source": [
    "#Import Libraries\n",
    "import pandas as pd\n",
    "import numpy as np\n",
    "from sklearn.model_selection import train_test_split\n",
    "from sklearn.impute import SimpleImputer\n",
    "from sklearn.linear_model import LinearRegression, Lasso, Ridge, ElasticNet\n",
    "from sklearn.preprocessing import OrdinalEncoder\n",
    "import warnings\n",
    "warnings.filterwarnings('ignore')\n"
   ]
  },
  {
   "cell_type": "code",
   "execution_count": 3,
   "id": "9ed21ed6",
   "metadata": {
    "ExecuteTime": {
     "end_time": "2023-10-12T08:00:36.960954Z",
     "start_time": "2023-10-12T08:00:36.387944Z"
    }
   },
   "outputs": [
    {
     "data": {
      "text/html": [
       "<div>\n",
       "<style scoped>\n",
       "    .dataframe tbody tr th:only-of-type {\n",
       "        vertical-align: middle;\n",
       "    }\n",
       "\n",
       "    .dataframe tbody tr th {\n",
       "        vertical-align: top;\n",
       "    }\n",
       "\n",
       "    .dataframe thead th {\n",
       "        text-align: right;\n",
       "    }\n",
       "</style>\n",
       "<table border=\"1\" class=\"dataframe\">\n",
       "  <thead>\n",
       "    <tr style=\"text-align: right;\">\n",
       "      <th></th>\n",
       "      <th>symboling</th>\n",
       "      <th>normalized-losses</th>\n",
       "      <th>make</th>\n",
       "      <th>fuel-type</th>\n",
       "      <th>body-style</th>\n",
       "      <th>drive-wheels</th>\n",
       "      <th>engine-location</th>\n",
       "      <th>width</th>\n",
       "      <th>height</th>\n",
       "      <th>engine-type</th>\n",
       "      <th>engine-size</th>\n",
       "      <th>horsepower</th>\n",
       "      <th>city-mpg</th>\n",
       "      <th>highway-mpg</th>\n",
       "      <th>price</th>\n",
       "    </tr>\n",
       "  </thead>\n",
       "  <tbody>\n",
       "    <tr>\n",
       "      <th>0</th>\n",
       "      <td>3</td>\n",
       "      <td>?</td>\n",
       "      <td>alfa-romero</td>\n",
       "      <td>gas</td>\n",
       "      <td>convertible</td>\n",
       "      <td>rwd</td>\n",
       "      <td>front</td>\n",
       "      <td>64.1</td>\n",
       "      <td>48.8</td>\n",
       "      <td>dohc</td>\n",
       "      <td>130</td>\n",
       "      <td>111</td>\n",
       "      <td>21</td>\n",
       "      <td>27</td>\n",
       "      <td>13495</td>\n",
       "    </tr>\n",
       "    <tr>\n",
       "      <th>1</th>\n",
       "      <td>3</td>\n",
       "      <td>?</td>\n",
       "      <td>alfa-romero</td>\n",
       "      <td>gas</td>\n",
       "      <td>convertible</td>\n",
       "      <td>rwd</td>\n",
       "      <td>front</td>\n",
       "      <td>64.1</td>\n",
       "      <td>48.8</td>\n",
       "      <td>dohc</td>\n",
       "      <td>130</td>\n",
       "      <td>111</td>\n",
       "      <td>21</td>\n",
       "      <td>27</td>\n",
       "      <td>16500</td>\n",
       "    </tr>\n",
       "    <tr>\n",
       "      <th>2</th>\n",
       "      <td>1</td>\n",
       "      <td>?</td>\n",
       "      <td>alfa-romero</td>\n",
       "      <td>gas</td>\n",
       "      <td>hatchback</td>\n",
       "      <td>rwd</td>\n",
       "      <td>front</td>\n",
       "      <td>65.5</td>\n",
       "      <td>52.4</td>\n",
       "      <td>ohcv</td>\n",
       "      <td>152</td>\n",
       "      <td>154</td>\n",
       "      <td>19</td>\n",
       "      <td>26</td>\n",
       "      <td>16500</td>\n",
       "    </tr>\n",
       "    <tr>\n",
       "      <th>3</th>\n",
       "      <td>2</td>\n",
       "      <td>164</td>\n",
       "      <td>audi</td>\n",
       "      <td>gas</td>\n",
       "      <td>sedan</td>\n",
       "      <td>fwd</td>\n",
       "      <td>front</td>\n",
       "      <td>66.2</td>\n",
       "      <td>54.3</td>\n",
       "      <td>ohc</td>\n",
       "      <td>109</td>\n",
       "      <td>102</td>\n",
       "      <td>24</td>\n",
       "      <td>30</td>\n",
       "      <td>13950</td>\n",
       "    </tr>\n",
       "    <tr>\n",
       "      <th>4</th>\n",
       "      <td>2</td>\n",
       "      <td>164</td>\n",
       "      <td>audi</td>\n",
       "      <td>gas</td>\n",
       "      <td>sedan</td>\n",
       "      <td>4wd</td>\n",
       "      <td>front</td>\n",
       "      <td>66.4</td>\n",
       "      <td>54.3</td>\n",
       "      <td>ohc</td>\n",
       "      <td>136</td>\n",
       "      <td>115</td>\n",
       "      <td>18</td>\n",
       "      <td>22</td>\n",
       "      <td>17450</td>\n",
       "    </tr>\n",
       "  </tbody>\n",
       "</table>\n",
       "</div>"
      ],
      "text/plain": [
       "   symboling normalized-losses         make fuel-type   body-style  \\\n",
       "0          3                 ?  alfa-romero       gas  convertible   \n",
       "1          3                 ?  alfa-romero       gas  convertible   \n",
       "2          1                 ?  alfa-romero       gas    hatchback   \n",
       "3          2               164         audi       gas        sedan   \n",
       "4          2               164         audi       gas        sedan   \n",
       "\n",
       "  drive-wheels engine-location  width  height engine-type  engine-size  \\\n",
       "0          rwd           front   64.1    48.8        dohc          130   \n",
       "1          rwd           front   64.1    48.8        dohc          130   \n",
       "2          rwd           front   65.5    52.4        ohcv          152   \n",
       "3          fwd           front   66.2    54.3         ohc          109   \n",
       "4          4wd           front   66.4    54.3         ohc          136   \n",
       "\n",
       "  horsepower  city-mpg  highway-mpg  price  \n",
       "0        111        21           27  13495  \n",
       "1        111        21           27  16500  \n",
       "2        154        19           26  16500  \n",
       "3        102        24           30  13950  \n",
       "4        115        18           22  17450  "
      ]
     },
     "execution_count": 3,
     "metadata": {},
     "output_type": "execute_result"
    }
   ],
   "source": [
    "df = pd.read_csv('https://raw.githubusercontent.com/aishwaryamate/Datasets/main/cars.csv')\n",
    "df.head()\n"
   ]
  },
  {
   "cell_type": "markdown",
   "id": "bdf14768",
   "metadata": {
    "ExecuteTime": {
     "end_time": "2023-02-01T05:08:36.165434Z",
     "start_time": "2023-02-01T05:08:36.144319Z"
    }
   },
   "source": [
    "# EDA"
   ]
  },
  {
   "cell_type": "code",
   "execution_count": 4,
   "id": "b66b0dab",
   "metadata": {
    "ExecuteTime": {
     "end_time": "2023-10-12T08:01:27.330254Z",
     "start_time": "2023-10-12T08:01:27.288233Z"
    }
   },
   "outputs": [
    {
     "name": "stdout",
     "output_type": "stream",
     "text": [
      "<class 'pandas.core.frame.DataFrame'>\n",
      "RangeIndex: 205 entries, 0 to 204\n",
      "Data columns (total 15 columns):\n",
      " #   Column             Non-Null Count  Dtype  \n",
      "---  ------             --------------  -----  \n",
      " 0   symboling          205 non-null    int64  \n",
      " 1   normalized-losses  205 non-null    object \n",
      " 2   make               205 non-null    object \n",
      " 3   fuel-type          205 non-null    object \n",
      " 4   body-style         205 non-null    object \n",
      " 5   drive-wheels       205 non-null    object \n",
      " 6   engine-location    205 non-null    object \n",
      " 7   width              205 non-null    float64\n",
      " 8   height             205 non-null    float64\n",
      " 9   engine-type        205 non-null    object \n",
      " 10  engine-size        205 non-null    int64  \n",
      " 11  horsepower         205 non-null    object \n",
      " 12  city-mpg           205 non-null    int64  \n",
      " 13  highway-mpg        205 non-null    int64  \n",
      " 14  price              205 non-null    int64  \n",
      "dtypes: float64(2), int64(5), object(8)\n",
      "memory usage: 24.2+ KB\n"
     ]
    }
   ],
   "source": [
    "df.info()\n"
   ]
  },
  {
   "cell_type": "code",
   "execution_count": 5,
   "id": "57f24111",
   "metadata": {
    "ExecuteTime": {
     "end_time": "2023-10-12T08:01:55.795498Z",
     "start_time": "2023-10-12T08:01:55.769036Z"
    }
   },
   "outputs": [
    {
     "data": {
      "text/plain": [
       "symboling            0\n",
       "normalized-losses    0\n",
       "make                 0\n",
       "fuel-type            0\n",
       "body-style           0\n",
       "drive-wheels         0\n",
       "engine-location      0\n",
       "width                0\n",
       "height               0\n",
       "engine-type          0\n",
       "engine-size          0\n",
       "horsepower           0\n",
       "city-mpg             0\n",
       "highway-mpg          0\n",
       "price                0\n",
       "dtype: int64"
      ]
     },
     "execution_count": 5,
     "metadata": {},
     "output_type": "execute_result"
    }
   ],
   "source": [
    "df.isna().sum()\n"
   ]
  },
  {
   "cell_type": "code",
   "execution_count": 6,
   "id": "ba7ae247",
   "metadata": {
    "ExecuteTime": {
     "end_time": "2023-10-12T08:04:24.047793Z",
     "start_time": "2023-10-12T08:04:24.022151Z"
    }
   },
   "outputs": [],
   "source": [
    "df.replace('?', np.nan, inplace=True)\n"
   ]
  },
  {
   "cell_type": "code",
   "execution_count": 7,
   "id": "ac199fe6",
   "metadata": {
    "ExecuteTime": {
     "end_time": "2023-10-12T08:04:27.830869Z",
     "start_time": "2023-10-12T08:04:27.807072Z"
    }
   },
   "outputs": [
    {
     "data": {
      "text/plain": [
       "symboling             0\n",
       "normalized-losses    41\n",
       "make                  0\n",
       "fuel-type             0\n",
       "body-style            0\n",
       "drive-wheels          0\n",
       "engine-location       0\n",
       "width                 0\n",
       "height                0\n",
       "engine-type           0\n",
       "engine-size           0\n",
       "horsepower            2\n",
       "city-mpg              0\n",
       "highway-mpg           0\n",
       "price                 0\n",
       "dtype: int64"
      ]
     },
     "execution_count": 7,
     "metadata": {},
     "output_type": "execute_result"
    }
   ],
   "source": [
    "df.isna().sum()\n"
   ]
  },
  {
   "cell_type": "code",
   "execution_count": 8,
   "id": "7c3c6f78",
   "metadata": {
    "ExecuteTime": {
     "end_time": "2023-10-12T08:05:11.027672Z",
     "start_time": "2023-10-12T08:05:10.953246Z"
    }
   },
   "outputs": [
    {
     "data": {
      "text/html": [
       "<div>\n",
       "<style scoped>\n",
       "    .dataframe tbody tr th:only-of-type {\n",
       "        vertical-align: middle;\n",
       "    }\n",
       "\n",
       "    .dataframe tbody tr th {\n",
       "        vertical-align: top;\n",
       "    }\n",
       "\n",
       "    .dataframe thead th {\n",
       "        text-align: right;\n",
       "    }\n",
       "</style>\n",
       "<table border=\"1\" class=\"dataframe\">\n",
       "  <thead>\n",
       "    <tr style=\"text-align: right;\">\n",
       "      <th></th>\n",
       "      <th>symboling</th>\n",
       "      <th>normalized-losses</th>\n",
       "      <th>make</th>\n",
       "      <th>fuel-type</th>\n",
       "      <th>body-style</th>\n",
       "      <th>drive-wheels</th>\n",
       "      <th>engine-location</th>\n",
       "      <th>width</th>\n",
       "      <th>height</th>\n",
       "      <th>engine-type</th>\n",
       "      <th>engine-size</th>\n",
       "      <th>horsepower</th>\n",
       "      <th>city-mpg</th>\n",
       "      <th>highway-mpg</th>\n",
       "      <th>price</th>\n",
       "    </tr>\n",
       "  </thead>\n",
       "  <tbody>\n",
       "    <tr>\n",
       "      <th>0</th>\n",
       "      <td>3</td>\n",
       "      <td>NaN</td>\n",
       "      <td>alfa-romero</td>\n",
       "      <td>gas</td>\n",
       "      <td>convertible</td>\n",
       "      <td>rwd</td>\n",
       "      <td>front</td>\n",
       "      <td>64.1</td>\n",
       "      <td>48.8</td>\n",
       "      <td>dohc</td>\n",
       "      <td>130</td>\n",
       "      <td>111</td>\n",
       "      <td>21</td>\n",
       "      <td>27</td>\n",
       "      <td>13495</td>\n",
       "    </tr>\n",
       "    <tr>\n",
       "      <th>1</th>\n",
       "      <td>3</td>\n",
       "      <td>NaN</td>\n",
       "      <td>alfa-romero</td>\n",
       "      <td>gas</td>\n",
       "      <td>convertible</td>\n",
       "      <td>rwd</td>\n",
       "      <td>front</td>\n",
       "      <td>64.1</td>\n",
       "      <td>48.8</td>\n",
       "      <td>dohc</td>\n",
       "      <td>130</td>\n",
       "      <td>111</td>\n",
       "      <td>21</td>\n",
       "      <td>27</td>\n",
       "      <td>16500</td>\n",
       "    </tr>\n",
       "    <tr>\n",
       "      <th>2</th>\n",
       "      <td>1</td>\n",
       "      <td>NaN</td>\n",
       "      <td>alfa-romero</td>\n",
       "      <td>gas</td>\n",
       "      <td>hatchback</td>\n",
       "      <td>rwd</td>\n",
       "      <td>front</td>\n",
       "      <td>65.5</td>\n",
       "      <td>52.4</td>\n",
       "      <td>ohcv</td>\n",
       "      <td>152</td>\n",
       "      <td>154</td>\n",
       "      <td>19</td>\n",
       "      <td>26</td>\n",
       "      <td>16500</td>\n",
       "    </tr>\n",
       "    <tr>\n",
       "      <th>3</th>\n",
       "      <td>2</td>\n",
       "      <td>164</td>\n",
       "      <td>audi</td>\n",
       "      <td>gas</td>\n",
       "      <td>sedan</td>\n",
       "      <td>fwd</td>\n",
       "      <td>front</td>\n",
       "      <td>66.2</td>\n",
       "      <td>54.3</td>\n",
       "      <td>ohc</td>\n",
       "      <td>109</td>\n",
       "      <td>102</td>\n",
       "      <td>24</td>\n",
       "      <td>30</td>\n",
       "      <td>13950</td>\n",
       "    </tr>\n",
       "    <tr>\n",
       "      <th>4</th>\n",
       "      <td>2</td>\n",
       "      <td>164</td>\n",
       "      <td>audi</td>\n",
       "      <td>gas</td>\n",
       "      <td>sedan</td>\n",
       "      <td>4wd</td>\n",
       "      <td>front</td>\n",
       "      <td>66.4</td>\n",
       "      <td>54.3</td>\n",
       "      <td>ohc</td>\n",
       "      <td>136</td>\n",
       "      <td>115</td>\n",
       "      <td>18</td>\n",
       "      <td>22</td>\n",
       "      <td>17450</td>\n",
       "    </tr>\n",
       "    <tr>\n",
       "      <th>...</th>\n",
       "      <td>...</td>\n",
       "      <td>...</td>\n",
       "      <td>...</td>\n",
       "      <td>...</td>\n",
       "      <td>...</td>\n",
       "      <td>...</td>\n",
       "      <td>...</td>\n",
       "      <td>...</td>\n",
       "      <td>...</td>\n",
       "      <td>...</td>\n",
       "      <td>...</td>\n",
       "      <td>...</td>\n",
       "      <td>...</td>\n",
       "      <td>...</td>\n",
       "      <td>...</td>\n",
       "    </tr>\n",
       "    <tr>\n",
       "      <th>200</th>\n",
       "      <td>-1</td>\n",
       "      <td>95</td>\n",
       "      <td>volvo</td>\n",
       "      <td>gas</td>\n",
       "      <td>sedan</td>\n",
       "      <td>rwd</td>\n",
       "      <td>front</td>\n",
       "      <td>68.9</td>\n",
       "      <td>55.5</td>\n",
       "      <td>ohc</td>\n",
       "      <td>141</td>\n",
       "      <td>114</td>\n",
       "      <td>23</td>\n",
       "      <td>28</td>\n",
       "      <td>16845</td>\n",
       "    </tr>\n",
       "    <tr>\n",
       "      <th>201</th>\n",
       "      <td>-1</td>\n",
       "      <td>95</td>\n",
       "      <td>volvo</td>\n",
       "      <td>gas</td>\n",
       "      <td>sedan</td>\n",
       "      <td>rwd</td>\n",
       "      <td>front</td>\n",
       "      <td>68.8</td>\n",
       "      <td>55.5</td>\n",
       "      <td>ohc</td>\n",
       "      <td>141</td>\n",
       "      <td>160</td>\n",
       "      <td>19</td>\n",
       "      <td>25</td>\n",
       "      <td>19045</td>\n",
       "    </tr>\n",
       "    <tr>\n",
       "      <th>202</th>\n",
       "      <td>-1</td>\n",
       "      <td>95</td>\n",
       "      <td>volvo</td>\n",
       "      <td>gas</td>\n",
       "      <td>sedan</td>\n",
       "      <td>rwd</td>\n",
       "      <td>front</td>\n",
       "      <td>68.9</td>\n",
       "      <td>55.5</td>\n",
       "      <td>ohcv</td>\n",
       "      <td>173</td>\n",
       "      <td>134</td>\n",
       "      <td>18</td>\n",
       "      <td>23</td>\n",
       "      <td>21485</td>\n",
       "    </tr>\n",
       "    <tr>\n",
       "      <th>203</th>\n",
       "      <td>-1</td>\n",
       "      <td>95</td>\n",
       "      <td>volvo</td>\n",
       "      <td>diesel</td>\n",
       "      <td>sedan</td>\n",
       "      <td>rwd</td>\n",
       "      <td>front</td>\n",
       "      <td>68.9</td>\n",
       "      <td>55.5</td>\n",
       "      <td>ohc</td>\n",
       "      <td>145</td>\n",
       "      <td>106</td>\n",
       "      <td>26</td>\n",
       "      <td>27</td>\n",
       "      <td>22470</td>\n",
       "    </tr>\n",
       "    <tr>\n",
       "      <th>204</th>\n",
       "      <td>-1</td>\n",
       "      <td>95</td>\n",
       "      <td>volvo</td>\n",
       "      <td>gas</td>\n",
       "      <td>sedan</td>\n",
       "      <td>rwd</td>\n",
       "      <td>front</td>\n",
       "      <td>68.9</td>\n",
       "      <td>55.5</td>\n",
       "      <td>ohc</td>\n",
       "      <td>141</td>\n",
       "      <td>114</td>\n",
       "      <td>19</td>\n",
       "      <td>25</td>\n",
       "      <td>22625</td>\n",
       "    </tr>\n",
       "  </tbody>\n",
       "</table>\n",
       "<p>205 rows × 15 columns</p>\n",
       "</div>"
      ],
      "text/plain": [
       "     symboling normalized-losses         make fuel-type   body-style  \\\n",
       "0            3               NaN  alfa-romero       gas  convertible   \n",
       "1            3               NaN  alfa-romero       gas  convertible   \n",
       "2            1               NaN  alfa-romero       gas    hatchback   \n",
       "3            2               164         audi       gas        sedan   \n",
       "4            2               164         audi       gas        sedan   \n",
       "..         ...               ...          ...       ...          ...   \n",
       "200         -1                95        volvo       gas        sedan   \n",
       "201         -1                95        volvo       gas        sedan   \n",
       "202         -1                95        volvo       gas        sedan   \n",
       "203         -1                95        volvo    diesel        sedan   \n",
       "204         -1                95        volvo       gas        sedan   \n",
       "\n",
       "    drive-wheels engine-location  width  height engine-type  engine-size  \\\n",
       "0            rwd           front   64.1    48.8        dohc          130   \n",
       "1            rwd           front   64.1    48.8        dohc          130   \n",
       "2            rwd           front   65.5    52.4        ohcv          152   \n",
       "3            fwd           front   66.2    54.3         ohc          109   \n",
       "4            4wd           front   66.4    54.3         ohc          136   \n",
       "..           ...             ...    ...     ...         ...          ...   \n",
       "200          rwd           front   68.9    55.5         ohc          141   \n",
       "201          rwd           front   68.8    55.5         ohc          141   \n",
       "202          rwd           front   68.9    55.5        ohcv          173   \n",
       "203          rwd           front   68.9    55.5         ohc          145   \n",
       "204          rwd           front   68.9    55.5         ohc          141   \n",
       "\n",
       "    horsepower  city-mpg  highway-mpg  price  \n",
       "0          111        21           27  13495  \n",
       "1          111        21           27  16500  \n",
       "2          154        19           26  16500  \n",
       "3          102        24           30  13950  \n",
       "4          115        18           22  17450  \n",
       "..         ...       ...          ...    ...  \n",
       "200        114        23           28  16845  \n",
       "201        160        19           25  19045  \n",
       "202        134        18           23  21485  \n",
       "203        106        26           27  22470  \n",
       "204        114        19           25  22625  \n",
       "\n",
       "[205 rows x 15 columns]"
      ]
     },
     "execution_count": 8,
     "metadata": {},
     "output_type": "execute_result"
    }
   ],
   "source": [
    "df\n"
   ]
  },
  {
   "cell_type": "code",
   "execution_count": 9,
   "id": "0723084a",
   "metadata": {
    "ExecuteTime": {
     "end_time": "2023-10-12T08:06:27.806677Z",
     "start_time": "2023-10-12T08:06:27.793637Z"
    }
   },
   "outputs": [],
   "source": [
    "si = SimpleImputer(strategy='median')\n"
   ]
  },
  {
   "cell_type": "code",
   "execution_count": 10,
   "id": "2061548a",
   "metadata": {
    "ExecuteTime": {
     "end_time": "2023-10-12T08:06:30.247081Z",
     "start_time": "2023-10-12T08:06:30.229315Z"
    }
   },
   "outputs": [
    {
     "data": {
      "text/html": [
       "<div>\n",
       "<style scoped>\n",
       "    .dataframe tbody tr th:only-of-type {\n",
       "        vertical-align: middle;\n",
       "    }\n",
       "\n",
       "    .dataframe tbody tr th {\n",
       "        vertical-align: top;\n",
       "    }\n",
       "\n",
       "    .dataframe thead th {\n",
       "        text-align: right;\n",
       "    }\n",
       "</style>\n",
       "<table border=\"1\" class=\"dataframe\">\n",
       "  <thead>\n",
       "    <tr style=\"text-align: right;\">\n",
       "      <th></th>\n",
       "      <th>normalized-losses</th>\n",
       "      <th>horsepower</th>\n",
       "    </tr>\n",
       "  </thead>\n",
       "  <tbody>\n",
       "    <tr>\n",
       "      <th>0</th>\n",
       "      <td>NaN</td>\n",
       "      <td>111</td>\n",
       "    </tr>\n",
       "    <tr>\n",
       "      <th>1</th>\n",
       "      <td>NaN</td>\n",
       "      <td>111</td>\n",
       "    </tr>\n",
       "    <tr>\n",
       "      <th>2</th>\n",
       "      <td>NaN</td>\n",
       "      <td>154</td>\n",
       "    </tr>\n",
       "    <tr>\n",
       "      <th>3</th>\n",
       "      <td>164</td>\n",
       "      <td>102</td>\n",
       "    </tr>\n",
       "    <tr>\n",
       "      <th>4</th>\n",
       "      <td>164</td>\n",
       "      <td>115</td>\n",
       "    </tr>\n",
       "    <tr>\n",
       "      <th>...</th>\n",
       "      <td>...</td>\n",
       "      <td>...</td>\n",
       "    </tr>\n",
       "    <tr>\n",
       "      <th>200</th>\n",
       "      <td>95</td>\n",
       "      <td>114</td>\n",
       "    </tr>\n",
       "    <tr>\n",
       "      <th>201</th>\n",
       "      <td>95</td>\n",
       "      <td>160</td>\n",
       "    </tr>\n",
       "    <tr>\n",
       "      <th>202</th>\n",
       "      <td>95</td>\n",
       "      <td>134</td>\n",
       "    </tr>\n",
       "    <tr>\n",
       "      <th>203</th>\n",
       "      <td>95</td>\n",
       "      <td>106</td>\n",
       "    </tr>\n",
       "    <tr>\n",
       "      <th>204</th>\n",
       "      <td>95</td>\n",
       "      <td>114</td>\n",
       "    </tr>\n",
       "  </tbody>\n",
       "</table>\n",
       "<p>205 rows × 2 columns</p>\n",
       "</div>"
      ],
      "text/plain": [
       "    normalized-losses horsepower\n",
       "0                 NaN        111\n",
       "1                 NaN        111\n",
       "2                 NaN        154\n",
       "3                 164        102\n",
       "4                 164        115\n",
       "..                ...        ...\n",
       "200                95        114\n",
       "201                95        160\n",
       "202                95        134\n",
       "203                95        106\n",
       "204                95        114\n",
       "\n",
       "[205 rows x 2 columns]"
      ]
     },
     "execution_count": 10,
     "metadata": {},
     "output_type": "execute_result"
    }
   ],
   "source": [
    "df.iloc[:,[1,11]]\n"
   ]
  },
  {
   "cell_type": "code",
   "execution_count": 11,
   "id": "21586706",
   "metadata": {
    "ExecuteTime": {
     "end_time": "2023-10-12T08:07:52.002786Z",
     "start_time": "2023-10-12T08:07:51.988631Z"
    }
   },
   "outputs": [],
   "source": [
    "df.iloc[:,[1,11]] = si.fit_transform(df.iloc[:,[1,11]])\n"
   ]
  },
  {
   "cell_type": "code",
   "execution_count": 12,
   "id": "17177c7d",
   "metadata": {
    "ExecuteTime": {
     "end_time": "2023-10-12T08:07:53.325792Z",
     "start_time": "2023-10-12T08:07:53.298760Z"
    }
   },
   "outputs": [
    {
     "data": {
      "text/plain": [
       "symboling            0\n",
       "normalized-losses    0\n",
       "make                 0\n",
       "fuel-type            0\n",
       "body-style           0\n",
       "drive-wheels         0\n",
       "engine-location      0\n",
       "width                0\n",
       "height               0\n",
       "engine-type          0\n",
       "engine-size          0\n",
       "horsepower           0\n",
       "city-mpg             0\n",
       "highway-mpg          0\n",
       "price                0\n",
       "dtype: int64"
      ]
     },
     "execution_count": 12,
     "metadata": {},
     "output_type": "execute_result"
    }
   ],
   "source": [
    "df.isna().sum()\n"
   ]
  },
  {
   "cell_type": "code",
   "execution_count": 13,
   "id": "0d50dcb6-0eec-4c06-823c-501e600d6168",
   "metadata": {},
   "outputs": [
    {
     "data": {
      "text/plain": [
       "symboling              int64\n",
       "normalized-losses    float64\n",
       "make                  object\n",
       "fuel-type             object\n",
       "body-style            object\n",
       "drive-wheels          object\n",
       "engine-location       object\n",
       "width                float64\n",
       "height               float64\n",
       "engine-type           object\n",
       "engine-size            int64\n",
       "horsepower           float64\n",
       "city-mpg               int64\n",
       "highway-mpg            int64\n",
       "price                  int64\n",
       "dtype: object"
      ]
     },
     "execution_count": 13,
     "metadata": {},
     "output_type": "execute_result"
    }
   ],
   "source": [
    "df.dtypes\n"
   ]
  },
  {
   "cell_type": "code",
   "execution_count": 14,
   "id": "805c2ef9-237c-4638-b34d-13a8583cd2b4",
   "metadata": {},
   "outputs": [],
   "source": [
    "df['normalized-losses'] = df['normalized-losses'].astype(int)\n",
    "df['horsepower'] = df['horsepower'].astype(int)\n"
   ]
  },
  {
   "cell_type": "code",
   "execution_count": 15,
   "id": "bc29a4b8-4bdf-40a6-9091-5c9ee820b3dd",
   "metadata": {},
   "outputs": [
    {
     "data": {
      "text/plain": [
       "symboling              int64\n",
       "normalized-losses      int32\n",
       "make                  object\n",
       "fuel-type             object\n",
       "body-style            object\n",
       "drive-wheels          object\n",
       "engine-location       object\n",
       "width                float64\n",
       "height               float64\n",
       "engine-type           object\n",
       "engine-size            int64\n",
       "horsepower             int32\n",
       "city-mpg               int64\n",
       "highway-mpg            int64\n",
       "price                  int64\n",
       "dtype: object"
      ]
     },
     "execution_count": 15,
     "metadata": {},
     "output_type": "execute_result"
    }
   ],
   "source": [
    "df.dtypes\n"
   ]
  },
  {
   "cell_type": "code",
   "execution_count": 16,
   "id": "5f2c80d2",
   "metadata": {
    "ExecuteTime": {
     "end_time": "2023-10-12T08:07:59.823918Z",
     "start_time": "2023-10-12T08:07:59.772202Z"
    }
   },
   "outputs": [
    {
     "data": {
      "text/html": [
       "<div>\n",
       "<style scoped>\n",
       "    .dataframe tbody tr th:only-of-type {\n",
       "        vertical-align: middle;\n",
       "    }\n",
       "\n",
       "    .dataframe tbody tr th {\n",
       "        vertical-align: top;\n",
       "    }\n",
       "\n",
       "    .dataframe thead th {\n",
       "        text-align: right;\n",
       "    }\n",
       "</style>\n",
       "<table border=\"1\" class=\"dataframe\">\n",
       "  <thead>\n",
       "    <tr style=\"text-align: right;\">\n",
       "      <th></th>\n",
       "      <th>symboling</th>\n",
       "      <th>normalized-losses</th>\n",
       "      <th>make</th>\n",
       "      <th>fuel-type</th>\n",
       "      <th>body-style</th>\n",
       "      <th>drive-wheels</th>\n",
       "      <th>engine-location</th>\n",
       "      <th>width</th>\n",
       "      <th>height</th>\n",
       "      <th>engine-type</th>\n",
       "      <th>engine-size</th>\n",
       "      <th>horsepower</th>\n",
       "      <th>city-mpg</th>\n",
       "      <th>highway-mpg</th>\n",
       "      <th>price</th>\n",
       "    </tr>\n",
       "  </thead>\n",
       "  <tbody>\n",
       "    <tr>\n",
       "      <th>0</th>\n",
       "      <td>3</td>\n",
       "      <td>115</td>\n",
       "      <td>alfa-romero</td>\n",
       "      <td>gas</td>\n",
       "      <td>convertible</td>\n",
       "      <td>rwd</td>\n",
       "      <td>front</td>\n",
       "      <td>64.1</td>\n",
       "      <td>48.8</td>\n",
       "      <td>dohc</td>\n",
       "      <td>130</td>\n",
       "      <td>111</td>\n",
       "      <td>21</td>\n",
       "      <td>27</td>\n",
       "      <td>13495</td>\n",
       "    </tr>\n",
       "    <tr>\n",
       "      <th>1</th>\n",
       "      <td>3</td>\n",
       "      <td>115</td>\n",
       "      <td>alfa-romero</td>\n",
       "      <td>gas</td>\n",
       "      <td>convertible</td>\n",
       "      <td>rwd</td>\n",
       "      <td>front</td>\n",
       "      <td>64.1</td>\n",
       "      <td>48.8</td>\n",
       "      <td>dohc</td>\n",
       "      <td>130</td>\n",
       "      <td>111</td>\n",
       "      <td>21</td>\n",
       "      <td>27</td>\n",
       "      <td>16500</td>\n",
       "    </tr>\n",
       "    <tr>\n",
       "      <th>2</th>\n",
       "      <td>1</td>\n",
       "      <td>115</td>\n",
       "      <td>alfa-romero</td>\n",
       "      <td>gas</td>\n",
       "      <td>hatchback</td>\n",
       "      <td>rwd</td>\n",
       "      <td>front</td>\n",
       "      <td>65.5</td>\n",
       "      <td>52.4</td>\n",
       "      <td>ohcv</td>\n",
       "      <td>152</td>\n",
       "      <td>154</td>\n",
       "      <td>19</td>\n",
       "      <td>26</td>\n",
       "      <td>16500</td>\n",
       "    </tr>\n",
       "    <tr>\n",
       "      <th>3</th>\n",
       "      <td>2</td>\n",
       "      <td>164</td>\n",
       "      <td>audi</td>\n",
       "      <td>gas</td>\n",
       "      <td>sedan</td>\n",
       "      <td>fwd</td>\n",
       "      <td>front</td>\n",
       "      <td>66.2</td>\n",
       "      <td>54.3</td>\n",
       "      <td>ohc</td>\n",
       "      <td>109</td>\n",
       "      <td>102</td>\n",
       "      <td>24</td>\n",
       "      <td>30</td>\n",
       "      <td>13950</td>\n",
       "    </tr>\n",
       "    <tr>\n",
       "      <th>4</th>\n",
       "      <td>2</td>\n",
       "      <td>164</td>\n",
       "      <td>audi</td>\n",
       "      <td>gas</td>\n",
       "      <td>sedan</td>\n",
       "      <td>4wd</td>\n",
       "      <td>front</td>\n",
       "      <td>66.4</td>\n",
       "      <td>54.3</td>\n",
       "      <td>ohc</td>\n",
       "      <td>136</td>\n",
       "      <td>115</td>\n",
       "      <td>18</td>\n",
       "      <td>22</td>\n",
       "      <td>17450</td>\n",
       "    </tr>\n",
       "    <tr>\n",
       "      <th>...</th>\n",
       "      <td>...</td>\n",
       "      <td>...</td>\n",
       "      <td>...</td>\n",
       "      <td>...</td>\n",
       "      <td>...</td>\n",
       "      <td>...</td>\n",
       "      <td>...</td>\n",
       "      <td>...</td>\n",
       "      <td>...</td>\n",
       "      <td>...</td>\n",
       "      <td>...</td>\n",
       "      <td>...</td>\n",
       "      <td>...</td>\n",
       "      <td>...</td>\n",
       "      <td>...</td>\n",
       "    </tr>\n",
       "    <tr>\n",
       "      <th>200</th>\n",
       "      <td>-1</td>\n",
       "      <td>95</td>\n",
       "      <td>volvo</td>\n",
       "      <td>gas</td>\n",
       "      <td>sedan</td>\n",
       "      <td>rwd</td>\n",
       "      <td>front</td>\n",
       "      <td>68.9</td>\n",
       "      <td>55.5</td>\n",
       "      <td>ohc</td>\n",
       "      <td>141</td>\n",
       "      <td>114</td>\n",
       "      <td>23</td>\n",
       "      <td>28</td>\n",
       "      <td>16845</td>\n",
       "    </tr>\n",
       "    <tr>\n",
       "      <th>201</th>\n",
       "      <td>-1</td>\n",
       "      <td>95</td>\n",
       "      <td>volvo</td>\n",
       "      <td>gas</td>\n",
       "      <td>sedan</td>\n",
       "      <td>rwd</td>\n",
       "      <td>front</td>\n",
       "      <td>68.8</td>\n",
       "      <td>55.5</td>\n",
       "      <td>ohc</td>\n",
       "      <td>141</td>\n",
       "      <td>160</td>\n",
       "      <td>19</td>\n",
       "      <td>25</td>\n",
       "      <td>19045</td>\n",
       "    </tr>\n",
       "    <tr>\n",
       "      <th>202</th>\n",
       "      <td>-1</td>\n",
       "      <td>95</td>\n",
       "      <td>volvo</td>\n",
       "      <td>gas</td>\n",
       "      <td>sedan</td>\n",
       "      <td>rwd</td>\n",
       "      <td>front</td>\n",
       "      <td>68.9</td>\n",
       "      <td>55.5</td>\n",
       "      <td>ohcv</td>\n",
       "      <td>173</td>\n",
       "      <td>134</td>\n",
       "      <td>18</td>\n",
       "      <td>23</td>\n",
       "      <td>21485</td>\n",
       "    </tr>\n",
       "    <tr>\n",
       "      <th>203</th>\n",
       "      <td>-1</td>\n",
       "      <td>95</td>\n",
       "      <td>volvo</td>\n",
       "      <td>diesel</td>\n",
       "      <td>sedan</td>\n",
       "      <td>rwd</td>\n",
       "      <td>front</td>\n",
       "      <td>68.9</td>\n",
       "      <td>55.5</td>\n",
       "      <td>ohc</td>\n",
       "      <td>145</td>\n",
       "      <td>106</td>\n",
       "      <td>26</td>\n",
       "      <td>27</td>\n",
       "      <td>22470</td>\n",
       "    </tr>\n",
       "    <tr>\n",
       "      <th>204</th>\n",
       "      <td>-1</td>\n",
       "      <td>95</td>\n",
       "      <td>volvo</td>\n",
       "      <td>gas</td>\n",
       "      <td>sedan</td>\n",
       "      <td>rwd</td>\n",
       "      <td>front</td>\n",
       "      <td>68.9</td>\n",
       "      <td>55.5</td>\n",
       "      <td>ohc</td>\n",
       "      <td>141</td>\n",
       "      <td>114</td>\n",
       "      <td>19</td>\n",
       "      <td>25</td>\n",
       "      <td>22625</td>\n",
       "    </tr>\n",
       "  </tbody>\n",
       "</table>\n",
       "<p>205 rows × 15 columns</p>\n",
       "</div>"
      ],
      "text/plain": [
       "     symboling  normalized-losses         make fuel-type   body-style  \\\n",
       "0            3                115  alfa-romero       gas  convertible   \n",
       "1            3                115  alfa-romero       gas  convertible   \n",
       "2            1                115  alfa-romero       gas    hatchback   \n",
       "3            2                164         audi       gas        sedan   \n",
       "4            2                164         audi       gas        sedan   \n",
       "..         ...                ...          ...       ...          ...   \n",
       "200         -1                 95        volvo       gas        sedan   \n",
       "201         -1                 95        volvo       gas        sedan   \n",
       "202         -1                 95        volvo       gas        sedan   \n",
       "203         -1                 95        volvo    diesel        sedan   \n",
       "204         -1                 95        volvo       gas        sedan   \n",
       "\n",
       "    drive-wheels engine-location  width  height engine-type  engine-size  \\\n",
       "0            rwd           front   64.1    48.8        dohc          130   \n",
       "1            rwd           front   64.1    48.8        dohc          130   \n",
       "2            rwd           front   65.5    52.4        ohcv          152   \n",
       "3            fwd           front   66.2    54.3         ohc          109   \n",
       "4            4wd           front   66.4    54.3         ohc          136   \n",
       "..           ...             ...    ...     ...         ...          ...   \n",
       "200          rwd           front   68.9    55.5         ohc          141   \n",
       "201          rwd           front   68.8    55.5         ohc          141   \n",
       "202          rwd           front   68.9    55.5        ohcv          173   \n",
       "203          rwd           front   68.9    55.5         ohc          145   \n",
       "204          rwd           front   68.9    55.5         ohc          141   \n",
       "\n",
       "     horsepower  city-mpg  highway-mpg  price  \n",
       "0           111        21           27  13495  \n",
       "1           111        21           27  16500  \n",
       "2           154        19           26  16500  \n",
       "3           102        24           30  13950  \n",
       "4           115        18           22  17450  \n",
       "..          ...       ...          ...    ...  \n",
       "200         114        23           28  16845  \n",
       "201         160        19           25  19045  \n",
       "202         134        18           23  21485  \n",
       "203         106        26           27  22470  \n",
       "204         114        19           25  22625  \n",
       "\n",
       "[205 rows x 15 columns]"
      ]
     },
     "execution_count": 16,
     "metadata": {},
     "output_type": "execute_result"
    }
   ],
   "source": [
    "df\n"
   ]
  },
  {
   "cell_type": "code",
   "execution_count": 17,
   "id": "f048fc5f-3096-43ad-a1b6-bd682b9f3c95",
   "metadata": {},
   "outputs": [
    {
     "data": {
      "text/plain": [
       "Index(['make', 'fuel-type', 'body-style', 'drive-wheels', 'engine-location',\n",
       "       'engine-type'],\n",
       "      dtype='object')"
      ]
     },
     "execution_count": 17,
     "metadata": {},
     "output_type": "execute_result"
    }
   ],
   "source": [
    "df.select_dtypes(object).columns\n"
   ]
  },
  {
   "cell_type": "code",
   "execution_count": 18,
   "id": "903d29a0",
   "metadata": {
    "ExecuteTime": {
     "end_time": "2023-10-12T08:13:50.707654Z",
     "start_time": "2023-10-12T08:13:50.692677Z"
    }
   },
   "outputs": [
    {
     "data": {
      "text/plain": [
       "Index(['make', 'fuel-type', 'body-style', 'drive-wheels', 'engine-location',\n",
       "       'engine-type'],\n",
       "      dtype='object')"
      ]
     },
     "execution_count": 18,
     "metadata": {},
     "output_type": "execute_result"
    }
   ],
   "source": [
    "cat_cols = df.select_dtypes(object).columns\n",
    "cat_cols\n"
   ]
  },
  {
   "cell_type": "code",
   "execution_count": 19,
   "id": "31398812-1db4-455e-8a04-96c959dfe049",
   "metadata": {},
   "outputs": [
    {
     "data": {
      "text/html": [
       "<div>\n",
       "<style scoped>\n",
       "    .dataframe tbody tr th:only-of-type {\n",
       "        vertical-align: middle;\n",
       "    }\n",
       "\n",
       "    .dataframe tbody tr th {\n",
       "        vertical-align: top;\n",
       "    }\n",
       "\n",
       "    .dataframe thead th {\n",
       "        text-align: right;\n",
       "    }\n",
       "</style>\n",
       "<table border=\"1\" class=\"dataframe\">\n",
       "  <thead>\n",
       "    <tr style=\"text-align: right;\">\n",
       "      <th></th>\n",
       "      <th>make</th>\n",
       "      <th>fuel-type</th>\n",
       "      <th>body-style</th>\n",
       "      <th>drive-wheels</th>\n",
       "      <th>engine-location</th>\n",
       "      <th>engine-type</th>\n",
       "    </tr>\n",
       "  </thead>\n",
       "  <tbody>\n",
       "    <tr>\n",
       "      <th>0</th>\n",
       "      <td>alfa-romero</td>\n",
       "      <td>gas</td>\n",
       "      <td>convertible</td>\n",
       "      <td>rwd</td>\n",
       "      <td>front</td>\n",
       "      <td>dohc</td>\n",
       "    </tr>\n",
       "    <tr>\n",
       "      <th>1</th>\n",
       "      <td>alfa-romero</td>\n",
       "      <td>gas</td>\n",
       "      <td>convertible</td>\n",
       "      <td>rwd</td>\n",
       "      <td>front</td>\n",
       "      <td>dohc</td>\n",
       "    </tr>\n",
       "    <tr>\n",
       "      <th>2</th>\n",
       "      <td>alfa-romero</td>\n",
       "      <td>gas</td>\n",
       "      <td>hatchback</td>\n",
       "      <td>rwd</td>\n",
       "      <td>front</td>\n",
       "      <td>ohcv</td>\n",
       "    </tr>\n",
       "    <tr>\n",
       "      <th>3</th>\n",
       "      <td>audi</td>\n",
       "      <td>gas</td>\n",
       "      <td>sedan</td>\n",
       "      <td>fwd</td>\n",
       "      <td>front</td>\n",
       "      <td>ohc</td>\n",
       "    </tr>\n",
       "    <tr>\n",
       "      <th>4</th>\n",
       "      <td>audi</td>\n",
       "      <td>gas</td>\n",
       "      <td>sedan</td>\n",
       "      <td>4wd</td>\n",
       "      <td>front</td>\n",
       "      <td>ohc</td>\n",
       "    </tr>\n",
       "    <tr>\n",
       "      <th>...</th>\n",
       "      <td>...</td>\n",
       "      <td>...</td>\n",
       "      <td>...</td>\n",
       "      <td>...</td>\n",
       "      <td>...</td>\n",
       "      <td>...</td>\n",
       "    </tr>\n",
       "    <tr>\n",
       "      <th>200</th>\n",
       "      <td>volvo</td>\n",
       "      <td>gas</td>\n",
       "      <td>sedan</td>\n",
       "      <td>rwd</td>\n",
       "      <td>front</td>\n",
       "      <td>ohc</td>\n",
       "    </tr>\n",
       "    <tr>\n",
       "      <th>201</th>\n",
       "      <td>volvo</td>\n",
       "      <td>gas</td>\n",
       "      <td>sedan</td>\n",
       "      <td>rwd</td>\n",
       "      <td>front</td>\n",
       "      <td>ohc</td>\n",
       "    </tr>\n",
       "    <tr>\n",
       "      <th>202</th>\n",
       "      <td>volvo</td>\n",
       "      <td>gas</td>\n",
       "      <td>sedan</td>\n",
       "      <td>rwd</td>\n",
       "      <td>front</td>\n",
       "      <td>ohcv</td>\n",
       "    </tr>\n",
       "    <tr>\n",
       "      <th>203</th>\n",
       "      <td>volvo</td>\n",
       "      <td>diesel</td>\n",
       "      <td>sedan</td>\n",
       "      <td>rwd</td>\n",
       "      <td>front</td>\n",
       "      <td>ohc</td>\n",
       "    </tr>\n",
       "    <tr>\n",
       "      <th>204</th>\n",
       "      <td>volvo</td>\n",
       "      <td>gas</td>\n",
       "      <td>sedan</td>\n",
       "      <td>rwd</td>\n",
       "      <td>front</td>\n",
       "      <td>ohc</td>\n",
       "    </tr>\n",
       "  </tbody>\n",
       "</table>\n",
       "<p>205 rows × 6 columns</p>\n",
       "</div>"
      ],
      "text/plain": [
       "            make fuel-type   body-style drive-wheels engine-location  \\\n",
       "0    alfa-romero       gas  convertible          rwd           front   \n",
       "1    alfa-romero       gas  convertible          rwd           front   \n",
       "2    alfa-romero       gas    hatchback          rwd           front   \n",
       "3           audi       gas        sedan          fwd           front   \n",
       "4           audi       gas        sedan          4wd           front   \n",
       "..           ...       ...          ...          ...             ...   \n",
       "200        volvo       gas        sedan          rwd           front   \n",
       "201        volvo       gas        sedan          rwd           front   \n",
       "202        volvo       gas        sedan          rwd           front   \n",
       "203        volvo    diesel        sedan          rwd           front   \n",
       "204        volvo       gas        sedan          rwd           front   \n",
       "\n",
       "    engine-type  \n",
       "0          dohc  \n",
       "1          dohc  \n",
       "2          ohcv  \n",
       "3           ohc  \n",
       "4           ohc  \n",
       "..          ...  \n",
       "200         ohc  \n",
       "201         ohc  \n",
       "202        ohcv  \n",
       "203         ohc  \n",
       "204         ohc  \n",
       "\n",
       "[205 rows x 6 columns]"
      ]
     },
     "execution_count": 19,
     "metadata": {},
     "output_type": "execute_result"
    }
   ],
   "source": [
    "df[cat_cols]\n"
   ]
  },
  {
   "cell_type": "code",
   "execution_count": 20,
   "id": "299f5b19",
   "metadata": {
    "ExecuteTime": {
     "end_time": "2023-10-12T08:16:29.433893Z",
     "start_time": "2023-10-12T08:16:29.419821Z"
    }
   },
   "outputs": [],
   "source": [
    "oe = OrdinalEncoder()\n",
    "df[cat_cols] = oe.fit_transform(df[cat_cols])\n"
   ]
  },
  {
   "cell_type": "code",
   "execution_count": 21,
   "id": "b1343ef2",
   "metadata": {
    "ExecuteTime": {
     "end_time": "2023-10-12T08:16:30.025810Z",
     "start_time": "2023-10-12T08:16:29.939738Z"
    }
   },
   "outputs": [
    {
     "data": {
      "text/html": [
       "<div>\n",
       "<style scoped>\n",
       "    .dataframe tbody tr th:only-of-type {\n",
       "        vertical-align: middle;\n",
       "    }\n",
       "\n",
       "    .dataframe tbody tr th {\n",
       "        vertical-align: top;\n",
       "    }\n",
       "\n",
       "    .dataframe thead th {\n",
       "        text-align: right;\n",
       "    }\n",
       "</style>\n",
       "<table border=\"1\" class=\"dataframe\">\n",
       "  <thead>\n",
       "    <tr style=\"text-align: right;\">\n",
       "      <th></th>\n",
       "      <th>symboling</th>\n",
       "      <th>normalized-losses</th>\n",
       "      <th>make</th>\n",
       "      <th>fuel-type</th>\n",
       "      <th>body-style</th>\n",
       "      <th>drive-wheels</th>\n",
       "      <th>engine-location</th>\n",
       "      <th>width</th>\n",
       "      <th>height</th>\n",
       "      <th>engine-type</th>\n",
       "      <th>engine-size</th>\n",
       "      <th>horsepower</th>\n",
       "      <th>city-mpg</th>\n",
       "      <th>highway-mpg</th>\n",
       "      <th>price</th>\n",
       "    </tr>\n",
       "  </thead>\n",
       "  <tbody>\n",
       "    <tr>\n",
       "      <th>0</th>\n",
       "      <td>3</td>\n",
       "      <td>115</td>\n",
       "      <td>0.0</td>\n",
       "      <td>1.0</td>\n",
       "      <td>0.0</td>\n",
       "      <td>2.0</td>\n",
       "      <td>0.0</td>\n",
       "      <td>64.1</td>\n",
       "      <td>48.8</td>\n",
       "      <td>0.0</td>\n",
       "      <td>130</td>\n",
       "      <td>111</td>\n",
       "      <td>21</td>\n",
       "      <td>27</td>\n",
       "      <td>13495</td>\n",
       "    </tr>\n",
       "    <tr>\n",
       "      <th>1</th>\n",
       "      <td>3</td>\n",
       "      <td>115</td>\n",
       "      <td>0.0</td>\n",
       "      <td>1.0</td>\n",
       "      <td>0.0</td>\n",
       "      <td>2.0</td>\n",
       "      <td>0.0</td>\n",
       "      <td>64.1</td>\n",
       "      <td>48.8</td>\n",
       "      <td>0.0</td>\n",
       "      <td>130</td>\n",
       "      <td>111</td>\n",
       "      <td>21</td>\n",
       "      <td>27</td>\n",
       "      <td>16500</td>\n",
       "    </tr>\n",
       "    <tr>\n",
       "      <th>2</th>\n",
       "      <td>1</td>\n",
       "      <td>115</td>\n",
       "      <td>0.0</td>\n",
       "      <td>1.0</td>\n",
       "      <td>2.0</td>\n",
       "      <td>2.0</td>\n",
       "      <td>0.0</td>\n",
       "      <td>65.5</td>\n",
       "      <td>52.4</td>\n",
       "      <td>5.0</td>\n",
       "      <td>152</td>\n",
       "      <td>154</td>\n",
       "      <td>19</td>\n",
       "      <td>26</td>\n",
       "      <td>16500</td>\n",
       "    </tr>\n",
       "    <tr>\n",
       "      <th>3</th>\n",
       "      <td>2</td>\n",
       "      <td>164</td>\n",
       "      <td>1.0</td>\n",
       "      <td>1.0</td>\n",
       "      <td>3.0</td>\n",
       "      <td>1.0</td>\n",
       "      <td>0.0</td>\n",
       "      <td>66.2</td>\n",
       "      <td>54.3</td>\n",
       "      <td>3.0</td>\n",
       "      <td>109</td>\n",
       "      <td>102</td>\n",
       "      <td>24</td>\n",
       "      <td>30</td>\n",
       "      <td>13950</td>\n",
       "    </tr>\n",
       "    <tr>\n",
       "      <th>4</th>\n",
       "      <td>2</td>\n",
       "      <td>164</td>\n",
       "      <td>1.0</td>\n",
       "      <td>1.0</td>\n",
       "      <td>3.0</td>\n",
       "      <td>0.0</td>\n",
       "      <td>0.0</td>\n",
       "      <td>66.4</td>\n",
       "      <td>54.3</td>\n",
       "      <td>3.0</td>\n",
       "      <td>136</td>\n",
       "      <td>115</td>\n",
       "      <td>18</td>\n",
       "      <td>22</td>\n",
       "      <td>17450</td>\n",
       "    </tr>\n",
       "    <tr>\n",
       "      <th>...</th>\n",
       "      <td>...</td>\n",
       "      <td>...</td>\n",
       "      <td>...</td>\n",
       "      <td>...</td>\n",
       "      <td>...</td>\n",
       "      <td>...</td>\n",
       "      <td>...</td>\n",
       "      <td>...</td>\n",
       "      <td>...</td>\n",
       "      <td>...</td>\n",
       "      <td>...</td>\n",
       "      <td>...</td>\n",
       "      <td>...</td>\n",
       "      <td>...</td>\n",
       "      <td>...</td>\n",
       "    </tr>\n",
       "    <tr>\n",
       "      <th>200</th>\n",
       "      <td>-1</td>\n",
       "      <td>95</td>\n",
       "      <td>21.0</td>\n",
       "      <td>1.0</td>\n",
       "      <td>3.0</td>\n",
       "      <td>2.0</td>\n",
       "      <td>0.0</td>\n",
       "      <td>68.9</td>\n",
       "      <td>55.5</td>\n",
       "      <td>3.0</td>\n",
       "      <td>141</td>\n",
       "      <td>114</td>\n",
       "      <td>23</td>\n",
       "      <td>28</td>\n",
       "      <td>16845</td>\n",
       "    </tr>\n",
       "    <tr>\n",
       "      <th>201</th>\n",
       "      <td>-1</td>\n",
       "      <td>95</td>\n",
       "      <td>21.0</td>\n",
       "      <td>1.0</td>\n",
       "      <td>3.0</td>\n",
       "      <td>2.0</td>\n",
       "      <td>0.0</td>\n",
       "      <td>68.8</td>\n",
       "      <td>55.5</td>\n",
       "      <td>3.0</td>\n",
       "      <td>141</td>\n",
       "      <td>160</td>\n",
       "      <td>19</td>\n",
       "      <td>25</td>\n",
       "      <td>19045</td>\n",
       "    </tr>\n",
       "    <tr>\n",
       "      <th>202</th>\n",
       "      <td>-1</td>\n",
       "      <td>95</td>\n",
       "      <td>21.0</td>\n",
       "      <td>1.0</td>\n",
       "      <td>3.0</td>\n",
       "      <td>2.0</td>\n",
       "      <td>0.0</td>\n",
       "      <td>68.9</td>\n",
       "      <td>55.5</td>\n",
       "      <td>5.0</td>\n",
       "      <td>173</td>\n",
       "      <td>134</td>\n",
       "      <td>18</td>\n",
       "      <td>23</td>\n",
       "      <td>21485</td>\n",
       "    </tr>\n",
       "    <tr>\n",
       "      <th>203</th>\n",
       "      <td>-1</td>\n",
       "      <td>95</td>\n",
       "      <td>21.0</td>\n",
       "      <td>0.0</td>\n",
       "      <td>3.0</td>\n",
       "      <td>2.0</td>\n",
       "      <td>0.0</td>\n",
       "      <td>68.9</td>\n",
       "      <td>55.5</td>\n",
       "      <td>3.0</td>\n",
       "      <td>145</td>\n",
       "      <td>106</td>\n",
       "      <td>26</td>\n",
       "      <td>27</td>\n",
       "      <td>22470</td>\n",
       "    </tr>\n",
       "    <tr>\n",
       "      <th>204</th>\n",
       "      <td>-1</td>\n",
       "      <td>95</td>\n",
       "      <td>21.0</td>\n",
       "      <td>1.0</td>\n",
       "      <td>3.0</td>\n",
       "      <td>2.0</td>\n",
       "      <td>0.0</td>\n",
       "      <td>68.9</td>\n",
       "      <td>55.5</td>\n",
       "      <td>3.0</td>\n",
       "      <td>141</td>\n",
       "      <td>114</td>\n",
       "      <td>19</td>\n",
       "      <td>25</td>\n",
       "      <td>22625</td>\n",
       "    </tr>\n",
       "  </tbody>\n",
       "</table>\n",
       "<p>205 rows × 15 columns</p>\n",
       "</div>"
      ],
      "text/plain": [
       "     symboling  normalized-losses  make  fuel-type  body-style  drive-wheels  \\\n",
       "0            3                115   0.0        1.0         0.0           2.0   \n",
       "1            3                115   0.0        1.0         0.0           2.0   \n",
       "2            1                115   0.0        1.0         2.0           2.0   \n",
       "3            2                164   1.0        1.0         3.0           1.0   \n",
       "4            2                164   1.0        1.0         3.0           0.0   \n",
       "..         ...                ...   ...        ...         ...           ...   \n",
       "200         -1                 95  21.0        1.0         3.0           2.0   \n",
       "201         -1                 95  21.0        1.0         3.0           2.0   \n",
       "202         -1                 95  21.0        1.0         3.0           2.0   \n",
       "203         -1                 95  21.0        0.0         3.0           2.0   \n",
       "204         -1                 95  21.0        1.0         3.0           2.0   \n",
       "\n",
       "     engine-location  width  height  engine-type  engine-size  horsepower  \\\n",
       "0                0.0   64.1    48.8          0.0          130         111   \n",
       "1                0.0   64.1    48.8          0.0          130         111   \n",
       "2                0.0   65.5    52.4          5.0          152         154   \n",
       "3                0.0   66.2    54.3          3.0          109         102   \n",
       "4                0.0   66.4    54.3          3.0          136         115   \n",
       "..               ...    ...     ...          ...          ...         ...   \n",
       "200              0.0   68.9    55.5          3.0          141         114   \n",
       "201              0.0   68.8    55.5          3.0          141         160   \n",
       "202              0.0   68.9    55.5          5.0          173         134   \n",
       "203              0.0   68.9    55.5          3.0          145         106   \n",
       "204              0.0   68.9    55.5          3.0          141         114   \n",
       "\n",
       "     city-mpg  highway-mpg  price  \n",
       "0          21           27  13495  \n",
       "1          21           27  16500  \n",
       "2          19           26  16500  \n",
       "3          24           30  13950  \n",
       "4          18           22  17450  \n",
       "..        ...          ...    ...  \n",
       "200        23           28  16845  \n",
       "201        19           25  19045  \n",
       "202        18           23  21485  \n",
       "203        26           27  22470  \n",
       "204        19           25  22625  \n",
       "\n",
       "[205 rows x 15 columns]"
      ]
     },
     "execution_count": 21,
     "metadata": {},
     "output_type": "execute_result"
    }
   ],
   "source": [
    "df\n"
   ]
  },
  {
   "cell_type": "code",
   "execution_count": 22,
   "id": "f625f4be",
   "metadata": {
    "ExecuteTime": {
     "end_time": "2023-10-12T08:16:41.769665Z",
     "start_time": "2023-10-12T08:16:41.735680Z"
    }
   },
   "outputs": [
    {
     "data": {
      "text/plain": [
       "symboling              int64\n",
       "normalized-losses      int32\n",
       "make                 float64\n",
       "fuel-type            float64\n",
       "body-style           float64\n",
       "drive-wheels         float64\n",
       "engine-location      float64\n",
       "width                float64\n",
       "height               float64\n",
       "engine-type          float64\n",
       "engine-size            int64\n",
       "horsepower             int32\n",
       "city-mpg               int64\n",
       "highway-mpg            int64\n",
       "price                  int64\n",
       "dtype: object"
      ]
     },
     "execution_count": 22,
     "metadata": {},
     "output_type": "execute_result"
    }
   ],
   "source": [
    "df.dtypes\n"
   ]
  },
  {
   "cell_type": "markdown",
   "id": "3cddf13b",
   "metadata": {
    "ExecuteTime": {
     "end_time": "2023-05-02T08:29:05.381457Z",
     "start_time": "2023-05-02T08:29:05.372101Z"
    }
   },
   "source": [
    "# Model building"
   ]
  },
  {
   "cell_type": "code",
   "execution_count": 23,
   "id": "a87bd9ea",
   "metadata": {
    "ExecuteTime": {
     "end_time": "2023-10-12T08:18:40.068449Z",
     "start_time": "2023-10-12T08:18:40.042401Z"
    }
   },
   "outputs": [],
   "source": [
    "x = df.iloc[:,:-1]\n",
    "y = df['price']\n"
   ]
  },
  {
   "cell_type": "code",
   "execution_count": 24,
   "id": "18e15428",
   "metadata": {
    "ExecuteTime": {
     "end_time": "2023-10-12T08:18:42.594195Z",
     "start_time": "2023-10-12T08:18:42.576908Z"
    }
   },
   "outputs": [],
   "source": [
    "xtrain,xtest,ytrain,ytest = train_test_split(x,y,test_size=0.3, random_state=1)\n"
   ]
  },
  {
   "cell_type": "code",
   "execution_count": 25,
   "id": "d7ccad20",
   "metadata": {
    "ExecuteTime": {
     "end_time": "2023-10-12T08:19:07.051602Z",
     "start_time": "2023-10-12T08:19:06.927813Z"
    }
   },
   "outputs": [],
   "source": [
    "lr = LinearRegression()\n",
    "lr.fit(xtrain,ytrain)\n",
    "ypred = lr.predict(xtest)\n"
   ]
  },
  {
   "cell_type": "code",
   "execution_count": 26,
   "id": "d36b194a",
   "metadata": {
    "ExecuteTime": {
     "end_time": "2023-10-12T08:19:58.973899Z",
     "start_time": "2023-10-12T08:19:58.944288Z"
    }
   },
   "outputs": [
    {
     "data": {
      "text/plain": [
       "array([ 5.71727164e+01,  4.76320989e-01, -2.01309566e+02, -6.22705136e+02,\n",
       "       -1.63712110e+02,  1.88863899e+03,  1.63884484e+04,  7.90632094e+02,\n",
       "        3.61221503e+02,  2.81207534e+02,  9.82290864e+01, -1.06474945e+01,\n",
       "        3.08435166e+02, -4.17126915e+02])"
      ]
     },
     "execution_count": 26,
     "metadata": {},
     "output_type": "execute_result"
    }
   ],
   "source": [
    "lr.coef_\n"
   ]
  },
  {
   "cell_type": "code",
   "execution_count": 27,
   "id": "d5a05315",
   "metadata": {
    "ExecuteTime": {
     "end_time": "2023-10-12T08:20:36.561314Z",
     "start_time": "2023-10-12T08:20:36.533081Z"
    }
   },
   "outputs": [
    {
     "data": {
      "text/plain": [
       "(0.8504229026078215, 0.7964854785429524)"
      ]
     },
     "execution_count": 27,
     "metadata": {},
     "output_type": "execute_result"
    }
   ],
   "source": [
    "lr.score(xtrain,ytrain), lr.score(xtest,ytest)\n"
   ]
  },
  {
   "cell_type": "markdown",
   "id": "22f663f4",
   "metadata": {},
   "source": [
    "# Lasso\n",
    "Lasso Regularization Information\n",
    "\n",
    "Lasso regularization, also known as L1 regularization, is a technique used in regression analysis to reduce overfitting by adding a penalty term to the loss function. The penalty term is proportional to the absolute value of the magnitude of the coefficients.\n",
    "\n",
    "Lasso regularization can be used to:\n",
    "\n",
    "* Reduce overfitting by shrinking the coefficients of irrelevant features to zero\n",
    "* Perform feature selection by eliminating features with zero coefficients\n",
    "* Improve model interpretability by reducing the number of features used in the model\n",
    "\n",
    "The Lasso regularization term is added to the loss function as follows:\n",
    "\n",
    "Loss = (1/2) * (y - X * w)^2 + alpha * ||w||1\n",
    "\n",
    "where:\n",
    "\n",
    "* Loss is the loss function\n",
    "* y is the target variable\n",
    "* X is the feature matrix\n",
    "* w is the weight vector\n",
    "* alpha is the regularization parameter\n",
    "* ||w||1 is the L1 norm of the weight vector (the sum of the absolute values of the weights)\n",
    "\n",
    "The value of alpha controls the strength of the regularization. A high value of alpha will result in a stronger regularization, while a low value will result in a weaker regularization.\n",
    "\n",
    "In Python, Lasso regularization can be implemented using the scikit-learn library:\n",
    "\n",
    "from sklearn.linear_model import Lasso\n",
    "\n",
    "lasso = Lasso(alpha=0.1)\n",
    "lasso.fit(X, y)\n",
    "\n",
    "The Lasso class in scikit-learn takes the regularization parameter alpha as an argument. The fit method is used to train the model on the data.\n",
    "\n",
    "The coefficients of the model can be accessed using the coef_ attribute:\n",
    "\n",
    "print(lasso.coef_)\n",
    "\n",
    "The coefficients are the weights assigned to each feature in the model. Features with zero coefficients are eliminated from the model.\n",
    "\n",
    "The Lasso regularization can also be used in combination with other regularization techniques, such as Ridge regression (L2 regularization), to create an Elastic Net regularization."
   ]
  },
  {
   "cell_type": "code",
   "execution_count": 28,
   "id": "9f212ee3",
   "metadata": {
    "ExecuteTime": {
     "end_time": "2023-10-12T08:22:02.501278Z",
     "start_time": "2023-10-12T08:22:02.451857Z"
    }
   },
   "outputs": [
    {
     "data": {
      "text/plain": [
       "(0.8504215478243032, 0.7966615211575686)"
      ]
     },
     "execution_count": 28,
     "metadata": {},
     "output_type": "execute_result"
    }
   ],
   "source": [
    "l1 = Lasso()\n",
    "l1.fit(xtrain,ytrain)\n",
    "l1.score(xtrain,ytrain), l1.score(xtest,ytest)\n"
   ]
  },
  {
   "cell_type": "code",
   "execution_count": 29,
   "id": "dcba7239",
   "metadata": {
    "ExecuteTime": {
     "end_time": "2023-10-12T08:22:28.431049Z",
     "start_time": "2023-10-12T08:22:28.402394Z"
    }
   },
   "outputs": [
    {
     "data": {
      "text/plain": [
       "array([ 5.70766693e+01,  4.67141700e-01, -2.01139953e+02, -6.14206970e+02,\n",
       "       -1.64751649e+02,  1.88558824e+03,  1.63181959e+04,  7.88680118e+02,\n",
       "        3.61783500e+02,  2.81248690e+02,  9.83193653e+01, -1.05310631e+01,\n",
       "        3.07274772e+02, -4.15725804e+02])"
      ]
     },
     "execution_count": 29,
     "metadata": {},
     "output_type": "execute_result"
    }
   ],
   "source": [
    "l1.coef_\n"
   ]
  },
  {
   "cell_type": "markdown",
   "id": "96cf285a",
   "metadata": {},
   "source": [
    "# Hyperparameter Tuning"
   ]
  },
  {
   "cell_type": "code",
   "execution_count": 30,
   "id": "525fb9b9",
   "metadata": {
    "ExecuteTime": {
     "end_time": "2023-10-12T08:28:50.282283Z",
     "start_time": "2023-10-12T08:28:49.608406Z"
    },
    "scrolled": true
   },
   "outputs": [
    {
     "name": "stdout",
     "output_type": "stream",
     "text": [
      "Alpha: 10 Train : 0.8502874729494679 Test: 0.7981976641710955\n",
      "Alpha: 11 Train : 0.8502590366899868 Test: 0.798363036012669\n",
      "Alpha: 12 Train : 0.8502278923539831 Test: 0.7985273615569264\n",
      "Alpha: 13 Train : 0.8501940398798169 Test: 0.798690640942852\n",
      "Alpha: 14 Train : 0.8501574792025468 Test: 0.798852874305717\n",
      "Alpha: 15 Train : 0.8501182170720096 Test: 0.7990139727199904\n",
      "Alpha: 16 Train : 0.8500762405870004 Test: 0.7991741103827844\n",
      "Alpha: 17 Train : 0.8500315637871662 Test: 0.7993331100375064\n",
      "Alpha: 18 Train : 0.8499841713431744 Test: 0.799491152641093\n",
      "Alpha: 19 Train : 0.8499340798562895 Test: 0.7996480535198025\n",
      "Alpha: 20 Train : 0.849881281256289 Test: 0.7998039052044477\n",
      "Alpha: 21 Train : 0.8498257652190869 Test: 0.7999588025187362\n",
      "Alpha: 22 Train : 0.8497675520093597 Test: 0.8001125546198936\n",
      "Alpha: 23 Train : 0.8497066316988291 Test: 0.800265257507501\n",
      "Alpha: 24 Train : 0.8496429920189414 Test: 0.8004170089599797\n",
      "Alpha: 25 Train : 0.8495766570554482 Test: 0.8005676127066222\n",
      "Alpha: 26 Train : 0.849507615025279 Test: 0.8007171670330852\n",
      "Alpha: 27 Train : 0.8494358659041693 Test: 0.800865672137543\n",
      "Alpha: 28 Train : 0.849361394861532 Test: 0.8010132281832133\n",
      "Alpha: 29 Train : 0.8492842310675794 Test: 0.8011596343211796\n",
      "Alpha: 30 Train : 0.8492043601831731 Test: 0.8013049912614203\n",
      "Alpha: 31 Train : 0.8491217651794869 Test: 0.8014494019632878\n",
      "Alpha: 32 Train : 0.8490364796480371 Test: 0.8015926597296399\n",
      "Alpha: 33 Train : 0.8489484870327078 Test: 0.8017348682957762\n",
      "Alpha: 34 Train : 0.8488577873344021 Test: 0.801876027658631\n",
      "Alpha: 35 Train : 0.8487643805542526 Test: 0.8020161378143252\n",
      "Alpha: 36 Train : 0.8486682463409705 Test: 0.8021553031514921\n",
      "Alpha: 37 Train : 0.8485694249333975 Test: 0.8022933140841506\n",
      "Alpha: 38 Train : 0.8484678964530805 Test: 0.8024302758008505\n",
      "Alpha: 39 Train : 0.8483636609030812 Test: 0.8025661882905541\n",
      "Alpha: 40 Train : 0.8482566949130552 Test: 0.8027011581242833\n",
      "Alpha: 41 Train : 0.8481470446586007 Test: 0.8028349717637246\n",
      "Alpha: 42 Train : 0.8480346873444039 Test: 0.8029677361484954\n",
      "Alpha: 43 Train : 0.8479196229755337 Test: 0.803099451263525\n",
      "Alpha: 44 Train : 0.8478018515570703 Test: 0.803230117095323\n",
      "Alpha: 45 Train : 0.8476813460664714 Test: 0.803359841484445\n",
      "Alpha: 46 Train : 0.8475581601224421 Test: 0.8034884077611059\n",
      "Alpha: 47 Train : 0.8474322671805895 Test: 0.8036159246130534\n",
      "Alpha: 48 Train : 0.847303667285195 Test: 0.8037423918945836\n",
      "Alpha: 49 Train : 0.8471723604665308 Test: 0.8038678095245826\n",
      "Alpha: 50 Train : 0.8470383160835762 Test: 0.8039922858408179\n",
      "Alpha: 51 Train : 0.8469015955988709 Test: 0.8041156011839323\n",
      "Alpha: 52 Train : 0.8467621701431711 Test: 0.8042378603521455\n",
      "Alpha: 53 Train : 0.8466200453017881 Test: 0.8043591098018061\n",
      "Alpha: 54 Train : 0.8464752679442824 Test: 0.804479154560465\n",
      "Alpha: 55 Train : 0.8463277847490409 Test: 0.8045981460344668\n",
      "Alpha: 56 Train : 0.8461775957176225 Test: 0.8047160842186238\n",
      "Alpha: 57 Train : 0.8460247008473277 Test: 0.8048329691211766\n",
      "Alpha: 58 Train : 0.8458690626367001 Test: 0.8049489128158684\n",
      "Alpha: 59 Train : 0.8457107556180303 Test: 0.8050636902592173\n",
      "Alpha: 60 Train : 0.8455497427647596 Test: 0.8051774144275454\n",
      "Alpha: 61 Train : 0.845386024080752 Test: 0.8052900853093062\n",
      "Alpha: 62 Train : 0.845219599562587 Test: 0.8054017029139318\n",
      "Alpha: 63 Train : 0.845050427254473 Test: 0.8055123806939473\n",
      "Alpha: 64 Train : 0.8448785906266846 Test: 0.8056218907549675\n",
      "Alpha: 65 Train : 0.844704048152366 Test: 0.805730347591631\n",
      "Alpha: 66 Train : 0.8445267998398778 Test: 0.8058377511793389\n",
      "Alpha: 67 Train : 0.8443468456981222 Test: 0.805944101493892\n",
      "Alpha: 68 Train : 0.844164139102787 Test: 0.8060495132971848\n",
      "Alpha: 69 Train : 0.8439787728386476 Test: 0.8061537561233667\n",
      "Alpha: 70 Train : 0.8437907007503687 Test: 0.8062569456814696\n",
      "Alpha: 71 Train : 0.8435999228396123 Test: 0.8063590819670045\n",
      "Alpha: 72 Train : 0.8434064391013533 Test: 0.806460164991113\n",
      "Alpha: 73 Train : 0.8432101980253942 Test: 0.8065603107500828\n",
      "Alpha: 74 Train : 0.8430180812067117 Test: 0.8066746464484672\n",
      "Alpha: 75 Train : 0.8428251892369141 Test: 0.8067923441485927\n",
      "Alpha: 76 Train : 0.8426296275745631 Test: 0.8069092918209664\n",
      "Alpha: 77 Train : 0.8424315438873821 Test: 0.8070253258844146\n",
      "Alpha: 78 Train : 0.8422308691468225 Test: 0.8071405232613497\n",
      "Alpha: 79 Train : 0.8420275287462018 Test: 0.8072549602500941\n",
      "Alpha: 80 Train : 0.8418216735345556 Test: 0.8073684805875915\n",
      "Alpha: 81 Train : 0.8416132286402628 Test: 0.8074811625933129\n",
      "Alpha: 82 Train : 0.8414021941866924 Test: 0.8075930061063104\n",
      "Alpha: 83 Train : 0.8411884892803483 Test: 0.8077040872505037\n",
      "Alpha: 84 Train : 0.8409722756332629 Test: 0.8078142521722217\n",
      "Alpha: 85 Train : 0.8407534726770236 Test: 0.8079235783153447\n",
      "Alpha: 86 Train : 0.8405320804320495 Test: 0.8080320656461115\n",
      "Alpha: 87 Train : 0.8403080118093453 Test: 0.8081397895635937\n",
      "Alpha: 88 Train : 0.8400852551711248 Test: 0.808234353161088\n",
      "Alpha: 89 Train : 0.8398709481686055 Test: 0.808291143904557\n",
      "Alpha: 90 Train : 0.8396542918552031 Test: 0.8083470368532599\n",
      "Alpha: 91 Train : 0.8394351519477532 Test: 0.8084022886639045\n",
      "Alpha: 92 Train : 0.839213728764307 Test: 0.8084565259571278\n",
      "Alpha: 93 Train : 0.8389858229742198 Test: 0.80852373007678\n",
      "Alpha: 94 Train : 0.8387452680105922 Test: 0.8086234568396949\n",
      "Alpha: 95 Train : 0.8385022541269312 Test: 0.8087222762601886\n",
      "Alpha: 96 Train : 0.8382566108172117 Test: 0.8088203066983994\n",
      "Alpha: 97 Train : 0.8380084071580559 Test: 0.8089175006752563\n",
      "Alpha: 98 Train : 0.8377576384766056 Test: 0.8090138616658784\n",
      "Alpha: 99 Train : 0.837504302242722 Test: 0.8091093915340022\n"
     ]
    }
   ],
   "source": [
    "for i in range(10,100):\n",
    "    l1 = Lasso(alpha=i)\n",
    "    l1.fit(xtrain,ytrain)\n",
    "    print(f\"Alpha: {i} Train : {l1.score(xtrain,ytrain)} Test: {l1.score(xtest,ytest)}\")\n"
   ]
  },
  {
   "cell_type": "code",
   "execution_count": 38,
   "id": "23a5fc19",
   "metadata": {
    "ExecuteTime": {
     "end_time": "2023-10-12T08:29:06.504118Z",
     "start_time": "2023-10-12T08:29:06.474698Z"
    }
   },
   "outputs": [
    {
     "data": {
      "text/plain": [
       "(0.8107234361496893, 0.8139459609474125)"
      ]
     },
     "execution_count": 38,
     "metadata": {},
     "output_type": "execute_result"
    }
   ],
   "source": [
    "l1 = Lasso(alpha=175)\n",
    "l1.fit(xtrain,ytrain)\n",
    "l1.score(xtrain,ytrain), l1.score(xtest,ytest)\n"
   ]
  },
  {
   "cell_type": "code",
   "execution_count": 32,
   "id": "c885fa94",
   "metadata": {
    "ExecuteTime": {
     "end_time": "2023-10-12T08:29:46.471227Z",
     "start_time": "2023-10-12T08:29:46.451608Z"
    }
   },
   "outputs": [
    {
     "data": {
      "text/plain": [
       "array([  26.15091464,   -0.        , -173.02547787,   -0.        ,\n",
       "       -363.80743898, 1247.84193718, 3867.709301  ,  391.04314711,\n",
       "        451.57194036,  297.35122938,  113.32977728,   11.00742675,\n",
       "         70.90090498, -160.35202828])"
      ]
     },
     "execution_count": 32,
     "metadata": {},
     "output_type": "execute_result"
    }
   ],
   "source": [
    "l1.coef_\n"
   ]
  },
  {
   "cell_type": "markdown",
   "id": "ba2ef9c3",
   "metadata": {},
   "source": [
    "# Ridge "
   ]
  },
  {
   "cell_type": "code",
   "execution_count": 33,
   "id": "5ff790d5",
   "metadata": {
    "ExecuteTime": {
     "end_time": "2023-10-12T08:31:34.549542Z",
     "start_time": "2023-10-12T08:31:34.430300Z"
    }
   },
   "outputs": [
    {
     "data": {
      "text/plain": [
       "(0.8435840853399225, 0.8075632224690537)"
      ]
     },
     "execution_count": 33,
     "metadata": {},
     "output_type": "execute_result"
    }
   ],
   "source": [
    "l2 = Ridge()\n",
    "\n",
    "l2.fit(xtrain,ytrain)\n",
    "l2.score(xtrain,ytrain), l2.score(xtest,ytest)\n"
   ]
  },
  {
   "cell_type": "code",
   "execution_count": 34,
   "id": "01dbcfb9",
   "metadata": {
    "ExecuteTime": {
     "end_time": "2023-10-12T08:32:50.308497Z",
     "start_time": "2023-10-12T08:32:49.194802Z"
    },
    "scrolled": true
   },
   "outputs": [
    {
     "name": "stdout",
     "output_type": "stream",
     "text": [
      "Alpha: 1 Train: 0.8435840853399225 Test: 0.8075632224690537\n",
      "Alpha: 2 Train: 0.8356695734845092 Test: 0.8112192014374255\n",
      "Alpha: 3 Train: 0.8296379623431073 Test: 0.8129299663310143\n",
      "Alpha: 4 Train: 0.8250699092246864 Test: 0.8138839096972439\n",
      "Alpha: 5 Train: 0.8215093087765016 Test: 0.8144682684596014\n",
      "Alpha: 6 Train: 0.8186486103834849 Test: 0.814843562726523\n",
      "Alpha: 7 Train: 0.8162882573020809 Test: 0.8150880725612083\n",
      "Alpha: 8 Train: 0.8142964263180523 Test: 0.815244730507158\n",
      "Alpha: 9 Train: 0.812583522729097 Test: 0.8153392574436445\n",
      "Alpha: 10 Train: 0.8110868722186451 Test: 0.8153881483263244\n",
      "Alpha: 11 Train: 0.8097614513602518 Test: 0.8154025610279507\n",
      "Alpha: 12 Train: 0.8085741366835051 Test: 0.8153903693701571\n",
      "Alpha: 13 Train: 0.8075000372738095 Test: 0.8153573212892009\n",
      "Alpha: 14 Train: 0.8065200924084595 Test: 0.8153077294072232\n",
      "Alpha: 15 Train: 0.8056194580416446 Test: 0.8152449025615436\n",
      "Alpha: 16 Train: 0.804786398073303 Test: 0.8151714264843272\n",
      "Alpha: 17 Train: 0.8040115065187471 Test: 0.8150893527689589\n",
      "Alpha: 18 Train: 0.8032871514648678 Test: 0.8150003299437463\n",
      "Alpha: 19 Train: 0.8026070707304607 Test: 0.8149056967781803\n",
      "Alpha: 20 Train: 0.8019660732378707 Test: 0.8148065502246254\n",
      "Alpha: 21 Train: 0.8013598153077788 Test: 0.8147037958811019\n",
      "Alpha: 22 Train: 0.8007846308878103 Test: 0.8145981861304739\n",
      "Alpha: 23 Train: 0.8002374011637663 Test: 0.8144903494117508\n",
      "Alpha: 24 Train: 0.7997154533085167 Test: 0.8143808129927239\n",
      "Alpha: 25 Train: 0.7992164810518412 Test: 0.8142700209017136\n",
      "Alpha: 26 Train: 0.7987384817763888 Test: 0.814158348199973\n",
      "Alpha: 27 Train: 0.7982797062609374 Test: 0.8140461124511118\n",
      "Alpha: 28 Train: 0.7978386181969568 Test: 0.8139335830177278\n",
      "Alpha: 29 Train: 0.7974138613263302 Test: 0.8138209886554859\n",
      "Alpha: 30 Train: 0.7970042325726074 Test: 0.8137085237599926\n",
      "Alpha: 31 Train: 0.7966086599233979 Test: 0.8135963535381272\n",
      "Alpha: 32 Train: 0.7962261841073035 Test: 0.8134846183137231\n",
      "Alpha: 33 Train: 0.7958559433227879 Test: 0.8133734371313501\n",
      "Alpha: 34 Train: 0.7954971604380747 Test: 0.8132629107871046\n",
      "Alpha: 35 Train: 0.7951491322043276 Test: 0.8131531243887079\n",
      "Alpha: 36 Train: 0.7948112201189454 Test: 0.8130441495267423\n",
      "Alpha: 37 Train: 0.7944828426489629 Test: 0.8129360461229016\n",
      "Alpha: 38 Train: 0.7941634685815295 Test: 0.8128288640086809\n",
      "Alpha: 39 Train: 0.7938526113131446 Test: 0.8127226442780506\n",
      "Alpha: 40 Train: 0.7935498239245844 Test: 0.8126174204498453\n",
      "Alpha: 41 Train: 0.7932546949164723 Test: 0.8125132194693\n",
      "Alpha: 42 Train: 0.7929668445028013 Test: 0.8124100625731353\n",
      "Alpha: 43 Train: 0.7926859213776736 Test: 0.8123079660384829\n",
      "Alpha: 44 Train: 0.7924115998850196 Test: 0.8122069418326154\n",
      "Alpha: 45 Train: 0.7921435775328081 Test: 0.8121069981777131\n",
      "Alpha: 46 Train: 0.7918815728028478 Test: 0.8120081400426531\n",
      "Alpha: 47 Train: 0.7916253232151244 Test: 0.8119103695719461\n",
      "Alpha: 48 Train: 0.7913745836120682 Test: 0.8118136864604217\n",
      "Alpha: 49 Train: 0.7911291246334808 Test: 0.8117180882809593\n",
      "Alpha: 50 Train: 0.7908887313572605 Test: 0.8116235707715007\n",
      "Alpha: 51 Train: 0.7906532020847592 Test: 0.811530128086684\n",
      "Alpha: 52 Train: 0.7904223472526619 Test: 0.8114377530186672\n",
      "Alpha: 53 Train: 0.7901959884558677 Test: 0.811346437191079\n",
      "Alpha: 54 Train: 0.7899739575680174 Test: 0.8112561712294909\n",
      "Alpha: 55 Train: 0.7897560959481498 Test: 0.8111669449113403\n",
      "Alpha: 56 Train: 0.7895422537235103 Test: 0.8110787472978381\n",
      "Alpha: 57 Train: 0.7893322891398644 Test: 0.8109915668500709\n",
      "Alpha: 58 Train: 0.7891260679717907 Test: 0.8109053915312061\n",
      "Alpha: 59 Train: 0.7889234629863806 Test: 0.8108202088964674\n",
      "Alpha: 60 Train: 0.788724353454611 Test: 0.8107360061723382\n",
      "Alpha: 61 Train: 0.7885286247053471 Test: 0.8106527703262635\n",
      "Alpha: 62 Train: 0.7883361677175607 Test: 0.8105704881279608\n",
      "Alpha: 63 Train: 0.7881468787468563 Test: 0.8104891462033195\n",
      "Alpha: 64 Train: 0.7879606589828785 Test: 0.8104087310817414\n",
      "Alpha: 65 Train: 0.7877774142345472 Test: 0.8103292292376811\n",
      "Alpha: 66 Train: 0.7875970546404287 Test: 0.8102506271270438\n",
      "Alpha: 67 Train: 0.7874194944018466 Test: 0.8101729112190271\n",
      "Alpha: 68 Train: 0.7872446515365975 Test: 0.8100960680239268\n",
      "Alpha: 69 Train: 0.7870724476513742 Test: 0.8100200841173542\n",
      "Alpha: 70 Train: 0.786902807731193 Test: 0.809944946161276\n",
      "Alpha: 71 Train: 0.7867356599443074 Test: 0.8098706409222324\n",
      "Alpha: 72 Train: 0.786570935461244 Test: 0.8097971552870418\n",
      "Alpha: 73 Train: 0.7864085682867381 Test: 0.8097244762762874\n",
      "Alpha: 74 Train: 0.7862484951034632 Test: 0.8096525910558197\n",
      "Alpha: 75 Train: 0.786090655126568 Test: 0.8095814869465081\n",
      "Alpha: 76 Train: 0.7859349899681197 Test: 0.8095111514324311\n",
      "Alpha: 77 Train: 0.7857814435106488 Test: 0.8094415721676851\n",
      "Alpha: 78 Train: 0.7856299617890594 Test: 0.8093727369819632\n",
      "Alpha: 79 Train: 0.7854804928802398 Test: 0.8093046338850487\n",
      "Alpha: 80 Train: 0.7853329867997779 Test: 0.8092372510703418\n",
      "Alpha: 81 Train: 0.785187395405222 Test: 0.8091705769175341\n",
      "Alpha: 82 Train: 0.7850436723053973 Test: 0.8091045999945259\n",
      "Alpha: 83 Train: 0.7849017727753195 Test: 0.8090393090586788\n",
      "Alpha: 84 Train: 0.78476165367629 Test: 0.8089746930574779\n",
      "Alpha: 85 Train: 0.7846232733807956 Test: 0.8089107411286772\n",
      "Alpha: 86 Train: 0.7844865917018645 Test: 0.8088474425999874\n",
      "Alpha: 87 Train: 0.7843515698265606 Test: 0.8087847869883671\n",
      "Alpha: 88 Train: 0.7842181702533259 Test: 0.8087227639989625\n",
      "Alpha: 89 Train: 0.7840863567329017 Test: 0.8086613635237428\n",
      "Alpha: 90 Train: 0.7839560942125866 Test: 0.8086005756398728\n",
      "Alpha: 91 Train: 0.7838273487836 Test: 0.8085403906078545\n",
      "Alpha: 92 Train: 0.7837000876313459 Test: 0.8084807988694747\n",
      "Alpha: 93 Train: 0.7835742789883862 Test: 0.8084217910455799\n",
      "Alpha: 94 Train: 0.783449892089942 Test: 0.8083633579337142\n",
      "Alpha: 95 Train: 0.7833268971317657 Test: 0.8083054905056332\n",
      "Alpha: 96 Train: 0.7832052652302253 Test: 0.8082481799047186\n",
      "Alpha: 97 Train: 0.7830849683844653 Test: 0.8081914174433131\n",
      "Alpha: 98 Train: 0.7829659794405156 Test: 0.8081351945999873\n",
      "Alpha: 99 Train: 0.7828482720572246 Test: 0.8080795030167582\n"
     ]
    }
   ],
   "source": [
    "for i in range(1,100):\n",
    "    l2 = Ridge(alpha=i)\n",
    "    l2.fit(xtrain,ytrain)\n",
    "    print(f\"Alpha: {i} Train: {l2.score(xtrain,ytrain)} Test: {l2.score(xtest,ytest)}\")\n"
   ]
  },
  {
   "cell_type": "code",
   "execution_count": 35,
   "id": "d023bb94",
   "metadata": {
    "ExecuteTime": {
     "end_time": "2023-10-12T08:33:29.923818Z",
     "start_time": "2023-10-12T08:33:29.870245Z"
    }
   },
   "outputs": [
    {
     "data": {
      "text/plain": [
       "(0.8162882573020809, 0.8150880725612083)"
      ]
     },
     "execution_count": 35,
     "metadata": {},
     "output_type": "execute_result"
    }
   ],
   "source": [
    "l2 = Ridge(alpha=7)\n",
    "l2.fit(xtrain,ytrain)\n",
    "l2.score(xtrain,ytrain),l2.score(xtest,ytest)\n"
   ]
  },
  {
   "cell_type": "code",
   "execution_count": 36,
   "id": "4ea7b2a2",
   "metadata": {
    "ExecuteTime": {
     "end_time": "2023-10-12T08:33:46.200591Z",
     "start_time": "2023-10-12T08:33:46.181968Z"
    }
   },
   "outputs": [
    {
     "data": {
      "text/plain": [
       "array([ 2.31139279e+02, -3.29204695e+00, -1.90126861e+02, -1.01249352e+03,\n",
       "       -6.04047656e+02,  1.71736131e+03,  3.40160377e+03,  3.91530395e+02,\n",
       "        5.57861287e+02,  5.13867686e+02,  1.02968876e+02,  2.01227011e+01,\n",
       "        2.13425523e+02, -2.79915768e+02])"
      ]
     },
     "execution_count": 36,
     "metadata": {},
     "output_type": "execute_result"
    }
   ],
   "source": [
    "l2.coef_\n"
   ]
  },
  {
   "cell_type": "markdown",
   "id": "3ebe6ab3",
   "metadata": {},
   "source": [
    "# Elastic Net"
   ]
  },
  {
   "cell_type": "code",
   "execution_count": 37,
   "id": "ecedda46",
   "metadata": {
    "ExecuteTime": {
     "end_time": "2023-10-12T08:34:49.820854Z",
     "start_time": "2023-10-12T08:34:49.792027Z"
    }
   },
   "outputs": [
    {
     "data": {
      "text/plain": [
       "(0.7866253599240464, 0.8098264817256129)"
      ]
     },
     "execution_count": 37,
     "metadata": {},
     "output_type": "execute_result"
    }
   ],
   "source": [
    "en = ElasticNet()\n",
    "en.fit(xtrain,ytrain)\n",
    "en.score(xtrain,ytrain), en.score(xtest,ytest)\n"
   ]
  },
  {
   "cell_type": "code",
   "execution_count": 43,
   "id": "ef40d7ce",
   "metadata": {},
   "outputs": [
    {
     "name": "stdout",
     "output_type": "stream",
     "text": [
      "Alpha: 0 Train: 0.8504229026078215 Test: 0.7964854785429525\n"
     ]
    }
   ],
   "source": [
    "for i in range(0,1):\n",
    "    en = ElasticNet(alpha= i )\n",
    "    en.fit(xtrain,ytrain)\n",
    "    print(f\"Alpha: {i} Train: {en.score(xtrain,ytrain)} Test: {en.score(xtest,ytest)}\")\n"
   ]
  },
  {
   "cell_type": "code",
   "execution_count": null,
   "id": "6accc1e9",
   "metadata": {},
   "outputs": [],
   "source": []
  }
 ],
 "metadata": {
  "kernelspec": {
   "display_name": "Python 3",
   "language": "python",
   "name": "python3"
  },
  "language_info": {
   "codemirror_mode": {
    "name": "ipython",
    "version": 3
   },
   "file_extension": ".py",
   "mimetype": "text/x-python",
   "name": "python",
   "nbconvert_exporter": "python",
   "pygments_lexer": "ipython3",
   "version": "3.11.9"
  }
 },
 "nbformat": 4,
 "nbformat_minor": 5
}

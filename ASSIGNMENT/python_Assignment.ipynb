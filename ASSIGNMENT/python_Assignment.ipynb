{
 "cells": [
  {
   "cell_type": "markdown",
   "metadata": {},
   "source": [
    "# PYTHON PROGRAMMING ASSIGNMENT\n",
    "\n",
    "### Exercise 1: Prime Numbers\n",
    "\n",
    "#### Write a Python program that checks whether a given number is prime or not. A prime number is a natural number greater than 1 that has no positive divisors other than 1 and itself."
   ]
  },
  {
   "cell_type": "code",
   "execution_count": 27,
   "metadata": {},
   "outputs": [
    {
     "name": "stdout",
     "output_type": "stream",
     "text": [
      "Prime\n"
     ]
    }
   ],
   "source": [
    "def is_prime(n):\n",
    "    if n <= 1:\n",
    "        return \"Not Prime\"\n",
    "\n",
    "    for i in range(2, n):\n",
    "        if n % i == 0:\n",
    "            return \"Not Prime\"\n",
    "\n",
    "    return \"Prime\"\n",
    "\n",
    "n = int(input(\"Enter number to check is a Prime number or not\"))\n",
    "print(is_prime(n)) "
   ]
  },
  {
   "cell_type": "markdown",
   "metadata": {},
   "source": [
    "## Exercise 2: Product of Random Numbers\n",
    "####  Q1  Develop a Python program that generates two random numbers and asks the user to enter the product of these numbers. The program should then check if the user's answer is correct and display an appropriate message."
   ]
  },
  {
   "cell_type": "code",
   "execution_count": 11,
   "metadata": {},
   "outputs": [
    {
     "name": "stdout",
     "output_type": "stream",
     "text": [
      "wrong choise, randomly generated number is 7 and 6 there product is 42\n"
     ]
    }
   ],
   "source": [
    "import random\n",
    "s_num1 = random.randint(1,10)\n",
    "s_num2 = random.randint(1,10)\n",
    "result = s_num1*s_num2\n",
    "u_Gusses = int(input(\"Enter the num to gusse result of product\"))\n",
    "\n",
    "if result == u_Gusses :\n",
    "    print(f\"appropriate choise randomly generated number is {s_num1} and {s_num2} there product is {result}\")\n",
    "else :\n",
    "    print(f\"wrong choise, randomly generated number is {s_num1} and {s_num2} there product is {result}\")"
   ]
  },
  {
   "cell_type": "markdown",
   "metadata": {},
   "source": [
    "## Exercise 3: Squares of Even/Odd Numbers\n",
    "#### Create a Python script that prints the squares of all even or odd numbers within the range of 100 to 200. Choose either even or odd numbers and document your choice in the code."
   ]
  },
  {
   "cell_type": "code",
   "execution_count": 16,
   "metadata": {},
   "outputs": [
    {
     "name": "stdout",
     "output_type": "stream",
     "text": [
      "The Even Number is 100 and it's Square is 10000\n",
      "The Even Number is 102 and it's Square is 10404\n",
      "The Even Number is 104 and it's Square is 10816\n",
      "The Even Number is 106 and it's Square is 11236\n",
      "The Even Number is 108 and it's Square is 11664\n",
      "The Even Number is 110 and it's Square is 12100\n",
      "The Even Number is 112 and it's Square is 12544\n",
      "The Even Number is 114 and it's Square is 12996\n",
      "The Even Number is 116 and it's Square is 13456\n",
      "The Even Number is 118 and it's Square is 13924\n",
      "The Even Number is 120 and it's Square is 14400\n",
      "The Even Number is 122 and it's Square is 14884\n",
      "The Even Number is 124 and it's Square is 15376\n",
      "The Even Number is 126 and it's Square is 15876\n",
      "The Even Number is 128 and it's Square is 16384\n",
      "The Even Number is 130 and it's Square is 16900\n",
      "The Even Number is 132 and it's Square is 17424\n",
      "The Even Number is 134 and it's Square is 17956\n",
      "The Even Number is 136 and it's Square is 18496\n",
      "The Even Number is 138 and it's Square is 19044\n",
      "The Even Number is 140 and it's Square is 19600\n",
      "The Even Number is 142 and it's Square is 20164\n",
      "The Even Number is 144 and it's Square is 20736\n",
      "The Even Number is 146 and it's Square is 21316\n",
      "The Even Number is 148 and it's Square is 21904\n",
      "The Even Number is 150 and it's Square is 22500\n",
      "The Even Number is 152 and it's Square is 23104\n",
      "The Even Number is 154 and it's Square is 23716\n",
      "The Even Number is 156 and it's Square is 24336\n",
      "The Even Number is 158 and it's Square is 24964\n",
      "The Even Number is 160 and it's Square is 25600\n",
      "The Even Number is 162 and it's Square is 26244\n",
      "The Even Number is 164 and it's Square is 26896\n",
      "The Even Number is 166 and it's Square is 27556\n",
      "The Even Number is 168 and it's Square is 28224\n",
      "The Even Number is 170 and it's Square is 28900\n",
      "The Even Number is 172 and it's Square is 29584\n",
      "The Even Number is 174 and it's Square is 30276\n",
      "The Even Number is 176 and it's Square is 30976\n",
      "The Even Number is 178 and it's Square is 31684\n",
      "The Even Number is 180 and it's Square is 32400\n",
      "The Even Number is 182 and it's Square is 33124\n",
      "The Even Number is 184 and it's Square is 33856\n",
      "The Even Number is 186 and it's Square is 34596\n",
      "The Even Number is 188 and it's Square is 35344\n",
      "The Even Number is 190 and it's Square is 36100\n",
      "The Even Number is 192 and it's Square is 36864\n",
      "The Even Number is 194 and it's Square is 37636\n",
      "The Even Number is 196 and it's Square is 38416\n",
      "The Even Number is 198 and it's Square is 39204\n",
      "The Even Number is 200 and it's Square is 40000\n"
     ]
    }
   ],
   "source": [
    "choise = input(\"Enter Even for calculating enven squares or Enter Old for calculating old squares \")\n",
    "\n",
    "if choise == \"Even\" or choise == \"even\"or choise== \"EVEN\" :\n",
    "    for i in range(100,201):\n",
    "        if i % 2 == 0 :\n",
    "            print(f\"The Even Number is {i} and it's Square is {(i*i)}\")\n",
    "elif choise == \"Old\" or choise == \"old\" or choise==\"OLD\" :\n",
    "    for i in range(100,201):\n",
    "        if i %2 != 0 :\n",
    "            print(f\"The Old Number is {i} and it's Square is {(i*i)}\")"
   ]
  },
  {
   "cell_type": "markdown",
   "metadata": {},
   "source": [
    "## Exercise 4: Word counter\n",
    "### write a program to count the number of words in a given text.\n"
   ]
  },
  {
   "cell_type": "code",
   "execution_count": null,
   "metadata": {},
   "outputs": [],
   "source": []
  },
  {
   "cell_type": "code",
   "execution_count": null,
   "metadata": {},
   "outputs": [],
   "source": []
  },
  {
   "cell_type": "code",
   "execution_count": null,
   "metadata": {},
   "outputs": [],
   "source": []
  }
 ],
 "metadata": {
  "kernelspec": {
   "display_name": "Python 3",
   "language": "python",
   "name": "python3"
  },
  "language_info": {
   "codemirror_mode": {
    "name": "ipython",
    "version": 3
   },
   "file_extension": ".py",
   "mimetype": "text/x-python",
   "name": "python",
   "nbconvert_exporter": "python",
   "pygments_lexer": "ipython3",
   "version": "3.12.1"
  }
 },
 "nbformat": 4,
 "nbformat_minor": 2
}

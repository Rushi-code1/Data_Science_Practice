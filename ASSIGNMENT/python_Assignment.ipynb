{
 "cells": [
  {
   "cell_type": "markdown",
   "metadata": {},
   "source": [
    "# PYTHON PROGRAMMING ASSIGNMENT\n",
    "\n",
    "### Exercise 1: Prime Numbers\n",
    "\n",
    "#### Write a Python program that checks whether a given number is prime or not. A prime number is a natural number greater than 1 that has no positive divisors other than 1 and itself."
   ]
  },
  {
   "cell_type": "code",
   "execution_count": 20,
   "metadata": {},
   "outputs": [
    {
     "name": "stdout",
     "output_type": "stream",
     "text": [
      "Prime\n"
     ]
    }
   ],
   "source": [
    "def is_prime(n):\n",
    "    # Check if the number is less than or equal to 1, in which case it's not prime\n",
    "    if n <= 1:\n",
    "        # Return a string indicating the number is not prime\n",
    "        return \"Not Prime\"\n",
    "\n",
    "    # Iterate over all numbers from 2 to n-1 to check for factors\n",
    "    for i in range(2, n):\n",
    "        # Check if n is divisible by any of these numbers\n",
    "        if n % i == 0:\n",
    "            # If it is, return a string indicating the number is not prime\n",
    "            return \"Not Prime\"\n",
    "\n",
    "    # If no factors are found, return a string indicating the number is prime\n",
    "    return \"Prime\"\n",
    "\n",
    "# Prompt the user to enter a number to check if it's prime\n",
    "n = int(input(\"Enter number to check is a Prime number or not\"))\n",
    "# Print the result of the is_prime function for the user's input\n",
    "print(is_prime(n))"
   ]
  },
  {
   "cell_type": "markdown",
   "metadata": {},
   "source": [
    "## Exercise 2: Product of Random Numbers\n",
    "####  Q1  Develop a Python program that generates two random numbers and asks the user to enter the product of these numbers. The program should then check if the user's answer is correct and display an appropriate message."
   ]
  },
  {
   "cell_type": "code",
   "execution_count": 11,
   "metadata": {},
   "outputs": [
    {
     "name": "stdout",
     "output_type": "stream",
     "text": [
      "wrong choise, randomly generated number is 7 and 6 there product is 42\n"
     ]
    }
   ],
   "source": [
    "# Import the random module to generate random numbers\n",
    "import random\n",
    "\n",
    "# Generate two random numbers between 1 and 10\n",
    "s_num1 = random.randint(1,10)\n",
    "s_num2 = random.randint(1,10)\n",
    "\n",
    "# Calculate the product of the two random numbers\n",
    "result = s_num1*s_num2\n",
    "\n",
    "# Prompt the user to guess the product and store their input\n",
    "u_Guess = int(input(\"Enter the num to guess result of product\"))\n",
    "\n",
    "# Check if the user's guess is correct\n",
    "if result == u_Guess :\n",
    "    # If correct, print a success message with the correct product\n",
    "    print(f\"Correct! The product of {s_num1} and {s_num2} is indeed {result}.\")\n",
    "else :\n",
    "    # If incorrect, print an error message with the correct product\n",
    "    print(f\"Sorry, that's incorrect. The product of {s_num1} and {s_num2} is actually {result}.\")"
   ]
  },
  {
   "cell_type": "markdown",
   "metadata": {},
   "source": [
    "## Exercise 3: Squares of Even/Odd Numbers\n",
    "#### Create a Python script that prints the squares of all even or odd numbers within the range of 100 to 200. Choose either even or odd numbers and document your choice in the code."
   ]
  },
  {
   "cell_type": "code",
   "execution_count": 16,
   "metadata": {},
   "outputs": [
    {
     "name": "stdout",
     "output_type": "stream",
     "text": [
      "The Even Number is 100 and it's Square is 10000\n",
      "The Even Number is 102 and it's Square is 10404\n",
      "The Even Number is 104 and it's Square is 10816\n",
      "The Even Number is 106 and it's Square is 11236\n",
      "The Even Number is 108 and it's Square is 11664\n",
      "The Even Number is 110 and it's Square is 12100\n",
      "The Even Number is 112 and it's Square is 12544\n",
      "The Even Number is 114 and it's Square is 12996\n",
      "The Even Number is 116 and it's Square is 13456\n",
      "The Even Number is 118 and it's Square is 13924\n",
      "The Even Number is 120 and it's Square is 14400\n",
      "The Even Number is 122 and it's Square is 14884\n",
      "The Even Number is 124 and it's Square is 15376\n",
      "The Even Number is 126 and it's Square is 15876\n",
      "The Even Number is 128 and it's Square is 16384\n",
      "The Even Number is 130 and it's Square is 16900\n",
      "The Even Number is 132 and it's Square is 17424\n",
      "The Even Number is 134 and it's Square is 17956\n",
      "The Even Number is 136 and it's Square is 18496\n",
      "The Even Number is 138 and it's Square is 19044\n",
      "The Even Number is 140 and it's Square is 19600\n",
      "The Even Number is 142 and it's Square is 20164\n",
      "The Even Number is 144 and it's Square is 20736\n",
      "The Even Number is 146 and it's Square is 21316\n",
      "The Even Number is 148 and it's Square is 21904\n",
      "The Even Number is 150 and it's Square is 22500\n",
      "The Even Number is 152 and it's Square is 23104\n",
      "The Even Number is 154 and it's Square is 23716\n",
      "The Even Number is 156 and it's Square is 24336\n",
      "The Even Number is 158 and it's Square is 24964\n",
      "The Even Number is 160 and it's Square is 25600\n",
      "The Even Number is 162 and it's Square is 26244\n",
      "The Even Number is 164 and it's Square is 26896\n",
      "The Even Number is 166 and it's Square is 27556\n",
      "The Even Number is 168 and it's Square is 28224\n",
      "The Even Number is 170 and it's Square is 28900\n",
      "The Even Number is 172 and it's Square is 29584\n",
      "The Even Number is 174 and it's Square is 30276\n",
      "The Even Number is 176 and it's Square is 30976\n",
      "The Even Number is 178 and it's Square is 31684\n",
      "The Even Number is 180 and it's Square is 32400\n",
      "The Even Number is 182 and it's Square is 33124\n",
      "The Even Number is 184 and it's Square is 33856\n",
      "The Even Number is 186 and it's Square is 34596\n",
      "The Even Number is 188 and it's Square is 35344\n",
      "The Even Number is 190 and it's Square is 36100\n",
      "The Even Number is 192 and it's Square is 36864\n",
      "The Even Number is 194 and it's Square is 37636\n",
      "The Even Number is 196 and it's Square is 38416\n",
      "The Even Number is 198 and it's Square is 39204\n",
      "The Even Number is 200 and it's Square is 40000\n"
     ]
    }
   ],
   "source": [
    "# Get user input to choose between calculating even or odd squares\n",
    "choise = input(\"Enter Even for calculating even squares or Enter Old for calculating odd squares \")\n",
    "\n",
    "# Check if the user chose to calculate even squares\n",
    "if choise.lower() == \"even\": \n",
    "    # Loop through numbers from 100 to 200\n",
    "    for i in range(100,201):\n",
    "        # Check if the current number is even\n",
    "        if i % 2 == 0 :\n",
    "            # Print the even number and its square\n",
    "            print(f\"The Even Number is {i} and it's Square is {(i*i)}\")\n",
    "# Check if the user chose to calculate odd squares\n",
    "elif choise.lower() == \"old\": \n",
    "    # Loop through numbers from 100 to 200\n",
    "    for i in range(100,201):\n",
    "        # Check if the current number is odd\n",
    "        if i %2 != 0 :\n",
    "            # Print the odd number and its square\n",
    "            print(f\"The Odd Number is {i} and it's Square is {(i*i)}\")"
   ]
  },
  {
   "cell_type": "markdown",
   "metadata": {},
   "source": [
    "## Exercise 4: Word counter\n",
    "### write a program to count the number of words in a given text.\n"
   ]
  },
  {
   "cell_type": "code",
   "execution_count": 19,
   "metadata": {},
   "outputs": [
    {
     "name": "stdout",
     "output_type": "stream",
     "text": [
      " Word is ' hello ' and count is 1\n"
     ]
    }
   ],
   "source": [
    "# This script counts the occurrence of each unique word in the input text\n",
    "# It takes user input for the text to be processed\n",
    "input_text = input(\"Enter your text for words count\")  # Get user input for the text\n",
    "\n",
    "# Split the input text into a list of words\n",
    "result_text = input_text.split(\" \")  \n",
    "\n",
    "# Remove duplicates from the list of words by converting it to a set and then back to a list\n",
    "result_text_unique = list(set(result_text))\n",
    "\n",
    "# Define a function to count the occurrence of a specific word in a list\n",
    "def count_same_string(lst, target):\n",
    "    # Use the built-in count method of the list to count the occurrence of the target word\n",
    "    return lst.count(target)\n",
    "\n",
    "# This script counts the occurrence of each unique word in the input text\n",
    "# Iterate over the unique words\n",
    "for i in range(len(result_text_unique)) : \n",
    "    # Print the word and its count\n",
    "    print(f\" Word is ' {result_text_unique[i]} ' and count is {count_same_string(result_text,result_text_unique[i])}\")"
   ]
  },
  {
   "cell_type": "markdown",
   "metadata": {},
   "source": [
    "## Exercise 5: Check for Palindrome\n",
    "\n",
    "Write a Python function called is_palindrome that takes a string as input and returns True if the string is a palindrome, and False otherwise. A palindrome is a word, phrase, number, or other sequence of characters that reads the same forward and backward, ignoring spaces, punctuation, and capitalization.\n"
   ]
  },
  {
   "cell_type": "code",
   "execution_count": 22,
   "metadata": {},
   "outputs": [
    {
     "name": "stdout",
     "output_type": "stream",
     "text": [
      "The string racecar is a palindrome.\n"
     ]
    }
   ],
   "source": [
    "def is_palindrome(s):\n",
    "    # Remove spaces and punctuation, and convert to lowercase to ensure the comparison is case-insensitive and ignores non-alphanumeric characters\n",
    "    s = ''.join(e for e in s if e.isalnum()).lower()\n",
    "    \n",
    "    # Compare the string with its reverse to check if it's a palindrome\n",
    "    return s == s[::-1]\n",
    "\n",
    "s = input(\"Enter a string to check if it's a palindrome: \")\n",
    "if is_palindrome(s):\n",
    "    # If the string is a palindrome, print a confirmation message\n",
    "    print(f\"The string {s} is a palindrome.\")\n",
    "else:\n",
    "    # If the string is not a palindrome, print a rejection message\n",
    "    print(f\"The string {s} is not a palindrome.\")\n"
   ]
  }
 ],
 "metadata": {
  "kernelspec": {
   "display_name": "Python 3",
   "language": "python",
   "name": "python3"
  },
  "language_info": {
   "codemirror_mode": {
    "name": "ipython",
    "version": 3
   },
   "file_extension": ".py",
   "mimetype": "text/x-python",
   "name": "python",
   "nbconvert_exporter": "python",
   "pygments_lexer": "ipython3",
   "version": "3.12.1"
  }
 },
 "nbformat": 4,
 "nbformat_minor": 2
}

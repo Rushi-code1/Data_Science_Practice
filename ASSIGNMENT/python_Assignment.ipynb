{
 "cells": [
  {
   "cell_type": "markdown",
   "metadata": {},
   "source": [
    "# PYTHON PROGRAMMING ASSIGNMENT\n",
    "\n",
    "### Exercise 1: Prime Numbers\n",
    "\n",
    "#### Write a Python program that checks whether a given number is prime or not. A prime number is a natural number greater than 1 that has no positive divisors other than 1 and itself."
   ]
  },
  {
   "cell_type": "code",
   "execution_count": 27,
   "metadata": {},
   "outputs": [
    {
     "name": "stdout",
     "output_type": "stream",
     "text": [
      "Prime\n"
     ]
    }
   ],
   "source": [
    "def is_prime(n):\n",
    "    if n <= 1:\n",
    "        return \"Not Prime\"\n",
    "\n",
    "    for i in range(2, n):\n",
    "        if n % i == 0:\n",
    "            return \"Not Prime\"\n",
    "\n",
    "    return \"Prime\"\n",
    "\n",
    "n = int(input(\"Enter number to check is a Prime number or not\"))\n",
    "print(is_prime(n)) "
   ]
  },
  {
   "cell_type": "markdown",
   "metadata": {},
   "source": [
    "## Exercise 2: Product of Random Numbers\n",
    "####  Q1  Develop a Python program that generates two random numbers and asks the user to enter the product of these numbers. The program should then check if the user's answer is correct and display an appropriate message."
   ]
  },
  {
   "cell_type": "code",
   "execution_count": 11,
   "metadata": {},
   "outputs": [
    {
     "name": "stdout",
     "output_type": "stream",
     "text": [
      "wrong choise, randomly generated number is 7 and 6 there product is 42\n"
     ]
    }
   ],
   "source": [
    "import random\n",
    "s_num1 = random.randint(1,10)\n",
    "s_num2 = random.randint(1,10)\n",
    "result = s_num1*s_num2\n",
    "u_Gusses = int(input(\"Enter the num to gusse result of product\"))\n",
    "\n",
    "if result == u_Gusses :\n",
    "    print(f\"appropriate choise randomly generated number is {s_num1} and {s_num2} there product is {result}\")\n",
    "else :\n",
    "    print(f\"wrong choise, randomly generated number is {s_num1} and {s_num2} there product is {result}\")"
   ]
  },
  {
   "cell_type": "markdown",
   "metadata": {},
   "source": [
    "## Exercise 3: Squares of Even/Odd Numbers\n",
    "#### Create a Python script that prints the squares of all even or odd numbers within the range of 100 to 200. Choose either even or odd numbers and document your choice in the code."
   ]
  },
  {
   "cell_type": "code",
   "execution_count": 16,
   "metadata": {},
   "outputs": [
    {
     "name": "stdout",
     "output_type": "stream",
     "text": [
      "The Even Number is 100 and it's Square is 10000\n",
      "The Even Number is 102 and it's Square is 10404\n",
      "The Even Number is 104 and it's Square is 10816\n",
      "The Even Number is 106 and it's Square is 11236\n",
      "The Even Number is 108 and it's Square is 11664\n",
      "The Even Number is 110 and it's Square is 12100\n",
      "The Even Number is 112 and it's Square is 12544\n",
      "The Even Number is 114 and it's Square is 12996\n",
      "The Even Number is 116 and it's Square is 13456\n",
      "The Even Number is 118 and it's Square is 13924\n",
      "The Even Number is 120 and it's Square is 14400\n",
      "The Even Number is 122 and it's Square is 14884\n",
      "The Even Number is 124 and it's Square is 15376\n",
      "The Even Number is 126 and it's Square is 15876\n",
      "The Even Number is 128 and it's Square is 16384\n",
      "The Even Number is 130 and it's Square is 16900\n",
      "The Even Number is 132 and it's Square is 17424\n",
      "The Even Number is 134 and it's Square is 17956\n",
      "The Even Number is 136 and it's Square is 18496\n",
      "The Even Number is 138 and it's Square is 19044\n",
      "The Even Number is 140 and it's Square is 19600\n",
      "The Even Number is 142 and it's Square is 20164\n",
      "The Even Number is 144 and it's Square is 20736\n",
      "The Even Number is 146 and it's Square is 21316\n",
      "The Even Number is 148 and it's Square is 21904\n",
      "The Even Number is 150 and it's Square is 22500\n",
      "The Even Number is 152 and it's Square is 23104\n",
      "The Even Number is 154 and it's Square is 23716\n",
      "The Even Number is 156 and it's Square is 24336\n",
      "The Even Number is 158 and it's Square is 24964\n",
      "The Even Number is 160 and it's Square is 25600\n",
      "The Even Number is 162 and it's Square is 26244\n",
      "The Even Number is 164 and it's Square is 26896\n",
      "The Even Number is 166 and it's Square is 27556\n",
      "The Even Number is 168 and it's Square is 28224\n",
      "The Even Number is 170 and it's Square is 28900\n",
      "The Even Number is 172 and it's Square is 29584\n",
      "The Even Number is 174 and it's Square is 30276\n",
      "The Even Number is 176 and it's Square is 30976\n",
      "The Even Number is 178 and it's Square is 31684\n",
      "The Even Number is 180 and it's Square is 32400\n",
      "The Even Number is 182 and it's Square is 33124\n",
      "The Even Number is 184 and it's Square is 33856\n",
      "The Even Number is 186 and it's Square is 34596\n",
      "The Even Number is 188 and it's Square is 35344\n",
      "The Even Number is 190 and it's Square is 36100\n",
      "The Even Number is 192 and it's Square is 36864\n",
      "The Even Number is 194 and it's Square is 37636\n",
      "The Even Number is 196 and it's Square is 38416\n",
      "The Even Number is 198 and it's Square is 39204\n",
      "The Even Number is 200 and it's Square is 40000\n"
     ]
    }
   ],
   "source": [
    "choise = input(\"Enter Even for calculating enven squares or Enter Old for calculating old squares \")\n",
    "\n",
    "if choise == \"Even\" or choise == \"even\"or choise== \"EVEN\" :\n",
    "    for i in range(100,201):\n",
    "        if i % 2 == 0 :\n",
    "            print(f\"The Even Number is {i} and it's Square is {(i*i)}\")\n",
    "elif choise == \"Old\" or choise == \"old\" or choise==\"OLD\" :\n",
    "    for i in range(100,201):\n",
    "        if i %2 != 0 :\n",
    "            print(f\"The Old Number is {i} and it's Square is {(i*i)}\")"
   ]
  },
  {
   "cell_type": "markdown",
   "metadata": {},
   "source": [
    "## Exercise 4: Word counter\n",
    "### write a program to count the number of words in a given text.\n"
   ]
  },
  {
   "cell_type": "code",
   "execution_count": 3,
   "metadata": {},
   "outputs": [],
   "source": [
    "\n"
   ]
  },
  {
   "cell_type": "code",
   "execution_count": 10,
   "metadata": {},
   "outputs": [
    {
     "ename": "ValueError",
     "evalue": "list.remove(x): x not in list",
     "output_type": "error",
     "traceback": [
      "\u001b[0;31m---------------------------------------------------------------------------\u001b[0m",
      "\u001b[0;31mValueError\u001b[0m                                Traceback (most recent call last)",
      "Cell \u001b[0;32mIn[10], line 7\u001b[0m\n\u001b[1;32m      3\u001b[0m input_text \u001b[38;5;241m=\u001b[39m \u001b[38;5;28minput\u001b[39m(\u001b[38;5;124m\"\u001b[39m\u001b[38;5;124mEnter your text for words count\u001b[39m\u001b[38;5;124m\"\u001b[39m)\n\u001b[1;32m      6\u001b[0m result_text \u001b[38;5;241m=\u001b[39m input_text\u001b[38;5;241m.\u001b[39msplit(\u001b[38;5;124m\"\u001b[39m\u001b[38;5;124m \u001b[39m\u001b[38;5;124m\"\u001b[39m)\n\u001b[0;32m----> 7\u001b[0m result_text_unique \u001b[38;5;241m=\u001b[39m \u001b[38;5;28;43mlist\u001b[39;49m\u001b[43m(\u001b[49m\u001b[38;5;28;43mset\u001b[39;49m\u001b[43m(\u001b[49m\u001b[43mresult_text\u001b[49m\u001b[43m)\u001b[49m\u001b[43m)\u001b[49m\u001b[38;5;241;43m.\u001b[39;49m\u001b[43mremove\u001b[49m\u001b[43m(\u001b[49m\u001b[38;5;124;43m\"\u001b[39;49m\u001b[38;5;124;43m \u001b[39;49m\u001b[38;5;124;43m\"\u001b[39;49m\u001b[43m)\u001b[49m\n\u001b[1;32m     11\u001b[0m \u001b[38;5;66;03m# This script counts the occurrence of each unique word in the input text\u001b[39;00m\n\u001b[1;32m     12\u001b[0m \u001b[38;5;28;01mfor\u001b[39;00m i \u001b[38;5;129;01min\u001b[39;00m \u001b[38;5;28mrange\u001b[39m(\u001b[38;5;28mlen\u001b[39m(result_text_unique)) : \n",
      "\u001b[0;31mValueError\u001b[0m: list.remove(x): x not in list"
     ]
    }
   ],
   "source": [
    "# This script counts the occurrence of each unique word in the input text\n",
    "\n",
    "input_text = input(\"Enter your text for words count\")\n",
    "\n",
    "\n",
    "result_text = input_text.split(\" \")\n",
    "result_text_unique = list(set(result_text))\n",
    "\n",
    "\n",
    "def count_same_string(lst, target):\n",
    "    return lst.count(target)\n",
    "\n",
    "\n",
    "# This script counts the occurrence of each unique word in the input text\n",
    "for i in range(len(result_text_unique)) : \n",
    "    print(f\" Word is ' {result_text_unique[i]} ' and count is {count_same_string(result_text,result_text_unique[i])}\")\n",
    "\n"
   ]
  },
  {
   "cell_type": "code",
   "execution_count": 11,
   "metadata": {},
   "outputs": [],
   "source": []
  },
  {
   "cell_type": "code",
   "execution_count": 17,
   "metadata": {},
   "outputs": [
    {
     "name": "stdout",
     "output_type": "stream",
     "text": [
      "The string is a palindrome.\n"
     ]
    }
   ],
   "source": [
    "s= \"racecar\"\n",
    "if s == s[::-1]:\n",
    "    print(\"The string is a palindrome.\")\n",
    "else :\n",
    "    print(\"The string is not a palindrome.\")\n"
   ]
  },
  {
   "cell_type": "code",
   "execution_count": 29,
   "metadata": {},
   "outputs": [
    {
     "name": "stdout",
     "output_type": "stream",
     "text": [
      " Word is ' is ' and count is 1\n",
      " Word is ' This ' and count is 1\n",
      " Word is ' text ' and count is 1\n",
      " Word is ' sample ' and count is 1\n",
      " Word is ' a ' and count is 1\n"
     ]
    }
   ],
   "source": []
  }
 ],
 "metadata": {
  "kernelspec": {
   "display_name": "Python 3",
   "language": "python",
   "name": "python3"
  },
  "language_info": {
   "codemirror_mode": {
    "name": "ipython",
    "version": 3
   },
   "file_extension": ".py",
   "mimetype": "text/x-python",
   "name": "python",
   "nbconvert_exporter": "python",
   "pygments_lexer": "ipython3",
   "version": "3.12.1"
  }
 },
 "nbformat": 4,
 "nbformat_minor": 2
}

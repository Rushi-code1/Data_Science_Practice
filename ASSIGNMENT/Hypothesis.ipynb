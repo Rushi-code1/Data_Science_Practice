{
 "cells": [
  {
   "cell_type": "code",
   "execution_count": 9,
   "metadata": {},
   "outputs": [],
   "source": [
    "import numpy as np\n",
    "import scipy.stats as stats\n"
   ]
  },
  {
   "cell_type": "markdown",
   "metadata": {},
   "source": [
    "Step 1: State the Hypotheses Statement\n",
    "\n",
    "The null hypothesis (H0) is that the weekly operating cost model is accurate, and the mean weekly cost is equal to the theoretical mean weekly cost according to the cost model. The alternative hypothesis (H1) is that the weekly operating cost model is not accurate, and the mean weekly cost is higher than the theoretical mean weekly cost.\n",
    "\n",
    "H0: μ = $1,000 + $5(600) = $4,000 H1: μ > $4,000"
   ]
  },
  {
   "cell_type": "code",
   "execution_count": 10,
   "metadata": {},
   "outputs": [
    {
     "name": "stdout",
     "output_type": "stream",
     "text": [
      "H0: μ = $4,000\n",
      "H1: μ > $4,000\n"
     ]
    }
   ],
   "source": [
    "print(\"H0: μ = $4,000\")\n",
    "print(\"H1: μ > $4,000\")\n"
   ]
  },
  {
   "cell_type": "code",
   "execution_count": 11,
   "metadata": {},
   "outputs": [],
   "source": [
    "# Given data\n",
    "sample_mean = 4050/75      # Sample mean\n",
    "mu_0 = 1000 + 5 * 600   # Hypothesized population mean\n",
    "s = 5 * 25              # Sample standard deviation\n",
    "n = 25                  # Sample size\n"
   ]
  },
  {
   "cell_type": "markdown",
   "metadata": {},
   "source": [
    "First, we need to calculate the theoretical mean weekly cost according to the cost model:\n",
    "\n",
    "μ = $1,000 + $5(600) = $4,000\n",
    "\n",
    "Next, we can calculate the test statistic (t) using the formula:\n",
    "\n",
    "t = (ˉx - μ) / (σ / √n)\n",
    "\n",
    "where: ˉx = Rs. 3,050 (sample mean weekly cost) μ = $4,000 (theoretical mean weekly cost) σ = 5*25 = 125 (standard deviation of the number of units produced in a week) n = 25 (sample size)\n",
    "\n",
    "We need to convert the sample mean weekly cost from Rupees to Dollars, assuming an exchange rate of 1 USD = 75 INR:\n",
    "\n",
    "ˉx = Rs. 3,050 / 75 = $40.67\n",
    "\n",
    "Now, we can calculate the test statistic:\n",
    "t = (4050/75 - 4000) / (125 / 5)\n",
    "t = (40.67 - 4000) / 25\n",
    "t = -3959.33 / 25\n",
    "t = -158.3732"
   ]
  },
  {
   "cell_type": "code",
   "execution_count": 12,
   "metadata": {},
   "outputs": [
    {
     "data": {
      "text/plain": [
       "np.float64(-157.84)"
      ]
     },
     "execution_count": 12,
     "metadata": {},
     "output_type": "execute_result"
    }
   ],
   "source": [
    "t_score =  (sample_mean - mu_0) / (s / np.sqrt(n))\n",
    "t_score\n"
   ]
  },
  {
   "cell_type": "markdown",
   "metadata": {},
   "source": [
    "Step 3: Determine the Critical Value\n",
    "\n",
    "Using the alpha level of 5% (α = 0.05), we can determine the critical value from the standard normal (Z) distribution table. The critical value for a one-tailed test is approximately 1.645."
   ]
  },
  {
   "cell_type": "code",
   "execution_count": 13,
   "metadata": {},
   "outputs": [
    {
     "name": "stdout",
     "output_type": "stream",
     "text": [
      "1.645\n"
     ]
    },
    {
     "data": {
      "text/plain": [
       "np.float64(1.0)"
      ]
     },
     "execution_count": 13,
     "metadata": {},
     "output_type": "execute_result"
    }
   ],
   "source": [
    "# Set significance level (α)\n",
    "alpha = 0.05\n",
    "\n",
    "Critical_Value = 1.645\n",
    "print(Critical_Value)\n",
    "# Calculate the p-value for a one-tailed test\n",
    "p_value = (stats.t.cdf(abs(t_score), df=n-1))\n",
    "p_value\n"
   ]
  },
  {
   "cell_type": "code",
   "execution_count": 14,
   "metadata": {},
   "outputs": [
    {
     "name": "stdout",
     "output_type": "stream",
     "text": [
      "Fail to reject the null hypothesis. There is no strong evidence to support the restaurant owners' claim. p-value = {p_value:.3f}\n",
      "T-score: -157.840, p-value: 1.000\n"
     ]
    }
   ],
   "source": [
    "# Decision\n",
    "if p_value < alpha:\n",
    "    print(\"Reject the null hypothesis. There is strong evidence to support the restaurant owners' claim. p-value = {p_value:.3f}\")\n",
    "else:\n",
    "    print(\"Fail to reject the null hypothesis. There is no strong evidence to support the restaurant owners' claim. p-value = {p_value:.3f}\")\n",
    "\n",
    "print(f\"T-score: {t_score:.3f}, p-value: {p_value:.3f}\")\n"
   ]
  }
 ],
 "metadata": {
  "kernelspec": {
   "display_name": "Python 3",
   "language": "python",
   "name": "python3"
  },
  "language_info": {
   "codemirror_mode": {
    "name": "ipython",
    "version": 3
   },
   "file_extension": ".py",
   "mimetype": "text/x-python",
   "name": "python",
   "nbconvert_exporter": "python",
   "pygments_lexer": "ipython3",
   "version": "3.12.1"
  }
 },
 "nbformat": 4,
 "nbformat_minor": 2
}

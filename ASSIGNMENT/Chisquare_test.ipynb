{
 "cells": [
  {
   "cell_type": "markdown",
   "metadata": {},
   "source": [
    "## Assignment No.4 Part-I :- Chisquare_test "
   ]
  },
  {
   "cell_type": "markdown",
   "metadata": {},
   "source": [
    "# Chi-Square Test Analysis\n",
    "## Association between Device Type and Customer Satisfaction\n",
    "\n",
    "### Background:\n",
    "Mizzare Corporation has collected data on customer satisfaction levels for two types of smart home devices: **Smart Thermostats** and **Smart Lights**. They aim to determine if there's a significant association between the type of device purchased and the customer satisfaction level.\n",
    "\n",
    "### Data Provided:\n",
    "\n",
    "| Satisfaction       | Smart Thermostat | Smart Light | Total |\n",
    "|--------------------|------------------|-------------|-------|\n",
    "| Very Satisfied      | 50               | 70          | 120   |\n",
    "| Satisfied           | 80               | 100         | 180   |\n",
    "| Neutral             | 60               | 90          | 150   |\n",
    "| Unsatisfied         | 30               | 50          | 80    |\n",
    "| Very Unsatisfied    | 20               | 50          | 70    |\n",
    "| **Total**           | **240**          | **360**     | **600** |\n",
    "\n",
    "### Objective:\n",
    "To use the **Chi-Square test for independence** to determine if there is a significant association between the type of smart home device purchased (Smart Thermostats vs. Smart Lights) and the customer satisfaction level.\n",
    "\n",
    "---\n",
    "\n",
    "### Steps Involved in the Chi-Square Test:\n",
    "\n",
    "#### 1. Hypotheses:\n",
    "\n",
    "- **Null Hypothesis (H₀):**  \n",
    "   *There is no association between the type of smart home device (Smart Thermostat or Smart Light) and customer satisfaction level.*\n",
    "  \n",
    "- **Alternative Hypothesis (H₁):**  \n",
    "   *There is an association between the type of smart home device and customer satisfaction level.*\n",
    "\n",
    "#### 2. Compute the Chi-Square Statistic:\n",
    "\n",
    "Using the observed and expected frequencies, calculate the Chi-Square statistic using the formula:\n",
    "\n",
    "\\[\n",
    "\\chi^2 = \\sum \\frac{(O - E)^2}{E}\n",
    "\\]\n",
    "\n",
    "Where:\n",
    "- \\(O\\) = Observed frequency\n",
    "- \\(E\\) = Expected frequency\n",
    "\n",
    "#### 3. Determine the Critical Value:\n",
    "\n",
    "- Significance level (\\(\\alpha\\)) = 0.05\n",
    "- Degrees of freedom (df) = (Number of rows - 1) * (Number of columns - 1)\n",
    "  \\[\n",
    "  df = (5 - 1)(2 - 1) = 4\n",
    "  \\]\n",
    "\n",
    "Using the Chi-Square distribution table, find the critical value for \\(df = 4\\) and \\(\\alpha = 0.05\\).\n",
    "\n",
    "#### 4. Make a Decision:\n",
    "\n",
    "- Compare the calculated Chi-Square statistic to the critical value.\n",
    "- If the Chi-Square statistic > Critical value: Reject the null hypothesis.\n",
    "- If the Chi-Square statistic ≤ Critical value: Fail to reject the null hypothesis.\n",
    "\n",
    "### Conclusion:\n",
    "Based on the results, state whether there is a significant association between the type of device and customer satisfaction.\n",
    "\n",
    "---\n"
   ]
  },
  {
   "cell_type": "code",
   "execution_count": 22,
   "metadata": {},
   "outputs": [],
   "source": [
    "import pandas as pd\n",
    "import numpy as np\n",
    "import seaborn as sns\n",
    "import matplotlib.pyplot as plt\n",
    "from scipy.stats import chi2_contingency\n"
   ]
  },
  {
   "cell_type": "code",
   "execution_count": 23,
   "metadata": {},
   "outputs": [],
   "source": [
    "\n",
    "# Data provided in the contingency table\n",
    "observed_data = np.array([[50, 70],  # Very Satisfied\n",
    "                          [80, 100], # Satisfied\n",
    "                          [60, 90],  # Neutral\n",
    "                          [30, 50],  # Unsatisfied\n",
    "                          [20, 50]]) # Very Unsatisfied\n"
   ]
  },
  {
   "cell_type": "code",
   "execution_count": 24,
   "metadata": {},
   "outputs": [
    {
     "data": {
      "text/plain": [
       "array([[ 50,  70],\n",
       "       [ 80, 100],\n",
       "       [ 60,  90],\n",
       "       [ 30,  50],\n",
       "       [ 20,  50]])"
      ]
     },
     "execution_count": 24,
     "metadata": {},
     "output_type": "execute_result"
    }
   ],
   "source": [
    "observed_data\n"
   ]
  },
  {
   "cell_type": "code",
   "execution_count": 25,
   "metadata": {},
   "outputs": [],
   "source": [
    "# Sum of each row and column\n",
    "row_totals = np.sum(observed_data, axis=1)\n",
    "column_totals = np.sum(observed_data, axis=0)\n",
    "total = np.sum(row_totals)\n"
   ]
  },
  {
   "cell_type": "code",
   "execution_count": 26,
   "metadata": {},
   "outputs": [],
   "source": [
    "# Calculating the expected frequencies\n",
    "expected_data = np.outer(row_totals, column_totals) / total\n"
   ]
  },
  {
   "cell_type": "code",
   "execution_count": 27,
   "metadata": {},
   "outputs": [],
   "source": [
    "\n",
    "# Performing the Chi-Square test\n",
    "chi2_statistic, p_value, dof, expected = chi2_contingency(observed_data)\n"
   ]
  },
  {
   "cell_type": "code",
   "execution_count": 29,
   "metadata": {},
   "outputs": [
    {
     "data": {
      "text/plain": [
       "5.638227513227513"
      ]
     },
     "execution_count": 29,
     "metadata": {},
     "output_type": "execute_result"
    }
   ],
   "source": [
    "chi2_statistic\n"
   ]
  },
  {
   "cell_type": "code",
   "execution_count": 30,
   "metadata": {},
   "outputs": [
    {
     "data": {
      "text/plain": [
       "array([[ 48.,  72.],\n",
       "       [ 72., 108.],\n",
       "       [ 60.,  90.],\n",
       "       [ 32.,  48.],\n",
       "       [ 28.,  42.]])"
      ]
     },
     "execution_count": 30,
     "metadata": {},
     "output_type": "execute_result"
    }
   ],
   "source": [
    "expected\n"
   ]
  },
  {
   "cell_type": "code",
   "execution_count": 44,
   "metadata": {},
   "outputs": [],
   "source": [
    "expected_df = pd.DataFrame(observed_data, columns= [\"Smart Thermostat\", \"Smart Light\"])\n",
    "expected_df[\"Satisfaction Level\"] = [\"Very Satisfied\",\"Satisfied\",\"Neutral\",\"Unsatisfied\",\"Very Unsatisfied\"]\n",
    "expected_df[\"Smart Thermostat Expected\"] = [expected[i][0] for i in range(len(expected))]\n",
    "expected_df[\"Smart Light Expected\"] = [expected[i][1] for i in range(len(expected))]\n"
   ]
  },
  {
   "cell_type": "code",
   "execution_count": 45,
   "metadata": {},
   "outputs": [
    {
     "data": {
      "text/html": [
       "<div>\n",
       "<style scoped>\n",
       "    .dataframe tbody tr th:only-of-type {\n",
       "        vertical-align: middle;\n",
       "    }\n",
       "\n",
       "    .dataframe tbody tr th {\n",
       "        vertical-align: top;\n",
       "    }\n",
       "\n",
       "    .dataframe thead th {\n",
       "        text-align: right;\n",
       "    }\n",
       "</style>\n",
       "<table border=\"1\" class=\"dataframe\">\n",
       "  <thead>\n",
       "    <tr style=\"text-align: right;\">\n",
       "      <th></th>\n",
       "      <th>Smart Thermostat</th>\n",
       "      <th>Smart Light</th>\n",
       "      <th>Satisfaction Level</th>\n",
       "      <th>Smart Thermostat Expected</th>\n",
       "      <th>Smart Light Expected</th>\n",
       "    </tr>\n",
       "  </thead>\n",
       "  <tbody>\n",
       "    <tr>\n",
       "      <th>0</th>\n",
       "      <td>50</td>\n",
       "      <td>70</td>\n",
       "      <td>Very Satisfied</td>\n",
       "      <td>48.0</td>\n",
       "      <td>72.0</td>\n",
       "    </tr>\n",
       "    <tr>\n",
       "      <th>1</th>\n",
       "      <td>80</td>\n",
       "      <td>100</td>\n",
       "      <td>Satisfied</td>\n",
       "      <td>72.0</td>\n",
       "      <td>108.0</td>\n",
       "    </tr>\n",
       "    <tr>\n",
       "      <th>2</th>\n",
       "      <td>60</td>\n",
       "      <td>90</td>\n",
       "      <td>Neutral</td>\n",
       "      <td>60.0</td>\n",
       "      <td>90.0</td>\n",
       "    </tr>\n",
       "    <tr>\n",
       "      <th>3</th>\n",
       "      <td>30</td>\n",
       "      <td>50</td>\n",
       "      <td>Unsatisfied</td>\n",
       "      <td>32.0</td>\n",
       "      <td>48.0</td>\n",
       "    </tr>\n",
       "    <tr>\n",
       "      <th>4</th>\n",
       "      <td>20</td>\n",
       "      <td>50</td>\n",
       "      <td>Very Unsatisfied</td>\n",
       "      <td>28.0</td>\n",
       "      <td>42.0</td>\n",
       "    </tr>\n",
       "  </tbody>\n",
       "</table>\n",
       "</div>"
      ],
      "text/plain": [
       "   Smart Thermostat  Smart Light Satisfaction Level  \\\n",
       "0                50           70     Very Satisfied   \n",
       "1                80          100          Satisfied   \n",
       "2                60           90            Neutral   \n",
       "3                30           50        Unsatisfied   \n",
       "4                20           50   Very Unsatisfied   \n",
       "\n",
       "   Smart Thermostat Expected  Smart Light Expected  \n",
       "0                       48.0                  72.0  \n",
       "1                       72.0                 108.0  \n",
       "2                       60.0                  90.0  \n",
       "3                       32.0                  48.0  \n",
       "4                       28.0                  42.0  "
      ]
     },
     "execution_count": 45,
     "metadata": {},
     "output_type": "execute_result"
    }
   ],
   "source": [
    "expected_df\n"
   ]
  },
  {
   "cell_type": "code",
   "execution_count": 33,
   "metadata": {},
   "outputs": [
    {
     "data": {
      "text/plain": [
       "0.22784371130697179"
      ]
     },
     "execution_count": 33,
     "metadata": {},
     "output_type": "execute_result"
    }
   ],
   "source": [
    "p_value\n"
   ]
  },
  {
   "cell_type": "code",
   "execution_count": 34,
   "metadata": {},
   "outputs": [],
   "source": [
    "alpha = 0.05\n"
   ]
  },
  {
   "cell_type": "code",
   "execution_count": 35,
   "metadata": {},
   "outputs": [
    {
     "name": "stdout",
     "output_type": "stream",
     "text": [
      "\n",
      "Conclusion: Fail to reject the null hypothesis (H₀). No significant association found between the type of device and customer satisfaction.\n"
     ]
    }
   ],
   "source": [
    "if p_value < alpha:\n",
    "    print(\"\\nConclusion: Reject the null hypothesis (H₀). There is a significant association between the type of device and customer satisfaction.\")\n",
    "else:\n",
    "    print(\"\\nConclusion: Fail to reject the null hypothesis (H₀). No significant association found between the type of device and customer satisfaction.\")\n"
   ]
  }
 ],
 "metadata": {
  "kernelspec": {
   "display_name": "Python 3",
   "language": "python",
   "name": "python3"
  },
  "language_info": {
   "codemirror_mode": {
    "name": "ipython",
    "version": 3
   },
   "file_extension": ".py",
   "mimetype": "text/x-python",
   "name": "python",
   "nbconvert_exporter": "python",
   "pygments_lexer": "ipython3",
   "version": "3.11.9"
  }
 },
 "nbformat": 4,
 "nbformat_minor": 2
}

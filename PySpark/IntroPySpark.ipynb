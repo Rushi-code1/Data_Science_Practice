{
 "cells": [
  {
   "cell_type": "code",
   "execution_count": 2,
   "metadata": {},
   "outputs": [],
   "source": [
    "import pyspark\n",
    "import pandas as pd\n",
    "data = {'name': ['Krish', 'Sudhanshu', 'Sunny'], 'age': [31, 30, 29]}\n",
    "df = pd.DataFrame(data)\n"
   ]
  },
  {
   "cell_type": "code",
   "execution_count": 3,
   "metadata": {},
   "outputs": [],
   "source": [
    "from pyspark.sql import SparkSession\n"
   ]
  },
  {
   "cell_type": "code",
   "execution_count": 4,
   "metadata": {},
   "outputs": [],
   "source": [
    "spark = SparkSession.builder.appName('Practise').getOrCreate()\n"
   ]
  },
  {
   "cell_type": "code",
   "execution_count": 5,
   "metadata": {},
   "outputs": [
    {
     "data": {
      "text/html": [
       "\n",
       "            <div>\n",
       "                <p><b>SparkSession - in-memory</b></p>\n",
       "                \n",
       "        <div>\n",
       "            <p><b>SparkContext</b></p>\n",
       "\n",
       "            <p><a href=\"http://192.168.1.8:4040\">Spark UI</a></p>\n",
       "\n",
       "            <dl>\n",
       "              <dt>Version</dt>\n",
       "                <dd><code>v3.5.2</code></dd>\n",
       "              <dt>Master</dt>\n",
       "                <dd><code>local[*]</code></dd>\n",
       "              <dt>AppName</dt>\n",
       "                <dd><code>Practise</code></dd>\n",
       "            </dl>\n",
       "        </div>\n",
       "        \n",
       "            </div>\n",
       "        "
      ],
      "text/plain": [
       "<pyspark.sql.session.SparkSession at 0x1dea3bb0e90>"
      ]
     },
     "execution_count": 5,
     "metadata": {},
     "output_type": "execute_result"
    }
   ],
   "source": [
    "spark\n"
   ]
  },
  {
   "cell_type": "code",
   "execution_count": 6,
   "metadata": {},
   "outputs": [],
   "source": [
    "df_pyspark = spark.read.csv(\"test1.csv\")\n"
   ]
  },
  {
   "cell_type": "code",
   "execution_count": 7,
   "metadata": {},
   "outputs": [],
   "source": [
    "df_pyspark  =spark.read.option(\"header\",\"true\").csv(\"test1.csv\",inferSchema = True)\n"
   ]
  },
  {
   "cell_type": "code",
   "execution_count": 8,
   "metadata": {},
   "outputs": [
    {
     "data": {
      "text/plain": [
       "pyspark.sql.dataframe.DataFrame"
      ]
     },
     "execution_count": 8,
     "metadata": {},
     "output_type": "execute_result"
    }
   ],
   "source": [
    "type(df_pyspark)\n"
   ]
  },
  {
   "cell_type": "code",
   "execution_count": 9,
   "metadata": {},
   "outputs": [
    {
     "name": "stdout",
     "output_type": "stream",
     "text": [
      "+---+---------+----+----------+-------+\n",
      "|_c0|     name| age|Experience| Salary|\n",
      "+---+---------+----+----------+-------+\n",
      "|  0|    Krish|  31|        10|30000.0|\n",
      "|  1|Sudhanshu|  30|         8|25000.0|\n",
      "|  2|    Sunny|  29|         4|20000.0|\n",
      "|  3|     Paul|  24|         3|20000.0|\n",
      "|  4|   Harsha|  21|         1|15000.0|\n",
      "|  5|  Shubham|  23|         2|18000.0|\n",
      "|  6|  Mahesh |NULL|      NULL|40000.0|\n",
      "|  7|     NULL|  31|        10|30000.0|\n",
      "|  8|     NULL|  36|      NULL|   NULL|\n",
      "+---+---------+----+----------+-------+\n",
      "\n"
     ]
    }
   ],
   "source": [
    "df_pyspark.show()\n"
   ]
  },
  {
   "cell_type": "code",
   "execution_count": 10,
   "metadata": {},
   "outputs": [],
   "source": [
    "### Check the Schema\n"
   ]
  },
  {
   "cell_type": "code",
   "execution_count": 11,
   "metadata": {},
   "outputs": [
    {
     "name": "stdout",
     "output_type": "stream",
     "text": [
      "root\n",
      " |-- _c0: integer (nullable = true)\n",
      " |-- name: string (nullable = true)\n",
      " |-- age: integer (nullable = true)\n",
      " |-- Experience: integer (nullable = true)\n",
      " |-- Salary: double (nullable = true)\n",
      "\n"
     ]
    }
   ],
   "source": [
    "df_pyspark.printSchema()\n"
   ]
  },
  {
   "cell_type": "code",
   "execution_count": 12,
   "metadata": {},
   "outputs": [],
   "source": [
    "# ANother way to create dataframe \n",
    "\n",
    "df_pyspark = spark.read.csv(\"test1.csv\",header=True,inferSchema=True)\n"
   ]
  },
  {
   "cell_type": "code",
   "execution_count": 13,
   "metadata": {},
   "outputs": [
    {
     "name": "stdout",
     "output_type": "stream",
     "text": [
      "+---+---------+----+----------+-------+\n",
      "|_c0|     name| age|Experience| Salary|\n",
      "+---+---------+----+----------+-------+\n",
      "|  0|    Krish|  31|        10|30000.0|\n",
      "|  1|Sudhanshu|  30|         8|25000.0|\n",
      "|  2|    Sunny|  29|         4|20000.0|\n",
      "|  3|     Paul|  24|         3|20000.0|\n",
      "|  4|   Harsha|  21|         1|15000.0|\n",
      "|  5|  Shubham|  23|         2|18000.0|\n",
      "|  6|  Mahesh |NULL|      NULL|40000.0|\n",
      "|  7|     NULL|  31|        10|30000.0|\n",
      "|  8|     NULL|  36|      NULL|   NULL|\n",
      "+---+---------+----+----------+-------+\n",
      "\n"
     ]
    }
   ],
   "source": [
    "df_pyspark.show()\n"
   ]
  },
  {
   "cell_type": "code",
   "execution_count": 14,
   "metadata": {},
   "outputs": [
    {
     "data": {
      "text/plain": [
       "pyspark.sql.dataframe.DataFrame"
      ]
     },
     "execution_count": 14,
     "metadata": {},
     "output_type": "execute_result"
    }
   ],
   "source": [
    "type(df_pyspark)\n"
   ]
  },
  {
   "cell_type": "code",
   "execution_count": 15,
   "metadata": {},
   "outputs": [
    {
     "data": {
      "text/plain": [
       "['_c0', 'name', 'age', 'Experience', 'Salary']"
      ]
     },
     "execution_count": 15,
     "metadata": {},
     "output_type": "execute_result"
    }
   ],
   "source": [
    "df_pyspark.columns\n"
   ]
  },
  {
   "cell_type": "code",
   "execution_count": 16,
   "metadata": {},
   "outputs": [
    {
     "data": {
      "text/plain": [
       "[Row(_c0=0, name='Krish', age=31, Experience=10, Salary=30000.0),\n",
       " Row(_c0=1, name='Sudhanshu', age=30, Experience=8, Salary=25000.0),\n",
       " Row(_c0=2, name='Sunny', age=29, Experience=4, Salary=20000.0)]"
      ]
     },
     "execution_count": 16,
     "metadata": {},
     "output_type": "execute_result"
    }
   ],
   "source": [
    "df_pyspark.head(3)\n"
   ]
  },
  {
   "cell_type": "code",
   "execution_count": 17,
   "metadata": {},
   "outputs": [
    {
     "name": "stdout",
     "output_type": "stream",
     "text": [
      "+---------+----------+\n",
      "|     Name|Experience|\n",
      "+---------+----------+\n",
      "|    Krish|        10|\n",
      "|Sudhanshu|         8|\n",
      "|    Sunny|         4|\n",
      "|     Paul|         3|\n",
      "|   Harsha|         1|\n",
      "|  Shubham|         2|\n",
      "|  Mahesh |      NULL|\n",
      "|     NULL|        10|\n",
      "|     NULL|      NULL|\n",
      "+---------+----------+\n",
      "\n"
     ]
    }
   ],
   "source": [
    "df_pyspark.select(['Name','Experience']).show()\n"
   ]
  },
  {
   "cell_type": "code",
   "execution_count": 18,
   "metadata": {},
   "outputs": [
    {
     "name": "stdout",
     "output_type": "stream",
     "text": [
      "+-------+------------------+------+----------------+------------------+---------------+\n",
      "|summary|               _c0|  name|             age|        Experience|         Salary|\n",
      "+-------+------------------+------+----------------+------------------+---------------+\n",
      "|  count|                 9|     7|               8|                 7|              8|\n",
      "|   mean|               4.0|  NULL|          28.125| 5.428571428571429|        24750.0|\n",
      "| stddev|2.7386127875258306|  NULL|5.02671434864337|3.8234863173611093|8224.5277762834|\n",
      "|    min|                 0|Harsha|              21|                 1|        15000.0|\n",
      "|    max|                 8| Sunny|              36|                10|        40000.0|\n",
      "+-------+------------------+------+----------------+------------------+---------------+\n",
      "\n"
     ]
    }
   ],
   "source": [
    "df_pyspark.describe().show()\n"
   ]
  },
  {
   "cell_type": "code",
   "execution_count": 19,
   "metadata": {},
   "outputs": [],
   "source": [
    "## Adding Column In Data Frame \n",
    "\n",
    "### Adding\n",
    "df_pyspark = df_pyspark.withColumn(\"Eperience After 2 year\",df_pyspark['Experience']+2)\n"
   ]
  },
  {
   "cell_type": "code",
   "execution_count": 20,
   "metadata": {},
   "outputs": [
    {
     "name": "stdout",
     "output_type": "stream",
     "text": [
      "+---+---------+----+----------+-------+----------------------+\n",
      "|_c0|     name| age|Experience| Salary|Eperience After 2 year|\n",
      "+---+---------+----+----------+-------+----------------------+\n",
      "|  0|    Krish|  31|        10|30000.0|                    12|\n",
      "|  1|Sudhanshu|  30|         8|25000.0|                    10|\n",
      "|  2|    Sunny|  29|         4|20000.0|                     6|\n",
      "|  3|     Paul|  24|         3|20000.0|                     5|\n",
      "|  4|   Harsha|  21|         1|15000.0|                     3|\n",
      "|  5|  Shubham|  23|         2|18000.0|                     4|\n",
      "|  6|  Mahesh |NULL|      NULL|40000.0|                  NULL|\n",
      "|  7|     NULL|  31|        10|30000.0|                    12|\n",
      "|  8|     NULL|  36|      NULL|   NULL|                  NULL|\n",
      "+---+---------+----+----------+-------+----------------------+\n",
      "\n"
     ]
    }
   ],
   "source": [
    "df_pyspark.show()\n"
   ]
  },
  {
   "cell_type": "code",
   "execution_count": 21,
   "metadata": {},
   "outputs": [
    {
     "name": "stdout",
     "output_type": "stream",
     "text": [
      "+---+---------+----+----------+-------+\n",
      "|_c0|     name| age|Experience| Salary|\n",
      "+---+---------+----+----------+-------+\n",
      "|  0|    Krish|  31|        10|30000.0|\n",
      "|  1|Sudhanshu|  30|         8|25000.0|\n",
      "|  2|    Sunny|  29|         4|20000.0|\n",
      "|  3|     Paul|  24|         3|20000.0|\n",
      "|  4|   Harsha|  21|         1|15000.0|\n",
      "|  5|  Shubham|  23|         2|18000.0|\n",
      "|  6|  Mahesh |NULL|      NULL|40000.0|\n",
      "|  7|     NULL|  31|        10|30000.0|\n",
      "|  8|     NULL|  36|      NULL|   NULL|\n",
      "+---+---------+----+----------+-------+\n",
      "\n"
     ]
    }
   ],
   "source": [
    "### drop \n",
    "df_pyspark = df_pyspark.drop(\"Eperience After 2 year\")\n",
    "df_pyspark.show()\n"
   ]
  },
  {
   "cell_type": "code",
   "execution_count": 22,
   "metadata": {},
   "outputs": [
    {
     "name": "stdout",
     "output_type": "stream",
     "text": [
      "+---+---------+----+----------+-------+\n",
      "|_c0| New Name| age|Experience| Salary|\n",
      "+---+---------+----+----------+-------+\n",
      "|  0|    Krish|  31|        10|30000.0|\n",
      "|  1|Sudhanshu|  30|         8|25000.0|\n",
      "|  2|    Sunny|  29|         4|20000.0|\n",
      "|  3|     Paul|  24|         3|20000.0|\n",
      "|  4|   Harsha|  21|         1|15000.0|\n",
      "|  5|  Shubham|  23|         2|18000.0|\n",
      "|  6|  Mahesh |NULL|      NULL|40000.0|\n",
      "|  7|     NULL|  31|        10|30000.0|\n",
      "|  8|     NULL|  36|      NULL|   NULL|\n",
      "+---+---------+----+----------+-------+\n",
      "\n"
     ]
    }
   ],
   "source": [
    "#3 Rename\n",
    "\n",
    "df_pyspark.withColumnRenamed('Name','New Name').show()\n"
   ]
  },
  {
   "cell_type": "markdown",
   "metadata": {},
   "source": [
    "### Pyspark Handling Missing Value\n",
    "- Dropping Columns \n",
    "- Dropping Rows\n",
    "- Various Parameter in Dropping Functionalities\n",
    "- Hadling Missing Value by Mean, Median, And Mode"
   ]
  },
  {
   "cell_type": "code",
   "execution_count": 23,
   "metadata": {},
   "outputs": [
    {
     "name": "stdout",
     "output_type": "stream",
     "text": [
      "+---+---------+----+----------+-------+\n",
      "|_c0|     name| age|Experience| Salary|\n",
      "+---+---------+----+----------+-------+\n",
      "|  0|    Krish|  31|        10|30000.0|\n",
      "|  1|Sudhanshu|  30|         8|25000.0|\n",
      "|  2|    Sunny|  29|         4|20000.0|\n",
      "|  3|     Paul|  24|         3|20000.0|\n",
      "|  4|   Harsha|  21|         1|15000.0|\n",
      "|  5|  Shubham|  23|         2|18000.0|\n",
      "|  6|  Mahesh |NULL|      NULL|40000.0|\n",
      "|  7|     NULL|  31|        10|30000.0|\n",
      "|  8|     NULL|  36|      NULL|   NULL|\n",
      "+---+---------+----+----------+-------+\n",
      "\n"
     ]
    }
   ],
   "source": [
    "df_pyspark.show()\n"
   ]
  },
  {
   "cell_type": "code",
   "execution_count": 24,
   "metadata": {},
   "outputs": [
    {
     "name": "stdout",
     "output_type": "stream",
     "text": [
      "+---+---------+---+----------+-------+\n",
      "|_c0|     name|age|Experience| Salary|\n",
      "+---+---------+---+----------+-------+\n",
      "|  0|    Krish| 31|        10|30000.0|\n",
      "|  1|Sudhanshu| 30|         8|25000.0|\n",
      "|  2|    Sunny| 29|         4|20000.0|\n",
      "|  3|     Paul| 24|         3|20000.0|\n",
      "|  4|   Harsha| 21|         1|15000.0|\n",
      "|  5|  Shubham| 23|         2|18000.0|\n",
      "+---+---------+---+----------+-------+\n",
      "\n"
     ]
    }
   ],
   "source": [
    "# remove row where presence of Null Value                                                   \n",
    "df_pyspark.na.drop().show()\n"
   ]
  },
  {
   "cell_type": "code",
   "execution_count": 25,
   "metadata": {},
   "outputs": [
    {
     "name": "stdout",
     "output_type": "stream",
     "text": [
      "+---+---------+---+----------+-------+\n",
      "|_c0|     name|age|Experience| Salary|\n",
      "+---+---------+---+----------+-------+\n",
      "|  0|    Krish| 31|        10|30000.0|\n",
      "|  1|Sudhanshu| 30|         8|25000.0|\n",
      "|  2|    Sunny| 29|         4|20000.0|\n",
      "|  3|     Paul| 24|         3|20000.0|\n",
      "|  4|   Harsha| 21|         1|15000.0|\n",
      "|  5|  Shubham| 23|         2|18000.0|\n",
      "+---+---------+---+----------+-------+\n",
      "\n"
     ]
    }
   ],
   "source": [
    "## Remove ALL Value is Null At row\n",
    "\n",
    "df_pyspark.na.drop(how = \"any\").show()\n"
   ]
  },
  {
   "cell_type": "code",
   "execution_count": 26,
   "metadata": {},
   "outputs": [
    {
     "name": "stdout",
     "output_type": "stream",
     "text": [
      "+---+---------+----+----------+-------+\n",
      "|_c0|     name| age|Experience| Salary|\n",
      "+---+---------+----+----------+-------+\n",
      "|  0|    Krish|  31|        10|30000.0|\n",
      "|  1|Sudhanshu|  30|         8|25000.0|\n",
      "|  2|    Sunny|  29|         4|20000.0|\n",
      "|  3|     Paul|  24|         3|20000.0|\n",
      "|  4|   Harsha|  21|         1|15000.0|\n",
      "|  5|  Shubham|  23|         2|18000.0|\n",
      "|  6|  Mahesh |NULL|      NULL|40000.0|\n",
      "|  7|     NULL|  31|        10|30000.0|\n",
      "+---+---------+----+----------+-------+\n",
      "\n"
     ]
    }
   ],
   "source": [
    "# Remove rows with null values if the threshold value is at least equal to the number of null values in the column\n",
    "df_pyspark.na.drop(how = 'any',thresh=3).show()\n"
   ]
  },
  {
   "cell_type": "code",
   "execution_count": 27,
   "metadata": {},
   "outputs": [
    {
     "name": "stdout",
     "output_type": "stream",
     "text": [
      "+---+---------+---+----------+-------+\n",
      "|_c0|     name|age|Experience| Salary|\n",
      "+---+---------+---+----------+-------+\n",
      "|  0|    Krish| 31|        10|30000.0|\n",
      "|  1|Sudhanshu| 30|         8|25000.0|\n",
      "|  2|    Sunny| 29|         4|20000.0|\n",
      "|  3|     Paul| 24|         3|20000.0|\n",
      "|  4|   Harsha| 21|         1|15000.0|\n",
      "|  5|  Shubham| 23|         2|18000.0|\n",
      "|  7|     NULL| 31|        10|30000.0|\n",
      "+---+---------+---+----------+-------+\n",
      "\n"
     ]
    }
   ],
   "source": [
    "# subset is used when only Remove Null Value from perticular column\n",
    "\n",
    "df_pyspark.na.drop(how = 'any' , subset=['Experience']).show()\n"
   ]
  },
  {
   "cell_type": "code",
   "execution_count": 28,
   "metadata": {},
   "outputs": [
    {
     "name": "stdout",
     "output_type": "stream",
     "text": [
      "+---+-------------+----+----------+-------+\n",
      "|_c0|         name| age|Experience| Salary|\n",
      "+---+-------------+----+----------+-------+\n",
      "|  0|        Krish|  31|        10|30000.0|\n",
      "|  1|    Sudhanshu|  30|         8|25000.0|\n",
      "|  2|        Sunny|  29|         4|20000.0|\n",
      "|  3|         Paul|  24|         3|20000.0|\n",
      "|  4|       Harsha|  21|         1|15000.0|\n",
      "|  5|      Shubham|  23|         2|18000.0|\n",
      "|  6|      Mahesh |NULL|      NULL|40000.0|\n",
      "|  7|Missing Value|  31|        10|30000.0|\n",
      "|  8|Missing Value|  36|      NULL|   NULL|\n",
      "+---+-------------+----+----------+-------+\n",
      "\n"
     ]
    }
   ],
   "source": [
    "### Filling the missing value\n",
    "df_pyspark.na.fill('Missing Value').show()\n"
   ]
  },
  {
   "cell_type": "code",
   "execution_count": 29,
   "metadata": {},
   "outputs": [
    {
     "name": "stdout",
     "output_type": "stream",
     "text": [
      "+---+---------+---+----------+-------+\n",
      "|_c0|     name|age|Experience| Salary|\n",
      "+---+---------+---+----------+-------+\n",
      "|  0|    Krish| 31|        10|30000.0|\n",
      "|  1|Sudhanshu| 30|         8|25000.0|\n",
      "|  2|    Sunny| 29|         4|20000.0|\n",
      "|  3|     Paul| 24|         3|20000.0|\n",
      "|  4|   Harsha| 21|         1|15000.0|\n",
      "|  5|  Shubham| 23|         2|18000.0|\n",
      "|  6|  Mahesh |  1|         1|40000.0|\n",
      "|  7|     NULL| 31|        10|30000.0|\n",
      "|  8|     NULL| 36|         1|   NULL|\n",
      "+---+---------+---+----------+-------+\n",
      "\n"
     ]
    }
   ],
   "source": [
    "### Filling missing value of specific columns then used\n",
    "\n",
    "df_pyspark.na.fill(1 , ['Experience','age']).show()\n"
   ]
  },
  {
   "cell_type": "code",
   "execution_count": 30,
   "metadata": {},
   "outputs": [],
   "source": [
    "# Create an imputer to replace missing values with the mean of each column\n",
    "from pyspark.ml.feature import Imputer\n",
    "\n",
    "imputer = Imputer(\n",
    "    inputCols=['age', 'Experience', 'Salary'],\n",
    "    outputCols=['{}_imputed'.format(c) for c in ['age', 'Experience', 'Salary']]).setStrategy(\"mean\")  #<-- Change Mean With Median when Median Are used to replacement process\n"
   ]
  },
  {
   "cell_type": "code",
   "execution_count": 31,
   "metadata": {},
   "outputs": [
    {
     "name": "stdout",
     "output_type": "stream",
     "text": [
      "+---+---------+----+----------+-------+-----------+------------------+--------------+\n",
      "|_c0|     name| age|Experience| Salary|age_imputed|Experience_imputed|Salary_imputed|\n",
      "+---+---------+----+----------+-------+-----------+------------------+--------------+\n",
      "|  0|    Krish|  31|        10|30000.0|         31|                10|       30000.0|\n",
      "|  1|Sudhanshu|  30|         8|25000.0|         30|                 8|       25000.0|\n",
      "|  2|    Sunny|  29|         4|20000.0|         29|                 4|       20000.0|\n",
      "|  3|     Paul|  24|         3|20000.0|         24|                 3|       20000.0|\n",
      "|  4|   Harsha|  21|         1|15000.0|         21|                 1|       15000.0|\n",
      "|  5|  Shubham|  23|         2|18000.0|         23|                 2|       18000.0|\n",
      "|  6|  Mahesh |NULL|      NULL|40000.0|         28|                 5|       40000.0|\n",
      "|  7|     NULL|  31|        10|30000.0|         31|                10|       30000.0|\n",
      "|  8|     NULL|  36|      NULL|   NULL|         36|                 5|       24750.0|\n",
      "+---+---------+----+----------+-------+-----------+------------------+--------------+\n",
      "\n"
     ]
    }
   ],
   "source": [
    "imputer.fit(df_pyspark).transform(df_pyspark).show()\n"
   ]
  },
  {
   "cell_type": "markdown",
   "metadata": {},
   "source": [
    "## Pyspark Data Frames\n",
    "- Filter Operation\n",
    "- &,|, ==\n",
    "- ~ "
   ]
  },
  {
   "cell_type": "code",
   "execution_count": 32,
   "metadata": {},
   "outputs": [],
   "source": [
    "df_pyspark2 = df_pyspark.na.drop()\n"
   ]
  },
  {
   "cell_type": "code",
   "execution_count": 33,
   "metadata": {},
   "outputs": [
    {
     "name": "stdout",
     "output_type": "stream",
     "text": [
      "+---+---------+---+----------+-------+\n",
      "|_c0|     name|age|Experience| Salary|\n",
      "+---+---------+---+----------+-------+\n",
      "|  0|    Krish| 31|        10|30000.0|\n",
      "|  1|Sudhanshu| 30|         8|25000.0|\n",
      "|  2|    Sunny| 29|         4|20000.0|\n",
      "|  3|     Paul| 24|         3|20000.0|\n",
      "|  4|   Harsha| 21|         1|15000.0|\n",
      "|  5|  Shubham| 23|         2|18000.0|\n",
      "+---+---------+---+----------+-------+\n",
      "\n"
     ]
    }
   ],
   "source": [
    "df_pyspark2.show()\n"
   ]
  },
  {
   "cell_type": "code",
   "execution_count": 34,
   "metadata": {},
   "outputs": [
    {
     "name": "stdout",
     "output_type": "stream",
     "text": [
      "+---+-------+---+----------+-------+\n",
      "|_c0|   name|age|Experience| Salary|\n",
      "+---+-------+---+----------+-------+\n",
      "|  2|  Sunny| 29|         4|20000.0|\n",
      "|  3|   Paul| 24|         3|20000.0|\n",
      "|  4| Harsha| 21|         1|15000.0|\n",
      "|  5|Shubham| 23|         2|18000.0|\n",
      "+---+-------+---+----------+-------+\n",
      "\n"
     ]
    }
   ],
   "source": [
    "## Salary Of the people less than or eqal to 20000\n",
    "df_pyspark2.filter(\"Salary<=20000\").show()\n"
   ]
  },
  {
   "cell_type": "code",
   "execution_count": 35,
   "metadata": {},
   "outputs": [
    {
     "name": "stdout",
     "output_type": "stream",
     "text": [
      "+-------+---+\n",
      "|   Name|age|\n",
      "+-------+---+\n",
      "|  Sunny| 29|\n",
      "|   Paul| 24|\n",
      "| Harsha| 21|\n",
      "|Shubham| 23|\n",
      "+-------+---+\n",
      "\n"
     ]
    }
   ],
   "source": [
    "## show Name and Age of people which Salary is less than or eqal to 20000\n",
    "df_pyspark2.filter(\"Salary<=20000\").select(['Name','age']).show()\n"
   ]
  },
  {
   "cell_type": "code",
   "execution_count": 36,
   "metadata": {},
   "outputs": [
    {
     "name": "stdout",
     "output_type": "stream",
     "text": [
      "+-------+---+\n",
      "|   Name|age|\n",
      "+-------+---+\n",
      "|  Sunny| 29|\n",
      "|   Paul| 24|\n",
      "|Shubham| 23|\n",
      "+-------+---+\n",
      "\n"
     ]
    }
   ],
   "source": [
    "# Filter the DataFrame to include only rows where Salary is between 18000 and 20000, \n",
    "# then select the 'Name' and 'age' columns and display the results\n",
    "df_pyspark2.filter((df_pyspark2[\"Salary\"]<=20000) & (df_pyspark2[\"Salary\"]>= 18000)).select(['Name','age']).show()\n"
   ]
  },
  {
   "cell_type": "code",
   "execution_count": 37,
   "metadata": {},
   "outputs": [
    {
     "name": "stdout",
     "output_type": "stream",
     "text": [
      "+---+---------+---+----------+-------+\n",
      "|_c0|     name|age|Experience| Salary|\n",
      "+---+---------+---+----------+-------+\n",
      "|  0|    Krish| 31|        10|30000.0|\n",
      "|  1|Sudhanshu| 30|         8|25000.0|\n",
      "+---+---------+---+----------+-------+\n",
      "\n"
     ]
    }
   ],
   "source": [
    "# Filter the DataFrame to exclude rows where Salary is less than or equal to 20000\n",
    "df_pyspark2.filter(~(df_pyspark2[\"Salary\"]<=20000)).show()\n"
   ]
  },
  {
   "cell_type": "markdown",
   "metadata": {},
   "source": [
    "### GroupBy And Aggregation"
   ]
  },
  {
   "cell_type": "code",
   "execution_count": 38,
   "metadata": {},
   "outputs": [
    {
     "name": "stdout",
     "output_type": "stream",
     "text": [
      "+---------+------------+------+\n",
      "|     Name| Departments|Salary|\n",
      "+---------+------------+------+\n",
      "|    Krish|Data Science| 10000|\n",
      "|    Krish|         IOT|  5000|\n",
      "|   Mahesh|    Big Data|  4000|\n",
      "|    Krish|    Big Data|  4000|\n",
      "|   Mahesh|Data Science|  3000|\n",
      "|Sudhanshu|Data Science| 20000|\n",
      "|Sudhanshu|         IOT| 10000|\n",
      "|Sudhanshu|    Big Data|  5000|\n",
      "|    Sunny|Data Science| 10000|\n",
      "|    Sunny|    Big Data|  2000|\n",
      "+---------+------------+------+\n",
      "\n"
     ]
    }
   ],
   "source": [
    "data = [\n",
    "    (\"Krish\", \"Data Science\", 10000),\n",
    "    (\"Krish\", \"IOT\", 5000),\n",
    "    (\"Mahesh\", \"Big Data\", 4000),\n",
    "    (\"Krish\", \"Big Data\", 4000),\n",
    "    (\"Mahesh\", \"Data Science\", 3000),\n",
    "    (\"Sudhanshu\", \"Data Science\", 20000),\n",
    "    (\"Sudhanshu\", \"IOT\", 10000),\n",
    "    (\"Sudhanshu\", \"Big Data\", 5000),\n",
    "    (\"Sunny\", \"Data Science\", 10000),\n",
    "    (\"Sunny\", \"Big Data\", 2000)\n",
    "]\n",
    "\n",
    "# Define schema\n",
    "columns = [\"Name\", \"Departments\", \"Salary\"]\n",
    "\n",
    "# Create DataFrame\n",
    "df = spark.createDataFrame(data, columns)\n",
    "\n",
    "# Show DataFrame\n",
    "df.show()\n"
   ]
  },
  {
   "cell_type": "code",
   "execution_count": 40,
   "metadata": {},
   "outputs": [
    {
     "name": "stdout",
     "output_type": "stream",
     "text": [
      "+---------+-----------+\n",
      "|     Name|sum(Salary)|\n",
      "+---------+-----------+\n",
      "|    Krish|      19000|\n",
      "|   Mahesh|       7000|\n",
      "|Sudhanshu|      35000|\n",
      "|    Sunny|      12000|\n",
      "+---------+-----------+\n",
      "\n"
     ]
    }
   ],
   "source": [
    "df.groupBy('Name').sum().show()\n"
   ]
  },
  {
   "cell_type": "code",
   "execution_count": 44,
   "metadata": {},
   "outputs": [
    {
     "name": "stdout",
     "output_type": "stream",
     "text": [
      "+------------+-----------+\n",
      "| Departments|max(Salary)|\n",
      "+------------+-----------+\n",
      "|Data Science|      20000|\n",
      "|         IOT|      10000|\n",
      "|    Big Data|       5000|\n",
      "+------------+-----------+\n",
      "\n"
     ]
    }
   ],
   "source": [
    "## Groupby departments which gives maximum Salary\n",
    "\n",
    "df.groupBy(\"Departments\").max().show()\n"
   ]
  },
  {
   "cell_type": "code",
   "execution_count": 45,
   "metadata": {},
   "outputs": [
    {
     "name": "stdout",
     "output_type": "stream",
     "text": [
      "+------------+-----+\n",
      "| Departments|count|\n",
      "+------------+-----+\n",
      "|Data Science|    4|\n",
      "|         IOT|    2|\n",
      "|    Big Data|    4|\n",
      "+------------+-----+\n",
      "\n"
     ]
    }
   ],
   "source": [
    "df.groupBy('Departments').count().show()\n"
   ]
  },
  {
   "cell_type": "code",
   "execution_count": 50,
   "metadata": {},
   "outputs": [
    {
     "name": "stdout",
     "output_type": "stream",
     "text": [
      "+-----------+\n",
      "|max(Salary)|\n",
      "+-----------+\n",
      "|      20000|\n",
      "+-----------+\n",
      "\n"
     ]
    }
   ],
   "source": [
    "df.agg({\"Salary\":\"max\"}).show()\n"
   ]
  },
  {
   "cell_type": "markdown",
   "metadata": {},
   "source": [
    "# Spark Mlib"
   ]
  },
  {
   "cell_type": "code",
   "execution_count": 55,
   "metadata": {},
   "outputs": [
    {
     "name": "stdout",
     "output_type": "stream",
     "text": [
      "+---------+---+----------+------+\n",
      "|     Name|Age|Experience|Salary|\n",
      "+---------+---+----------+------+\n",
      "|    Krish| 31|        10| 30000|\n",
      "|Sudhanshu| 30|         8| 25000|\n",
      "|    Sunny| 29|         4| 20000|\n",
      "|     Paul| 24|         3| 20000|\n",
      "|   Harsha| 21|         1| 15000|\n",
      "|  Shubham| 23|         2| 18000|\n",
      "+---------+---+----------+------+\n",
      "\n"
     ]
    }
   ],
   "source": [
    "from pyspark.sql import SparkSession\n",
    "\n",
    "# Initialize Spark session\n",
    "spark = SparkSession.builder.appName(\"DataFrameExample\").getOrCreate()\n",
    "\n",
    "# Data extracted from the image\n",
    "data = [\n",
    "    (\"Krish\", 31, 10, 30000),\n",
    "    (\"Sudhanshu\", 30, 8, 25000),\n",
    "    (\"Sunny\", 29, 4, 20000),\n",
    "    (\"Paul\", 24, 3, 20000),\n",
    "    (\"Harsha\", 21, 1, 15000),\n",
    "    (\"Shubham\", 23, 2, 18000)\n",
    "]\n",
    "\n",
    "# Define schema\n",
    "columns = [\"Name\", \"Age\", \"Experience\", \"Salary\"]\n",
    "\n",
    "# Create DataFrame\n",
    "training = spark.createDataFrame(data, columns)\n",
    "\n",
    "# Show DataFrame\n",
    "training.show()\n"
   ]
  },
  {
   "cell_type": "code",
   "execution_count": 57,
   "metadata": {},
   "outputs": [],
   "source": [
    "from pyspark.ml.feature import VectorAssembler\n",
    "featureAssembler = VectorAssembler(inputCols = [\"Age\",\"Experience\"],outputCol = \"Independent Feature\")\n"
   ]
  },
  {
   "cell_type": "code",
   "execution_count": 58,
   "metadata": {},
   "outputs": [
    {
     "name": "stdout",
     "output_type": "stream",
     "text": [
      "+---------+---+----------+------+-------------------+\n",
      "|     Name|Age|Experience|Salary|Independent Feature|\n",
      "+---------+---+----------+------+-------------------+\n",
      "|    Krish| 31|        10| 30000|        [31.0,10.0]|\n",
      "|Sudhanshu| 30|         8| 25000|         [30.0,8.0]|\n",
      "|    Sunny| 29|         4| 20000|         [29.0,4.0]|\n",
      "|     Paul| 24|         3| 20000|         [24.0,3.0]|\n",
      "|   Harsha| 21|         1| 15000|         [21.0,1.0]|\n",
      "|  Shubham| 23|         2| 18000|         [23.0,2.0]|\n",
      "+---------+---+----------+------+-------------------+\n",
      "\n"
     ]
    }
   ],
   "source": [
    "output = featureAssembler.transform(training)\n",
    "output.show()\n"
   ]
  },
  {
   "cell_type": "code",
   "execution_count": 60,
   "metadata": {},
   "outputs": [
    {
     "name": "stdout",
     "output_type": "stream",
     "text": [
      "+-------------------+------+\n",
      "|Independent Feature|Salary|\n",
      "+-------------------+------+\n",
      "|        [31.0,10.0]| 30000|\n",
      "|         [30.0,8.0]| 25000|\n",
      "|         [29.0,4.0]| 20000|\n",
      "|         [24.0,3.0]| 20000|\n",
      "|         [21.0,1.0]| 15000|\n",
      "|         [23.0,2.0]| 18000|\n",
      "+-------------------+------+\n",
      "\n"
     ]
    }
   ],
   "source": [
    "finalized_data = output.select(\"Independent Feature\" , \"Salary\")\n",
    "finalized_data.show()\n"
   ]
  },
  {
   "cell_type": "code",
   "execution_count": 63,
   "metadata": {},
   "outputs": [],
   "source": [
    "from pyspark.ml.regression import LinearRegression \n",
    "\n",
    "## Train Test Split\n",
    "train_data  ,test_data = finalized_data.randomSplit([0.75,0.25])\n",
    "regressor = LinearRegression(featuresCol='Independent Feature' , labelCol= 'Salary')\n",
    "regressor = regressor.fit(train_data)\n"
   ]
  },
  {
   "cell_type": "code",
   "execution_count": 64,
   "metadata": {},
   "outputs": [
    {
     "data": {
      "text/plain": [
       "DenseVector([-102.53, 1688.6818])"
      ]
     },
     "execution_count": 64,
     "metadata": {},
     "output_type": "execute_result"
    }
   ],
   "source": [
    "regressor.coefficients\n"
   ]
  },
  {
   "cell_type": "code",
   "execution_count": 65,
   "metadata": {},
   "outputs": [
    {
     "data": {
      "text/plain": [
       "16470.03994673731"
      ]
     },
     "execution_count": 65,
     "metadata": {},
     "output_type": "execute_result"
    }
   ],
   "source": [
    "regressor.intercept\n"
   ]
  },
  {
   "cell_type": "code",
   "execution_count": 66,
   "metadata": {},
   "outputs": [
    {
     "name": "stdout",
     "output_type": "stream",
     "text": [
      "+-------------------+------+-----------------+\n",
      "|Independent Feature|Salary|       prediction|\n",
      "+-------------------+------+-----------------+\n",
      "|         [30.0,8.0]| 25000|26903.59520639148|\n",
      "+-------------------+------+-----------------+\n",
      "\n"
     ]
    }
   ],
   "source": [
    "pred_result = regressor.evaluate(test_data)\n",
    "pred_result.predictions.show()\n"
   ]
  },
  {
   "cell_type": "code",
   "execution_count": 67,
   "metadata": {},
   "outputs": [
    {
     "data": {
      "text/plain": [
       "(1903.595206391481, 3623674.709796625)"
      ]
     },
     "execution_count": 67,
     "metadata": {},
     "output_type": "execute_result"
    }
   ],
   "source": [
    "pred_result.meanAbsoluteError , pred_result.meanSquaredError\n"
   ]
  }
 ],
 "metadata": {
  "kernelspec": {
   "display_name": "Python 3",
   "language": "python",
   "name": "python3"
  },
  "language_info": {
   "codemirror_mode": {
    "name": "ipython",
    "version": 3
   },
   "file_extension": ".py",
   "mimetype": "text/x-python",
   "name": "python",
   "nbconvert_exporter": "python",
   "pygments_lexer": "ipython3",
   "version": "3.11.9"
  }
 },
 "nbformat": 4,
 "nbformat_minor": 2
}

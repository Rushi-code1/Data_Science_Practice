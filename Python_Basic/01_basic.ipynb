{
 "cells": [
  {
   "cell_type": "markdown",
   "metadata": {},
   "source": [
    "## Variable"
   ]
  },
  {
   "cell_type": "code",
   "execution_count": 1,
   "metadata": {},
   "outputs": [],
   "source": [
    "age = 22\n",
    "name = \"rushi\"\n",
    "height = 5.9\n",
    "bool = True"
   ]
  },
  {
   "cell_type": "code",
   "execution_count": 2,
   "metadata": {},
   "outputs": [
    {
     "data": {
      "text/plain": [
       "(22, 'rushi', 5.9, True)"
      ]
     },
     "execution_count": 2,
     "metadata": {},
     "output_type": "execute_result"
    }
   ],
   "source": [
    "age , name , height , bool "
   ]
  },
  {
   "cell_type": "markdown",
   "metadata": {},
   "source": [
    "## Data Structur\n",
    "\n",
    " List \n",
    " Tuple \n",
    " Dictionary \n",
    " Array \n",
    "\n",
    "### two type of Data structure :\n",
    "       1 homegenous  -------- same Type Data\n",
    "              Array\n",
    "        2 heterogenous -------- different type data\n",
    "              1 Mutable ------ we do changes\n",
    "                      List\n",
    "                      Dictionary\n",
    "                      DataFrame\n",
    "              2 Unmutable ------- we don't Change\n",
    "                       Set\n",
    "                       Tuple\n"
   ]
  },
  {
   "cell_type": "markdown",
   "metadata": {},
   "source": [
    "\n",
    "# Data Structures in Python\n",
    "\n",
    "Python offers a variety of built-in data structures, each serving different purposes and optimized for specific tasks. This document provides an overview of these commonly used data structures.\n",
    "\n",
    "## 1. Lists\n",
    "Lists are a versatile and widely used data structure in Python. They are ordered collections, meaning that the order of elements is maintained. Lists are mutable, allowing for modifications such as adding, removing, or changing elements. They can store a mix of different data types, including numbers, strings, and even other lists.\n",
    "\n",
    "- **Syntax**: Lists are defined using square brackets `[]`.\n",
    "  ```python\n",
    "  my_list = [1, 2, 3, \"hello\", 4.5]\n",
    "  ```\n",
    "- **Characteristics**:\n",
    "  - Ordered: Elements maintain a specific sequence.\n",
    "  - Mutable: Can be modified after creation.\n",
    "  - Allows duplicates: The same value can appear multiple times.\n",
    "\n",
    "## 2. Tuples\n",
    "Tuples are similar to lists but with one key difference: they are immutable. Once a tuple is created, its elements cannot be changed. Tuples are often used to represent fixed collections of items. They are also ordered, meaning elements have a defined order that does not change.\n",
    "\n",
    "- **Syntax**: Tuples are defined using parentheses `()`.\n",
    "  ```python\n",
    "  my_tuple = (1, 2, 3, \"hello\", 4.5)\n",
    "  ```\n",
    "- **Characteristics**:\n",
    "  - Ordered: Elements maintain a specific sequence.\n",
    "  - Immutable: Cannot be changed after creation.\n",
    "  - Allows duplicates: The same value can appear multiple times.\n",
    "\n",
    "## 3. Sets\n",
    "Sets are collections of unique elements. They are unordered, so elements do not have a defined sequence. Sets are mutable, meaning elements can be added or removed, but all elements must be unique.\n",
    "\n",
    "- **Syntax**: Sets are defined using curly braces `{}`.\n",
    "  ```python\n",
    "  my_set = {1, 2, 3, 4}\n",
    "  ```\n",
    "- **Characteristics**:\n",
    "  - Unordered: No defined order.\n",
    "  - Mutable: Elements can be added or removed.\n",
    "  - No duplicates: Each element must be unique.\n",
    "\n",
    "## 4. Dictionaries\n",
    "Dictionaries store data in key-value pairs, allowing you to quickly access values based on a unique key. They are unordered and mutable, meaning you can add, remove, or change key-value pairs.\n",
    "\n",
    "- **Syntax**: Dictionaries are defined using curly braces `{}` with key-value pairs separated by a colon `:`.\n",
    "  ```python\n",
    "  my_dict = {\"name\": \"Alice\", \"age\": 25, \"city\": \"New York\"}\n",
    "  ```\n",
    "- **Characteristics**:\n",
    "  - Unordered: No defined order.\n",
    "  - Mutable: Key-value pairs can be added, removed, or changed.\n",
    "  - Keys must be unique: Each key in a dictionary must be distinct.\n",
    "\n",
    "## 5. Strings\n",
    "Strings are sequences of characters used to store and manipulate text. In Python, strings are immutable, meaning once a string is created, it cannot be changed.\n",
    "\n",
    "- **Syntax**: Strings are defined using single quotes `'` or double quotes `\"` for regular strings, and triple quotes `'''` or `\"\"\"` for multi-line strings.\n",
    "  ```python\n",
    "  my_string = \"Hello, World!\"\n",
    "  ```\n",
    "- **Characteristics**:\n",
    "  - Ordered: Characters have a specific sequence.\n",
    "  - Immutable: Cannot be changed after creation.\n",
    "  - Supports various string operations: Concatenation, slicing, and formatting.\n",
    "\n",
    "## 6. Data Structures from the `collections` Module\n",
    "Python's `collections` module provides additional specialized data structures:\n",
    "\n",
    "- **`deque`** (Double-ended queue): Allows fast appends and pops from both ends.\n",
    "  - **Syntax**:\n",
    "    ```python\n",
    "    from collections import deque\n",
    "    my_deque = deque([1, 2, 3])\n",
    "    ```\n",
    "  - **Characteristics**: Mutable, ordered, supports efficient addition and removal of elements from both ends.\n",
    "\n",
    "- **`namedtuple`**: Factory function for creating tuple subclasses with named fields, making it easier to access tuple elements by name rather than index.\n",
    "  - **Syntax**:\n",
    "    ```python\n",
    "    from collections import namedtuple\n",
    "    Point = namedtuple('Point', ['x', 'y'])\n",
    "    p = Point(1, 2)\n",
    "    ```\n",
    "  - **Characteristics**: Immutable, ordered, enhances code readability by allowing tuple elements to be accessed using field names.\n",
    "\n",
    "---"
   ]
  },
  {
   "cell_type": "markdown",
   "metadata": {},
   "source": [
    "## LIST\n"
   ]
  },
  {
   "cell_type": "code",
   "execution_count": 3,
   "metadata": {},
   "outputs": [
    {
     "data": {
      "text/plain": [
       "[]"
      ]
     },
     "execution_count": 3,
     "metadata": {},
     "output_type": "execute_result"
    }
   ],
   "source": [
    "list1 = []\n",
    "list1"
   ]
  },
  {
   "cell_type": "code",
   "execution_count": 4,
   "metadata": {},
   "outputs": [
    {
     "data": {
      "text/plain": [
       "type"
      ]
     },
     "execution_count": 4,
     "metadata": {},
     "output_type": "execute_result"
    }
   ],
   "source": [
    "type(list)"
   ]
  },
  {
   "cell_type": "code",
   "execution_count": 5,
   "metadata": {},
   "outputs": [],
   "source": [
    "List = [1,1.2,\"python\", True]"
   ]
  },
  {
   "cell_type": "code",
   "execution_count": 6,
   "metadata": {},
   "outputs": [],
   "source": [
    "List.append(\"session\")"
   ]
  },
  {
   "cell_type": "code",
   "execution_count": 7,
   "metadata": {},
   "outputs": [
    {
     "data": {
      "text/plain": [
       "[1, 1.2, 'python', True, 'session']"
      ]
     },
     "execution_count": 7,
     "metadata": {},
     "output_type": "execute_result"
    }
   ],
   "source": [
    "List"
   ]
  },
  {
   "cell_type": "markdown",
   "metadata": {},
   "source": [
    "## Tuple"
   ]
  },
  {
   "cell_type": "code",
   "execution_count": 8,
   "metadata": {},
   "outputs": [],
   "source": [
    "t = ()"
   ]
  },
  {
   "cell_type": "code",
   "execution_count": 9,
   "metadata": {},
   "outputs": [
    {
     "data": {
      "text/plain": [
       "tuple"
      ]
     },
     "execution_count": 9,
     "metadata": {},
     "output_type": "execute_result"
    }
   ],
   "source": [
    "type(t)"
   ]
  },
  {
   "cell_type": "code",
   "execution_count": 10,
   "metadata": {},
   "outputs": [],
   "source": [
    "# t.append(1)"
   ]
  },
  {
   "cell_type": "markdown",
   "metadata": {},
   "source": [
    "## Dictionary"
   ]
  },
  {
   "cell_type": "code",
   "execution_count": 11,
   "metadata": {},
   "outputs": [
    {
     "data": {
      "text/plain": [
       "dict"
      ]
     },
     "execution_count": 11,
     "metadata": {},
     "output_type": "execute_result"
    }
   ],
   "source": [
    "dict = {}\n",
    "type(dict)"
   ]
  },
  {
   "cell_type": "code",
   "execution_count": 12,
   "metadata": {},
   "outputs": [],
   "source": [
    "dict = {\"name\" : \"Rushikesh\" , \"age\" : 22, \"Lastname\" : \"deshmukh\"}"
   ]
  },
  {
   "cell_type": "code",
   "execution_count": 13,
   "metadata": {},
   "outputs": [],
   "source": [
    "dict.update({\"Location\" : \"Pune\"})"
   ]
  },
  {
   "cell_type": "code",
   "execution_count": 14,
   "metadata": {},
   "outputs": [
    {
     "data": {
      "text/plain": [
       "{'name': 'Rushikesh', 'Lastname': 'deshmukh', 'Location': 'Pune'}"
      ]
     },
     "execution_count": 14,
     "metadata": {},
     "output_type": "execute_result"
    }
   ],
   "source": [
    "dict.pop('age')\n",
    "dict"
   ]
  },
  {
   "cell_type": "markdown",
   "metadata": {},
   "source": [
    "## Set\n"
   ]
  },
  {
   "cell_type": "code",
   "execution_count": 15,
   "metadata": {},
   "outputs": [
    {
     "data": {
      "text/plain": [
       "{1, 2, 22, 'python'}"
      ]
     },
     "execution_count": 15,
     "metadata": {},
     "output_type": "execute_result"
    }
   ],
   "source": [
    "s = {1,1,1,22,2,2,2,\"python\",}\n",
    "s"
   ]
  },
  {
   "cell_type": "code",
   "execution_count": 16,
   "metadata": {},
   "outputs": [],
   "source": [
    "s.add(43)"
   ]
  },
  {
   "cell_type": "code",
   "execution_count": 17,
   "metadata": {},
   "outputs": [
    {
     "data": {
      "text/plain": [
       "{1, 2, 22, 43, 'python'}"
      ]
     },
     "execution_count": 17,
     "metadata": {},
     "output_type": "execute_result"
    }
   ],
   "source": [
    "s"
   ]
  },
  {
   "cell_type": "code",
   "execution_count": 18,
   "metadata": {},
   "outputs": [
    {
     "data": {
      "text/plain": [
       "{2, 22, 43, 'python'}"
      ]
     },
     "execution_count": 18,
     "metadata": {},
     "output_type": "execute_result"
    }
   ],
   "source": [
    "s.pop()\n",
    "s"
   ]
  },
  {
   "cell_type": "markdown",
   "metadata": {},
   "source": [
    "## To remove dublicate value from list using set function this is called typecasting "
   ]
  },
  {
   "cell_type": "code",
   "execution_count": 19,
   "metadata": {},
   "outputs": [
    {
     "data": {
      "text/plain": [
       "[10, 20, 30]"
      ]
     },
     "execution_count": 19,
     "metadata": {},
     "output_type": "execute_result"
    }
   ],
   "source": [
    "list1 = [10,10,10,10,20,30,30,30,30]\n",
    "\n",
    "type(set(list1))\n",
    "\n",
    "list(set(list1))"
   ]
  },
  {
   "cell_type": "markdown",
   "metadata": {},
   "source": [
    "# Operators in Programming\n",
    "\n",
    "Operators are special symbols or keywords used to perform operations on operands. They are fundamental building blocks of most programming languages. Here is a comprehensive overview of different types of operators:\n",
    "\n",
    "## 1. Arithmetic Operators\n",
    "These operators are used to perform basic mathematical operations.\n",
    "\n",
    "- `+` : Addition (e.g., `a + b`)\n",
    "- `-` : Subtraction (e.g., `a - b`)\n",
    "- `*` : Multiplication (e.g., `a * b`)\n",
    "- `/` : Division (e.g., `a / b`)\n",
    "- `%` : Modulus (Remainder of division, e.g., `a % b`)\n",
    "- `**` : Exponentiation (e.g., `a ** b` for a raised to the power of b)\n",
    "- `//` : Floor Division (e.g., `a // b` gives the largest integer less than or equal to the division result)\n",
    "\n",
    "## 2. Comparison Operators\n",
    "These operators compare two values and return a Boolean result (`True` or `False`).\n",
    "\n",
    "- `==` : Equal to (e.g., `a == b`)\n",
    "- `!=` : Not equal to (e.g., `a != b`)\n",
    "- `>`  : Greater than (e.g., `a > b`)\n",
    "- `<`  : Less than (e.g., `a < b`)\n",
    "- `>=` : Greater than or equal to (e.g., `a >= b`)\n",
    "- `<=` : Less than or equal to (e.g., `a <= b`)\n",
    "\n",
    "## 3. Logical Operators\n",
    "These operators are used to combine conditional statements.\n",
    "\n",
    "- `and` : Logical AND (True if both operands are true, e.g., `a and b`)\n",
    "- `or`  : Logical OR (True if at least one operand is true, e.g., `a or b`)\n",
    "- `not` : Logical NOT (Inverts the Boolean value, e.g., `not a`)\n",
    "\n",
    "## 4. Assignment Operators\n",
    "These operators are used to assign values to variables.\n",
    "\n",
    "- `=`  : Assignment (e.g., `a = 5`)\n",
    "- `+=` : Add and assign (e.g., `a += 5` means `a = a + 5`)\n",
    "- `-=` : Subtract and assign (e.g., `a -= 5` means `a = a - 5`)\n",
    "- `*=` : Multiply and assign (e.g., `a *= 5` means `a = a * 5`)\n",
    "- `/=` : Divide and assign (e.g., `a /= 5` means `a = a / 5`)\n",
    "- `%=` : Modulus and assign (e.g., `a %= 5` means `a = a % 5`)\n",
    "- `**=`: Exponent and assign (e.g., `a **= 5` means `a = a ** 5`)\n",
    "- `//=`: Floor divide and assign (e.g., `a //= 5` means `a = a // 5`)\n",
    "\n",
    "## 5. Bitwise Operators\n",
    "These operators perform bit-level operations on integers.\n",
    "\n",
    "- `&`  : Bitwise AND (e.g., `a & b`)\n",
    "- `|`  : Bitwise OR (e.g., `a | b`)\n",
    "- `^`  : Bitwise XOR (e.g., `a ^ b`)\n",
    "- `~`  : Bitwise NOT (e.g., `~a`)\n",
    "- `<<` : Bitwise left shift (e.g., `a << 1`)\n",
    "- `>>` : Bitwise right shift (e.g., `a >> 1`)\n",
    "\n",
    "## 6. Membership Operators\n",
    "These operators test for membership in a sequence (like lists, strings, etc.).\n",
    "\n",
    "- `in`     : True if value is found in the sequence (e.g., `x in y`)\n",
    "- `not in` : True if value is not found in the sequence (e.g., `x not in y`)\n",
    "\n",
    "## 7. Identity Operators\n",
    "These operators compare the memory locations of two objects.\n",
    "\n",
    "- `is`     : True if both variables point to the same object (e.g., `a is b`)\n",
    "- `is not` : True if both variables do not point to the same object (e.g., `a is not b`)\n",
    "\n",
    "## 8. Ternary (Conditional) Operator\n",
    "A shorthand way of writing an `if-else` statement.\n",
    "\n",
    "- Syntax: `value_if_true if condition else value_if_false`\n",
    "- Example: `result = \"Yes\" if a > b else \"No\"`\n",
    "\n",
    "## 9. Special Operators\n",
    "Some languages have special operators for specific use cases.\n",
    "\n",
    "- `?:` : Ternary operator (often used as shorthand for `if-else` in languages like Java, C++)\n",
    "- `::` : Scope resolution operator (e.g., in C++ to define class methods)\n",
    "\n",
    "---\n",
    "\n",
    "These operators are essential tools for building expressions and implementing logic in programs. Understanding their usage and behavior is crucial for effective coding.\n"
   ]
  },
  {
   "cell_type": "markdown",
   "metadata": {},
   "source": [
    "# Conditional Statements\n",
    "\n",
    "* if\n",
    "* else\n",
    "* elif"
   ]
  },
  {
   "cell_type": "markdown",
   "metadata": {},
   "source": [
    "### Comparison Operators\n",
    "\n",
    "- `a == b` &nbsp;&nbsp;&nbsp;&nbsp; ➜ Equal to\n",
    "- `a < b` &nbsp;&nbsp;&nbsp;&nbsp; ➜ Less than\n",
    "- `a > b` &nbsp;&nbsp;&nbsp;&nbsp; ➜ Greater than\n",
    "- `a <= b` &nbsp;&nbsp;&nbsp;&nbsp; ➜ Less than or equal to\n",
    "- `a >= b` &nbsp;&nbsp;&nbsp;&nbsp; ➜ Greater than or equal to\n",
    "- `a != b` &nbsp;&nbsp;&nbsp;&nbsp; ➜ Not equal to\n"
   ]
  },
  {
   "cell_type": "code",
   "execution_count": 25,
   "metadata": {},
   "outputs": [],
   "source": [
    "names = \"Rushikesh\"\n",
    "names = \"Helloa\"\n"
   ]
  },
  {
   "cell_type": "code",
   "execution_count": 26,
   "metadata": {},
   "outputs": [
    {
     "name": "stdout",
     "output_type": "stream",
     "text": [
      "User not found\n"
     ]
    }
   ],
   "source": [
    "if names == \"Rushikesh\" :\n",
    "    print(\"welcome\")\n",
    "else :\n",
    "    print(\"User not found\")"
   ]
  },
  {
   "cell_type": "code",
   "execution_count": 28,
   "metadata": {},
   "outputs": [
    {
     "name": "stdout",
     "output_type": "stream",
     "text": [
      "old number\n"
     ]
    }
   ],
   "source": [
    "n = 1\n",
    "\n",
    "if n % 2 == 0 :\n",
    "    print(\"even number\")\n",
    "elif n%2 != 0 :\n",
    "    print(\"old number\")\n",
    "else :\n",
    "    print(\"write a number\")\n",
    "\n"
   ]
  },
  {
   "cell_type": "code",
   "execution_count": 35,
   "metadata": {},
   "outputs": [
    {
     "name": "stdout",
     "output_type": "stream",
     "text": [
      "positive number\n"
     ]
    }
   ],
   "source": [
    "\"pleach enter the number\"\n",
    "number = int(input())\n",
    "\n",
    "if number > 0 :\n",
    "    print(\"positive number\")\n",
    "elif number < 0:\n",
    "    print(\"Negative number\")\n",
    "else :\n",
    "    print(\"Zero\")"
   ]
  },
  {
   "cell_type": "code",
   "execution_count": 38,
   "metadata": {},
   "outputs": [
    {
     "name": "stdout",
     "output_type": "stream",
     "text": [
      "pleach enter the number in alert\n",
      "c Grade\n"
     ]
    }
   ],
   "source": [
    "print(\"pleach enter the number in alert\")\n",
    "marks = int(input())\n",
    "\n",
    "if marks >= 85 :\n",
    "    print(\"A grade\")\n",
    "elif (marks  >= 70 and marks < 85) :\n",
    "    print(\"B grade\")\n",
    "elif ( marks < 70 and marks >= 55):\n",
    "    print(\"c Grade\")\n",
    "else :\n",
    "    print(\"D Grade\")"
   ]
  }
 ],
 "metadata": {
  "kernelspec": {
   "display_name": "Python 3",
   "language": "python",
   "name": "python3"
  },
  "language_info": {
   "codemirror_mode": {
    "name": "ipython",
    "version": 3
   },
   "file_extension": ".py",
   "mimetype": "text/x-python",
   "name": "python",
   "nbconvert_exporter": "python",
   "pygments_lexer": "ipython3",
   "version": "3.12.1"
  }
 },
 "nbformat": 4,
 "nbformat_minor": 2
}

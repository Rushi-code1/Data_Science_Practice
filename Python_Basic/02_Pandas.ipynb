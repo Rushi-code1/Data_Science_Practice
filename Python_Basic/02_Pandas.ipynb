{
 "cells": [
  {
   "cell_type": "markdown",
   "metadata": {},
   "source": [
    "---\n",
    "# Introduction to Pandas\n",
    "\n",
    "**Pandas** is a powerful, open-source data analysis and manipulation library in Python. It provides data structures and functions needed to work with structured data seamlessly. Pandas is particularly well-suited for tasks like data cleaning, transformation, and analysis.\n",
    "\n",
    "## Core Data Structures in Pandas\n",
    "\n",
    "- **`Series`**: A one-dimensional labeled array capable of holding any data type (integers, strings, floats, Python objects, etc.). It is similar to a column in a table or a list in Python.\n",
    "\n",
    "- **`DataFrame`**: A two-dimensional labeled data structure with columns of potentially different types. It is similar to a table in a relational database or an Excel spreadsheet.\n",
    "\n",
    "## Basic Operational Functions in Pandas\n",
    "\n",
    "### 1. Data Loading\n",
    "\n",
    "- **`pd.read_csv()`**: Loads data from a CSV file into a DataFrame.\n",
    "- **`pd.read_excel()`**: Loads data from an Excel file into a DataFrame.\n",
    "- **`pd.read_json()`**: Loads data from a JSON file into a DataFrame.\n",
    "\n",
    "### 2. Data Inspection\n",
    "\n",
    "- **`df.head()`**: Returns the first few rows of the DataFrame.\n",
    "- **`df.tail()`**: Returns the last few rows of the DataFrame.\n",
    "- **`df.info()`**: Provides a concise summary of the DataFrame, including data types and non-null counts.\n",
    "- **`df.describe()`**: Generates descriptive statistics of the DataFrame, including measures like mean, median, and standard deviation.\n",
    "\n",
    "### 3. Data Selection and Filtering\n",
    "\n",
    "- **`df['column_name']`**: Selects a single column from the DataFrame.\n",
    "- **`df[['col1', 'col2']]`**: Selects multiple columns from the DataFrame.\n",
    "- **`df.iloc[]`**: Selects data by index-based positions (integer location).\n",
    "- **`df.loc[]`**: Selects data by label-based positions.\n",
    "- **`df[df['column'] > value]`**: Filters rows based on a condition.\n",
    "\n",
    "### 4. Data Manipulation\n",
    "\n",
    "- **`df.drop()`**: Removes rows or columns from the DataFrame.\n",
    "- **`df.rename()`**: Renames columns or indexes in the DataFrame.\n",
    "- **`df.sort_values()`**: Sorts the DataFrame by the values of one or more columns.\n",
    "- **`df.fillna()`**: Replaces missing values with a specified value.\n",
    "- **`df.apply()`**: Applies a function along an axis of the DataFrame.\n",
    "\n",
    "### 5. Data Aggregation and Grouping\n",
    "\n",
    "- **`df.groupby()`**: Groups data by a specified column or columns and performs operations like sum, mean, etc., on each group.\n",
    "- **`df.agg()`**: Aggregates data using one or more operations.\n",
    "- **`df.pivot_table()`**: Creates a pivot table based on specified index, columns, and aggregation function.\n",
    "\n",
    "### 6. Data Merging and Concatenation\n",
    "\n",
    "- **`pd.merge()`**: Merges two DataFrames based on a common column or index.\n",
    "- **`pd.concat()`**: Concatenates two or more DataFrames along a particular axis (rows or columns).\n",
    "\n",
    "### 7. Handling Missing Data\n",
    "\n",
    "- **`df.isnull()`**: Detects missing values, returning a DataFrame of the same shape with boolean values.\n",
    "- **`df.dropna()`**: Removes missing values from the DataFrame.\n",
    "- **`df.fillna()`**: Fills missing values with a specified value or method.\n",
    "\n",
    "### 8. Input/Output Operations\n",
    "\n",
    "- **`df.to_csv()`**: Exports the DataFrame to a CSV file.\n",
    "- **`df.to_excel()`**: Exports the DataFrame to an Excel file.\n",
    "- **`df.to_json()`**: Exports the DataFrame to a JSON file.\n",
    "\n",
    "## Conclusion\n",
    "\n",
    "Pandas is an essential tool for data manipulation and analysis in Python, offering a wide range of functions to work with data efficiently. Understanding these basic operations is crucial for performing effective data analysis and transformation tasks.\n",
    "\n",
    "---"
   ]
  },
  {
   "cell_type": "code",
   "execution_count": 1,
   "metadata": {},
   "outputs": [
    {
     "name": "stdout",
     "output_type": "stream",
     "text": [
      "Requirement already satisfied: pandas in /home/codespace/.local/lib/python3.12/site-packages (2.2.2)\n",
      "Requirement already satisfied: numpy>=1.26.0 in /home/codespace/.local/lib/python3.12/site-packages (from pandas) (2.1.0)\n",
      "Requirement already satisfied: python-dateutil>=2.8.2 in /home/codespace/.local/lib/python3.12/site-packages (from pandas) (2.9.0.post0)\n",
      "Requirement already satisfied: pytz>=2020.1 in /home/codespace/.local/lib/python3.12/site-packages (from pandas) (2024.1)\n",
      "Requirement already satisfied: tzdata>=2022.7 in /home/codespace/.local/lib/python3.12/site-packages (from pandas) (2024.1)\n",
      "Requirement already satisfied: six>=1.5 in /home/codespace/.local/lib/python3.12/site-packages (from python-dateutil>=2.8.2->pandas) (1.16.0)\n"
     ]
    }
   ],
   "source": [
    "!pip install pandas"
   ]
  },
  {
   "cell_type": "code",
   "execution_count": 2,
   "metadata": {},
   "outputs": [],
   "source": [
    "import pandas as pd"
   ]
  },
  {
   "cell_type": "code",
   "execution_count": 12,
   "metadata": {},
   "outputs": [
    {
     "data": {
      "text/html": [
       "<div>\n",
       "<style scoped>\n",
       "    .dataframe tbody tr th:only-of-type {\n",
       "        vertical-align: middle;\n",
       "    }\n",
       "\n",
       "    .dataframe tbody tr th {\n",
       "        vertical-align: top;\n",
       "    }\n",
       "\n",
       "    .dataframe thead th {\n",
       "        text-align: right;\n",
       "    }\n",
       "</style>\n",
       "<table border=\"1\" class=\"dataframe\">\n",
       "  <thead>\n",
       "    <tr style=\"text-align: right;\">\n",
       "      <th></th>\n",
       "      <th>Name</th>\n",
       "      <th>Age</th>\n",
       "      <th>Course</th>\n",
       "    </tr>\n",
       "  </thead>\n",
       "  <tbody>\n",
       "    <tr>\n",
       "      <th>0</th>\n",
       "      <td>Rushi</td>\n",
       "      <td>22</td>\n",
       "      <td>DS</td>\n",
       "    </tr>\n",
       "  </tbody>\n",
       "</table>\n",
       "</div>"
      ],
      "text/plain": [
       "    Name  Age Course\n",
       "0  Rushi   22     DS"
      ]
     },
     "execution_count": 12,
     "metadata": {},
     "output_type": "execute_result"
    }
   ],
   "source": [
    "data = {\n",
    "    'Name': ['Rushi'],\n",
    "    'Age': [22],\n",
    "    'Course':['DS']\n",
    "}\n",
    "\n",
    "pd.DataFrame(data)"
   ]
  },
  {
   "cell_type": "code",
   "execution_count": null,
   "metadata": {},
   "outputs": [],
   "source": []
  },
  {
   "cell_type": "code",
   "execution_count": null,
   "metadata": {},
   "outputs": [],
   "source": []
  }
 ],
 "metadata": {
  "kernelspec": {
   "display_name": "Python 3",
   "language": "python",
   "name": "python3"
  },
  "language_info": {
   "codemirror_mode": {
    "name": "ipython",
    "version": 3
   },
   "file_extension": ".py",
   "mimetype": "text/x-python",
   "name": "python",
   "nbconvert_exporter": "python",
   "pygments_lexer": "ipython3",
   "version": "3.12.1"
  }
 },
 "nbformat": 4,
 "nbformat_minor": 2
}

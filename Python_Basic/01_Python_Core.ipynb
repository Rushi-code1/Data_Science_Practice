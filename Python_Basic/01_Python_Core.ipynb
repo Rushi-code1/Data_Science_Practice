{
 "cells": [
  {
   "cell_type": "markdown",
   "metadata": {},
   "source": [
    "## Variable"
   ]
  },
  {
   "cell_type": "code",
   "execution_count": 24,
   "metadata": {},
   "outputs": [],
   "source": [
    "age = 22\n",
    "name = \"rushi\"\n",
    "height = 5.9\n",
    "bool = True"
   ]
  },
  {
   "cell_type": "code",
   "execution_count": 25,
   "metadata": {},
   "outputs": [
    {
     "data": {
      "text/plain": [
       "(22, 'rushi', 5.9, True)"
      ]
     },
     "execution_count": 25,
     "metadata": {},
     "output_type": "execute_result"
    }
   ],
   "source": [
    "age , name , height , bool "
   ]
  },
  {
   "cell_type": "markdown",
   "metadata": {},
   "source": [
    "## Data Structur\n",
    "\n",
    " List \n",
    " Tuple \n",
    " Dictionary \n",
    " Array \n",
    "\n",
    "### two type of Data structure :\n",
    "       1 homegenous  -------- same Type Data\n",
    "              Array\n",
    "        2 heterogenous -------- different type data\n",
    "              1 Mutable ------ we do changes\n",
    "                      List\n",
    "                      Dictionary\n",
    "                      DataFrame\n",
    "              2 Unmutable ------- we don't Change\n",
    "                       Set\n",
    "                       Tuple\n"
   ]
  },
  {
   "cell_type": "markdown",
   "metadata": {},
   "source": [
    "---\n",
    "\n",
    "# Data Structures in Python\n",
    "\n",
    "Python offers a variety of built-in data structures, each serving different purposes and optimized for specific tasks. This document provides an overview of these commonly used data structures.\n",
    "\n",
    "## 1. Lists\n",
    "Lists are a versatile and widely used data structure in Python. They are ordered collections, meaning that the order of elements is maintained. Lists are mutable, allowing for modifications such as adding, removing, or changing elements. They can store a mix of different data types, including numbers, strings, and even other lists.\n",
    "\n",
    "- **Syntax**: Lists are defined using square brackets `[]`.\n",
    "  ```python\n",
    "  my_list = [1, 2, 3, \"hello\", 4.5]\n",
    "  ```\n",
    "- **Characteristics**:\n",
    "  - Ordered: Elements maintain a specific sequence.\n",
    "  - Mutable: Can be modified after creation.\n",
    "  - Allows duplicates: The same value can appear multiple times.\n",
    "\n",
    "## 2. Tuples\n",
    "Tuples are similar to lists but with one key difference: they are immutable. Once a tuple is created, its elements cannot be changed. Tuples are often used to represent fixed collections of items. They are also ordered, meaning elements have a defined order that does not change.\n",
    "\n",
    "- **Syntax**: Tuples are defined using parentheses `()`.\n",
    "  ```python\n",
    "  my_tuple = (1, 2, 3, \"hello\", 4.5)\n",
    "  ```\n",
    "- **Characteristics**:\n",
    "  - Ordered: Elements maintain a specific sequence.\n",
    "  - Immutable: Cannot be changed after creation.\n",
    "  - Allows duplicates: The same value can appear multiple times.\n",
    "\n",
    "## 3. Sets\n",
    "Sets are collections of unique elements. They are unordered, so elements do not have a defined sequence. Sets are mutable, meaning elements can be added or removed, but all elements must be unique.\n",
    "\n",
    "- **Syntax**: Sets are defined using curly braces `{}`.\n",
    "  ```python\n",
    "  my_set = {1, 2, 3, 4}\n",
    "  ```\n",
    "- **Characteristics**:\n",
    "  - Unordered: No defined order.\n",
    "  - Mutable: Elements can be added or removed.\n",
    "  - No duplicates: Each element must be unique.\n",
    "\n",
    "## 4. Dictionaries\n",
    "Dictionaries store data in key-value pairs, allowing you to quickly access values based on a unique key. They are unordered and mutable, meaning you can add, remove, or change key-value pairs.\n",
    "\n",
    "- **Syntax**: Dictionaries are defined using curly braces `{}` with key-value pairs separated by a colon `:`.\n",
    "  ```python\n",
    "  my_dict = {\"name\": \"Alice\", \"age\": 25, \"city\": \"New York\"}\n",
    "  ```\n",
    "- **Characteristics**:\n",
    "  - Unordered: No defined order.\n",
    "  - Mutable: Key-value pairs can be added, removed, or changed.\n",
    "  - Keys must be unique: Each key in a dictionary must be distinct.\n",
    "\n",
    "## 5. Strings\n",
    "Strings are sequences of characters used to store and manipulate text. In Python, strings are immutable, meaning once a string is created, it cannot be changed.\n",
    "\n",
    "- **Syntax**: Strings are defined using single quotes `'` or double quotes `\"` for regular strings, and triple quotes `'''` or `\"\"\"` for multi-line strings.\n",
    "  ```python\n",
    "  my_string = \"Hello, World!\"\n",
    "  ```\n",
    "- **Characteristics**:\n",
    "  - Ordered: Characters have a specific sequence.\n",
    "  - Immutable: Cannot be changed after creation.\n",
    "  - Supports various string operations: Concatenation, slicing, and formatting.\n",
    "\n",
    "## 6. Data Structures from the `collections` Module\n",
    "Python's `collections` module provides additional specialized data structures:\n",
    "\n",
    "- **`deque`** (Double-ended queue): Allows fast appends and pops from both ends.\n",
    "  - **Syntax**:\n",
    "    ```python\n",
    "    from collections import deque\n",
    "    my_deque = deque([1, 2, 3])\n",
    "    ```\n",
    "  - **Characteristics**: Mutable, ordered, supports efficient addition and removal of elements from both ends.\n",
    "\n",
    "- **`namedtuple`**: Factory function for creating tuple subclasses with named fields, making it easier to access tuple elements by name rather than index.\n",
    "  - **Syntax**:\n",
    "    ```python\n",
    "    from collections import namedtuple\n",
    "    Point = namedtuple('Point', ['x', 'y'])\n",
    "    p = Point(1, 2)\n",
    "    ```\n",
    "  - **Characteristics**: Immutable, ordered, enhances code readability by allowing tuple elements to be accessed using field names.\n",
    "\n",
    "---"
   ]
  },
  {
   "cell_type": "markdown",
   "metadata": {},
   "source": [
    "## LIST\n"
   ]
  },
  {
   "cell_type": "code",
   "execution_count": 26,
   "metadata": {},
   "outputs": [
    {
     "data": {
      "text/plain": [
       "[]"
      ]
     },
     "execution_count": 26,
     "metadata": {},
     "output_type": "execute_result"
    }
   ],
   "source": [
    "list1 = []\n",
    "list1"
   ]
  },
  {
   "cell_type": "code",
   "execution_count": 27,
   "metadata": {},
   "outputs": [
    {
     "data": {
      "text/plain": [
       "type"
      ]
     },
     "execution_count": 27,
     "metadata": {},
     "output_type": "execute_result"
    }
   ],
   "source": [
    "type(list)"
   ]
  },
  {
   "cell_type": "code",
   "execution_count": 28,
   "metadata": {},
   "outputs": [],
   "source": [
    "List = [1,1.2,\"python\", True]"
   ]
  },
  {
   "cell_type": "code",
   "execution_count": 29,
   "metadata": {},
   "outputs": [],
   "source": [
    "List.append(\"session\")"
   ]
  },
  {
   "cell_type": "code",
   "execution_count": 30,
   "metadata": {},
   "outputs": [
    {
     "data": {
      "text/plain": [
       "[1, 1.2, 'python', True, 'session']"
      ]
     },
     "execution_count": 30,
     "metadata": {},
     "output_type": "execute_result"
    }
   ],
   "source": [
    "List"
   ]
  },
  {
   "cell_type": "markdown",
   "metadata": {},
   "source": [
    "## Tuple"
   ]
  },
  {
   "cell_type": "code",
   "execution_count": 31,
   "metadata": {},
   "outputs": [],
   "source": [
    "t = ()"
   ]
  },
  {
   "cell_type": "code",
   "execution_count": 32,
   "metadata": {},
   "outputs": [
    {
     "data": {
      "text/plain": [
       "tuple"
      ]
     },
     "execution_count": 32,
     "metadata": {},
     "output_type": "execute_result"
    }
   ],
   "source": [
    "type(t)"
   ]
  },
  {
   "cell_type": "code",
   "execution_count": 33,
   "metadata": {},
   "outputs": [],
   "source": [
    "# t.append(1)"
   ]
  },
  {
   "cell_type": "markdown",
   "metadata": {},
   "source": [
    "## Dictionary"
   ]
  },
  {
   "cell_type": "code",
   "execution_count": 34,
   "metadata": {},
   "outputs": [
    {
     "data": {
      "text/plain": [
       "dict"
      ]
     },
     "execution_count": 34,
     "metadata": {},
     "output_type": "execute_result"
    }
   ],
   "source": [
    "dict = {}\n",
    "type(dict)"
   ]
  },
  {
   "cell_type": "code",
   "execution_count": 35,
   "metadata": {},
   "outputs": [],
   "source": [
    "dict = {\"name\" : \"Rushikesh\" , \"age\" : 22, \"Lastname\" : \"deshmukh\"}"
   ]
  },
  {
   "cell_type": "code",
   "execution_count": 36,
   "metadata": {},
   "outputs": [],
   "source": [
    "dict.update({\"Location\" : \"Pune\"})"
   ]
  },
  {
   "cell_type": "code",
   "execution_count": 37,
   "metadata": {},
   "outputs": [
    {
     "data": {
      "text/plain": [
       "{'name': 'Rushikesh', 'Lastname': 'deshmukh', 'Location': 'Pune'}"
      ]
     },
     "execution_count": 37,
     "metadata": {},
     "output_type": "execute_result"
    }
   ],
   "source": [
    "dict.pop('age')\n",
    "dict"
   ]
  },
  {
   "cell_type": "markdown",
   "metadata": {},
   "source": [
    "## Set\n"
   ]
  },
  {
   "cell_type": "code",
   "execution_count": 38,
   "metadata": {},
   "outputs": [
    {
     "data": {
      "text/plain": [
       "{1, 2, 22, 'python'}"
      ]
     },
     "execution_count": 38,
     "metadata": {},
     "output_type": "execute_result"
    }
   ],
   "source": [
    "s = {1,1,1,22,2,2,2,\"python\",}\n",
    "s"
   ]
  },
  {
   "cell_type": "code",
   "execution_count": 39,
   "metadata": {},
   "outputs": [],
   "source": [
    "s.add(43)"
   ]
  },
  {
   "cell_type": "code",
   "execution_count": 40,
   "metadata": {},
   "outputs": [
    {
     "data": {
      "text/plain": [
       "{1, 2, 22, 43, 'python'}"
      ]
     },
     "execution_count": 40,
     "metadata": {},
     "output_type": "execute_result"
    }
   ],
   "source": [
    "s"
   ]
  },
  {
   "cell_type": "code",
   "execution_count": 41,
   "metadata": {},
   "outputs": [
    {
     "data": {
      "text/plain": [
       "{2, 22, 43, 'python'}"
      ]
     },
     "execution_count": 41,
     "metadata": {},
     "output_type": "execute_result"
    }
   ],
   "source": [
    "s.pop()\n",
    "s"
   ]
  },
  {
   "cell_type": "markdown",
   "metadata": {},
   "source": [
    "## To remove dublicate value from list using set function this is called typecasting "
   ]
  },
  {
   "cell_type": "code",
   "execution_count": 42,
   "metadata": {},
   "outputs": [
    {
     "data": {
      "text/plain": [
       "[10, 20, 30]"
      ]
     },
     "execution_count": 42,
     "metadata": {},
     "output_type": "execute_result"
    }
   ],
   "source": [
    "list1 = [10,10,10,10,20,30,30,30,30]\n",
    "\n",
    "type(set(list1))\n",
    "\n",
    "list(set(list1))"
   ]
  },
  {
   "cell_type": "markdown",
   "metadata": {},
   "source": [
    "---\n",
    "# Operators in Programming\n",
    "\n",
    "Operators are special symbols or keywords used to perform operations on operands. They are fundamental building blocks of most programming languages. Here is a comprehensive overview of different types of operators:\n",
    "\n",
    "## 1. Arithmetic Operators\n",
    "These operators are used to perform basic mathematical operations.\n",
    "\n",
    "- `+` : Addition (e.g., `a + b`)\n",
    "- `-` : Subtraction (e.g., `a - b`)\n",
    "- `*` : Multiplication (e.g., `a * b`)\n",
    "- `/` : Division (e.g., `a / b`)\n",
    "- `%` : Modulus (Remainder of division, e.g., `a % b`)\n",
    "- `**` : Exponentiation (e.g., `a ** b` for a raised to the power of b)\n",
    "- `//` : Floor Division (e.g., `a // b` gives the largest integer less than or equal to the division result)\n",
    "\n",
    "## 2. Comparison Operators\n",
    "These operators compare two values and return a Boolean result (`True` or `False`).\n",
    "\n",
    "- `==` : Equal to (e.g., `a == b`)\n",
    "- `!=` : Not equal to (e.g., `a != b`)\n",
    "- `>`  : Greater than (e.g., `a > b`)\n",
    "- `<`  : Less than (e.g., `a < b`)\n",
    "- `>=` : Greater than or equal to (e.g., `a >= b`)\n",
    "- `<=` : Less than or equal to (e.g., `a <= b`)\n",
    "\n",
    "## 3. Logical Operators\n",
    "These operators are used to combine conditional statements.\n",
    "\n",
    "- `and` : Logical AND (True if both operands are true, e.g., `a and b`)\n",
    "- `or`  : Logical OR (True if at least one operand is true, e.g., `a or b`)\n",
    "- `not` : Logical NOT (Inverts the Boolean value, e.g., `not a`)\n",
    "\n",
    "## 4. Assignment Operators\n",
    "These operators are used to assign values to variables.\n",
    "\n",
    "- `=`  : Assignment (e.g., `a = 5`)\n",
    "- `+=` : Add and assign (e.g., `a += 5` means `a = a + 5`)\n",
    "- `-=` : Subtract and assign (e.g., `a -= 5` means `a = a - 5`)\n",
    "- `*=` : Multiply and assign (e.g., `a *= 5` means `a = a * 5`)\n",
    "- `/=` : Divide and assign (e.g., `a /= 5` means `a = a / 5`)\n",
    "- `%=` : Modulus and assign (e.g., `a %= 5` means `a = a % 5`)\n",
    "- `**=`: Exponent and assign (e.g., `a **= 5` means `a = a ** 5`)\n",
    "- `//=`: Floor divide and assign (e.g., `a //= 5` means `a = a // 5`)\n",
    "\n",
    "## 5. Bitwise Operators\n",
    "These operators perform bit-level operations on integers.\n",
    "\n",
    "- `&`  : Bitwise AND (e.g., `a & b`)\n",
    "- `|`  : Bitwise OR (e.g., `a | b`)\n",
    "- `^`  : Bitwise XOR (e.g., `a ^ b`)\n",
    "- `~`  : Bitwise NOT (e.g., `~a`)\n",
    "- `<<` : Bitwise left shift (e.g., `a << 1`)\n",
    "- `>>` : Bitwise right shift (e.g., `a >> 1`)\n",
    "\n",
    "## 6. Membership Operators\n",
    "These operators test for membership in a sequence (like lists, strings, etc.).\n",
    "\n",
    "- `in`     : True if value is found in the sequence (e.g., `x in y`)\n",
    "- `not in` : True if value is not found in the sequence (e.g., `x not in y`)\n",
    "\n",
    "## 7. Identity Operators\n",
    "These operators compare the memory locations of two objects.\n",
    "\n",
    "- `is`     : True if both variables point to the same object (e.g., `a is b`)\n",
    "- `is not` : True if both variables do not point to the same object (e.g., `a is not b`)\n",
    "\n",
    "## 8. Ternary (Conditional) Operator\n",
    "A shorthand way of writing an `if-else` statement.\n",
    "\n",
    "- Syntax: `value_if_true if condition else value_if_false`\n",
    "- Example: `result = \"Yes\" if a > b else \"No\"`\n",
    "\n",
    "## 9. Special Operators\n",
    "Some languages have special operators for specific use cases.\n",
    "\n",
    "- `?:` : Ternary operator (often used as shorthand for `if-else` in languages like Java, C++)\n",
    "- `::` : Scope resolution operator (e.g., in C++ to define class methods)\n",
    "\n",
    "\n",
    "\n",
    "These operators are essential tools for building expressions and implementing logic in programs. Understanding their usage and behavior is crucial for effective coding.\n",
    "\n",
    "---"
   ]
  },
  {
   "cell_type": "markdown",
   "metadata": {},
   "source": [
    "# Conditional Statements\n",
    "\n",
    "* if\n",
    "* else\n",
    "* elif"
   ]
  },
  {
   "cell_type": "markdown",
   "metadata": {},
   "source": [
    "### Comparison Operators\n",
    "\n",
    "- `a == b` &nbsp;&nbsp;&nbsp;&nbsp; ➜ Equal to\n",
    "- `a < b` &nbsp;&nbsp;&nbsp;&nbsp; ➜ Less than\n",
    "- `a > b` &nbsp;&nbsp;&nbsp;&nbsp; ➜ Greater than\n",
    "- `a <= b` &nbsp;&nbsp;&nbsp;&nbsp; ➜ Less than or equal to\n",
    "- `a >= b` &nbsp;&nbsp;&nbsp;&nbsp; ➜ Greater than or equal to\n",
    "- `a != b` &nbsp;&nbsp;&nbsp;&nbsp; ➜ Not equal to\n"
   ]
  },
  {
   "cell_type": "code",
   "execution_count": 43,
   "metadata": {},
   "outputs": [],
   "source": [
    "names = \"Rushikesh\"\n",
    "names = \"Helloa\"\n"
   ]
  },
  {
   "cell_type": "code",
   "execution_count": 44,
   "metadata": {},
   "outputs": [
    {
     "name": "stdout",
     "output_type": "stream",
     "text": [
      "User not found\n"
     ]
    }
   ],
   "source": [
    "if names == \"Rushikesh\" :\n",
    "    print(\"welcome\")\n",
    "else :\n",
    "    print(\"User not found\")"
   ]
  },
  {
   "cell_type": "code",
   "execution_count": 45,
   "metadata": {},
   "outputs": [
    {
     "name": "stdout",
     "output_type": "stream",
     "text": [
      "old number\n"
     ]
    }
   ],
   "source": [
    "n = 1\n",
    "\n",
    "if n % 2 == 0 :\n",
    "    print(\"even number\")\n",
    "elif n%2 != 0 :\n",
    "    print(\"old number\")\n",
    "else :\n",
    "    print(\"write a number\")\n",
    "\n"
   ]
  },
  {
   "cell_type": "code",
   "execution_count": 46,
   "metadata": {},
   "outputs": [
    {
     "name": "stdout",
     "output_type": "stream",
     "text": [
      "positive number\n"
     ]
    }
   ],
   "source": [
    "\"pleach enter the number\"\n",
    "number = int(input())\n",
    "\n",
    "if number > 0 :\n",
    "    print(\"positive number\")\n",
    "elif number < 0:\n",
    "    print(\"Negative number\")\n",
    "else :\n",
    "    print(\"Zero\")"
   ]
  },
  {
   "cell_type": "code",
   "execution_count": 47,
   "metadata": {},
   "outputs": [
    {
     "name": "stdout",
     "output_type": "stream",
     "text": [
      "pleach enter the number in alert\n",
      "D Grade\n"
     ]
    }
   ],
   "source": [
    "print(\"pleach enter the number in alert\")\n",
    "marks = int(input())\n",
    "\n",
    "if marks >= 85 :\n",
    "    print(\"A grade\")\n",
    "elif (marks  >= 70 and marks < 85) :\n",
    "    print(\"B grade\")\n",
    "elif ( marks < 70 and marks >= 55):\n",
    "    print(\"c Grade\")\n",
    "else :\n",
    "    print(\"D Grade\")"
   ]
  },
  {
   "cell_type": "markdown",
   "metadata": {},
   "source": [
    "# Functions in Python\n",
    "\n",
    "A **function** in Python is a block of organized, reusable code that is used to perform a single, specific task. Functions help in making the code modular, easier to read, and more maintainable.\n",
    "\n",
    "## Types of Functions\n",
    "\n",
    "### 1. Built-in Functions\n",
    "\n",
    "Built-in functions are pre-defined in Python and are always available to use. You do not need to import any modules or libraries to use them. Some common examples of built-in functions in Python include:\n",
    "\n",
    "- **`print()`**: Outputs the specified message to the console.\n",
    "- **`input()`**: Take input From the user it give the user input as output in string.\n",
    "- **`len()`**: Returns the length (the number of items) of an object.\n",
    "- **`type()`**: Returns the type of an object.\n",
    "- **`max()`**: Returns the largest item in an iterable or the largest of two or more arguments.\n",
    "- **`sum()`**: Sums the items of an iterable.\n",
    "\n",
    "\n",
    "### 2. User-defined Functions\n",
    "\n",
    "User-defined functions are functions that you create to perform specific tasks. These functions are defined using the `def` keyword. The syntax for defining a function in Python is as follows:\n",
    "\n",
    "```python\n",
    "def function_name(parameters):\n",
    "    \"\"\"docstring\"\"\"\n",
    "    # function body\n",
    "    return [expression]\n",
    "function_name(Argument) # function call\n",
    "```\n",
    "\n",
    "#### Example of a User-defined Function:\n",
    "\n",
    "```python\n",
    "def greet(name):\n",
    "    \"\"\"This function greets the person passed in as a parameter\"\"\"\n",
    "    print(f\"Hello, {name}!\")\n",
    "\n",
    "greet(\"Alice\")\n",
    "```\n",
    "\n",
    "In this example:\n",
    "- **`greet`** is the name of the function.\n",
    "- **`name`** is the parameter the function takes.\n",
    "- **`print(f\"Hello, {name}!\")`** is the code executed when the function is called.\n",
    "- **`greet(\"Alice\")`** calls the function with `\"Alice\"` as the argument, resulting in the output `Hello, Alice!`.\n",
    "\n",
    "## Conclusion\n",
    "\n",
    "Functions are a fundamental concept in Python that enable code reusability, modularity, and maintainability. Python offers a wide range of built-in functions for common tasks, while also allowing you to define your own functions to meet specific needs.\n",
    "```"
   ]
  },
  {
   "cell_type": "code",
   "execution_count": 48,
   "metadata": {},
   "outputs": [
    {
     "name": "stdout",
     "output_type": "stream",
     "text": [
      "hey this is my \n"
     ]
    }
   ],
   "source": [
    "def simple_function () :\n",
    "    print(\"hey this is my \")\n",
    "\n",
    "simple_function()"
   ]
  },
  {
   "cell_type": "code",
   "execution_count": 49,
   "metadata": {},
   "outputs": [
    {
     "name": "stdout",
     "output_type": "stream",
     "text": [
      "Hey 13 welcome to my page\n"
     ]
    }
   ],
   "source": [
    "name = input(\"Enter Your name :- \")\n",
    "\n",
    "def print_name(name):\n",
    "    print(f\"Hey {name} welcome to my page\")\n",
    "\n",
    "print_name(name)"
   ]
  },
  {
   "cell_type": "code",
   "execution_count": 50,
   "metadata": {},
   "outputs": [],
   "source": [
    "def add(a,b):\n",
    "    \"\"\"This Function Return THe addition of two Number\"\"\"\n",
    "    return a+b"
   ]
  },
  {
   "cell_type": "code",
   "execution_count": 52,
   "metadata": {},
   "outputs": [
    {
     "name": "stdout",
     "output_type": "stream",
     "text": [
      "30\n"
     ]
    }
   ],
   "source": [
    "x = 10 \n",
    "y = 20\n",
    "\n",
    "print(add(x,y))"
   ]
  },
  {
   "cell_type": "code",
   "execution_count": 53,
   "metadata": {},
   "outputs": [],
   "source": [
    "def max_number(num1 , num2):\n",
    "    \"\"\"this function return max number from the give number \"\"\"\n",
    "    \n",
    "    return max(num1,num2)\n"
   ]
  },
  {
   "cell_type": "code",
   "execution_count": 54,
   "metadata": {},
   "outputs": [],
   "source": [
    "def max_number2(num1 , num2):\n",
    "    \"\"\"this function return max number from the give number using the if-else \"\"\"\n",
    "    if num1 > num2 :\n",
    "        return num1   \n",
    "    elif num1<num2:\n",
    "        return num2\n",
    "    else :\n",
    "        return \"Equal\""
   ]
  },
  {
   "cell_type": "code",
   "execution_count": 55,
   "metadata": {},
   "outputs": [
    {
     "name": "stdout",
     "output_type": "stream",
     "text": [
      "10\n"
     ]
    }
   ],
   "source": [
    "num1 = 10\n",
    "num2 = 5\n",
    "\n",
    "print(max_number2(num1,num2))"
   ]
  },
  {
   "cell_type": "markdown",
   "metadata": {},
   "source": [
    "# Typecasting in Python\n",
    "\n",
    "**Typecasting** in Python refers to the process of converting one data type into another. This is useful when you need to perform operations that require operands of the same type, or when you need to interpret data in a different type.\n",
    "\n",
    "## Types of Typecasting\n",
    "\n",
    "### 1. Implicit Typecasting\n",
    "\n",
    "Implicit typecasting, also known as **automatic type conversion**, is when Python automatically converts one data type to another without any explicit instruction from the user. Python typically performs implicit typecasting in expressions where mixed types are present to avoid data loss.\n",
    "\n",
    "#### Example of Implicit Typecasting:\n",
    "\n",
    "```python\n",
    "num_int = 5      # Integer\n",
    "num_float = 2.5  # Float\n",
    "\n",
    "result = num_int + num_float\n",
    "\n",
    "print(result)    # Output: 7.5\n",
    "print(type(result))  # Output: <class 'float'>\n",
    "```\n",
    "\n",
    "In this example:\n",
    "- Python automatically converts the integer `num_int` to a float before performing the addition.\n",
    "- The result is a float.\n",
    "\n",
    "### 2. Explicit Typecasting\n",
    "\n",
    "Explicit typecasting, also known as **manual type conversion**, is when you manually convert one data type to another using Python's built-in functions. This is useful when you need precise control over how data is converted between types.\n",
    "\n",
    "#### Common Typecasting Functions:\n",
    "\n",
    "- **`int(x)`**: Converts `x` to an integer.\n",
    "- **`float(x)`**: Converts `x` to a float.\n",
    "- **`str(x)`**: Converts `x` to a string.\n",
    "- **`list(x)`**: Converts `x` to a list.\n",
    "- **`tuple(x)`**: Converts `x` to a tuple.\n",
    "\n",
    "#### Example of Explicit Typecasting:\n",
    "\n",
    "```python\n",
    "num_str = \"100\"       # String\n",
    "num_int = int(num_str)  # Convert string to integer\n",
    "\n",
    "print(num_int)        # Output: 100\n",
    "print(type(num_int))  # Output: <class 'int'>\n",
    "```\n",
    "\n",
    "In this example:\n",
    "- The string `num_str` is explicitly converted to an integer using the `int()` function.\n",
    "- The result is stored in `num_int` as an integer.\n",
    "\n",
    "### 3. Typecasting in Expressions\n",
    "\n",
    "You can also perform typecasting within expressions to ensure the desired output type:\n",
    "\n",
    "```python\n",
    "num1 = \"5\"\n",
    "num2 = 10\n",
    "\n",
    "# Convert num1 to integer before adding\n",
    "result = int(num1) + num2\n",
    "\n",
    "print(result)  # Output: 15\n",
    "```\n",
    "\n",
    "In this example:\n",
    "- The string `num1` is converted to an integer before it is added to `num2`.\n",
    "\n",
    "### 4. Typecasting in Function Arguments\n",
    "\n",
    "Sometimes, typecasting is necessary when passing arguments to functions that require a specific data type:\n",
    "\n",
    "```python\n",
    "def concatenate_strings(str1, str2):\n",
    "    return str1 + str2\n",
    "\n",
    "result = concatenate_strings(\"Age: \", str(25))\n",
    "print(result)  # Output: Age: 25\n",
    "```\n",
    "\n",
    "In this example:\n",
    "- The integer `25` is converted to a string using `str()` before being concatenated with another string.\n",
    "\n",
    "## Conclusion\n",
    "\n",
    "Typecasting in Python is a powerful tool that allows you to control how data is interpreted and manipulated across different data types. While Python performs implicit typecasting automatically, explicit typecasting provides greater control and precision, especially in complex operations and function calls.\n",
    "```"
   ]
  },
  {
   "cell_type": "code",
   "execution_count": null,
   "metadata": {},
   "outputs": [],
   "source": []
  },
  {
   "cell_type": "markdown",
   "metadata": {},
   "source": [
    "# Loops in Python\n",
    "\n",
    "A **loop** in Python is a sequence of instructions that is continually repeated until a certain condition is met. Loops allow you to execute a block of code multiple times, making repetitive tasks easier to manage.\n",
    "\n",
    "## Types of Loops\n",
    "\n",
    "### 1. `for` Loop\n",
    "\n",
    "The `for` loop in Python is used to iterate over a sequence (such as a list, tuple, string, or range) and execute a block of code for each item in the sequence.\n",
    "\n",
    "#### Syntax of a `for` Loop:\n",
    "\n",
    "```python\n",
    "for variable in sequence:\n",
    "    # loop body\n",
    "```\n",
    "\n",
    "#### Example of a `for` Loop:\n",
    "\n",
    "```python\n",
    "fruits = [\"apple\", \"banana\", \"cherry\"]\n",
    "for fruit in fruits:\n",
    "    print(fruit)\n",
    "```\n",
    "\n",
    "In this example:\n",
    "- **`fruits`** is a list containing three elements.\n",
    "- The `for` loop iterates over each element in the list, and the `print(fruit)` statement outputs each fruit to the console.\n",
    "\n",
    "**Output:**\n",
    "```\n",
    "apple\n",
    "banana\n",
    "cherry\n",
    "```\n",
    "\n",
    "### 2. `while` Loop\n",
    "\n",
    "The `while` loop in Python repeatedly executes a block of code as long as the specified condition remains `True`.\n",
    "\n",
    "#### Syntax of a `while` Loop:\n",
    "\n",
    "```python\n",
    "while condition:\n",
    "    # loop body\n",
    "```\n",
    "\n",
    "#### Example of a `while` Loop:\n",
    "\n",
    "```python\n",
    "count = 1\n",
    "while count <= 5:\n",
    "    print(\"Count:\", count)\n",
    "    count += 1\n",
    "```\n",
    "\n",
    "In this example:\n",
    "- The loop starts with `count` equal to 1.\n",
    "- The loop continues to run as long as `count` is less than or equal to 5.\n",
    "- After each iteration, the value of `count` is incremented by 1.\n",
    "\n",
    "**Output:**\n",
    "```\n",
    "Count: 1\n",
    "Count: 2\n",
    "Count: 3\n",
    "Count: 4\n",
    "Count: 5\n",
    "```\n",
    "\n",
    "### 3. Loop Control Statements\n",
    "\n",
    "Python provides several control statements to alter the flow of a loop:\n",
    "\n",
    "- **`break`**: Exits the loop entirely.\n",
    "- **`continue`**: Skips the rest of the loop's body and moves to the next iteration.\n",
    "- **`pass`**: Does nothing and can be used as a placeholder.\n",
    "\n",
    "#### Example of `break` and `continue`:\n",
    "\n",
    "```python\n",
    "for i in range(1, 10):\n",
    "    if i == 5:\n",
    "        break  # Exit the loop when i is 5\n",
    "    if i % 2 == 0:\n",
    "        continue  # Skip even numbers\n",
    "    print(i)\n",
    "```\n",
    "\n",
    "In this example:\n",
    "- The loop iterates through numbers from 1 to 9.\n",
    "- The `break` statement exits the loop when `i` is 5.\n",
    "- The `continue` statement skips even numbers, so only odd numbers before 5 are printed.\n",
    "\n",
    "**Output:**\n",
    "```\n",
    "1\n",
    "3\n",
    "```\n",
    "\n",
    "## Conclusion\n",
    "\n",
    "Loops in Python are essential for executing repetitive tasks efficiently. The `for` loop is ideal for iterating over sequences, while the `while` loop is better suited for scenarios where the number of iterations depends on a condition. Control statements like `break` and `continue` provide additional flexibility in managing loop execution.\n",
    "```\n"
   ]
  },
  {
   "cell_type": "code",
   "execution_count": null,
   "metadata": {},
   "outputs": [
    {
     "name": "stdout",
     "output_type": "stream",
     "text": [
      "Learninh python day10\n",
      "Learninh python day9\n",
      "Learninh python day8\n",
      "Learninh python day7\n",
      "Learninh python day6\n",
      "Learninh python day5\n",
      "Learninh python day4\n",
      "Learninh python day3\n",
      "Learninh python day2\n",
      "Learninh python day1\n"
     ]
    }
   ],
   "source": [
    "python = 10\n",
    "\n",
    "while python >0 :\n",
    "    print(f\"Learninh python day{python}\")\n",
    "    python = python - 1"
   ]
  },
  {
   "cell_type": "code",
   "execution_count": 1,
   "metadata": {},
   "outputs": [
    {
     "name": "stdout",
     "output_type": "stream",
     "text": [
      "Taking Step\n",
      "Taking Step\n",
      "Taking Step\n",
      "Taking Step\n",
      "Taking Step\n",
      "Taking Step\n",
      "Taking Step\n",
      "Taking Step\n",
      "Taking Step\n",
      "Taking Step\n",
      "Taking Step\n",
      "Taking Step\n",
      "Taking Step\n",
      "Taking Step\n",
      "Taking Step\n",
      "Taking Step\n",
      "Taking Step\n",
      "Taking Step\n",
      "Taking Step\n",
      "Taking Step\n",
      "Taking Step\n",
      "Taking Step\n",
      "Taking Step\n",
      "Taking Step\n",
      "Taking Step\n",
      "Taking Step\n"
     ]
    }
   ],
   "source": [
    "steps = 0 \n",
    "\n",
    "while steps <= 25:\n",
    "    print(\"Taking Step\")\n",
    "    steps = steps + 1"
   ]
  },
  {
   "cell_type": "code",
   "execution_count": null,
   "metadata": {},
   "outputs": [],
   "source": []
  },
  {
   "cell_type": "code",
   "execution_count": null,
   "metadata": {},
   "outputs": [],
   "source": []
  }
 ],
 "metadata": {
  "kernelspec": {
   "display_name": "Python 3",
   "language": "python",
   "name": "python3"
  },
  "language_info": {
   "codemirror_mode": {
    "name": "ipython",
    "version": 3
   },
   "file_extension": ".py",
   "mimetype": "text/x-python",
   "name": "python",
   "nbconvert_exporter": "python",
   "pygments_lexer": "ipython3",
   "version": "3.12.1"
  }
 },
 "nbformat": 4,
 "nbformat_minor": 2
}

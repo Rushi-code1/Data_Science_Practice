{
 "cells": [
  {
   "cell_type": "markdown",
   "metadata": {},
   "source": [
    "### Test Information\n",
    "#### Proportion T-Test\n",
    "##### Description\n",
    "The proportion t-test is a statistical test used to compare the proportions of two independent groups. It is used to determine if there is a significant difference between the proportions of two groups.\n",
    "\n",
    "##### Assumptions\n",
    "* The data is randomly sampled from the population.\n",
    "* The sample size is sufficiently large (usually greater than 30).\n",
    "* The data is normally distributed.\n",
    "\n",
    "##### Formula\n",
    "The formula for the proportion t-test is:\n",
    "\n",
    "t = (p1 - p2) / sqrt(p * (1 - p) * (1/n1 + 1/n2))\n",
    "\n",
    "where:\n",
    "- t is the test statistic\n",
    "- p1 and p2 are the proportions of the two groups\n",
    "- p is the pooled proportion (p = (X1 + X2) / (n1 + n2))\n",
    "- n1 and n2 are the sample sizes of the two groups\n",
    "- X1 and X2 are the number of successes in each group\n",
    "\n",
    "##### Example\n",
    "Suppose we want to compare the proportion of males and females in two different cities. We collect a random sample of 100 people from each city and find that 60 males and 40 females in city A, and 50 males and 50 females in city B.\n",
    "\n",
    "| City | Males | Females | Total |\n",
    "| --- | --- | --- | --- |\n",
    "| A   | 60   | 40    | 100  |\n",
    "| B   | 50   | 50    | 100  |\n",
    "\n",
    "Using the formula above, we can calculate the test statistic and determine if there is a significant difference between the proportions of males and females in the two cities."
   ]
  },
  {
   "cell_type": "code",
   "execution_count": 2,
   "metadata": {},
   "outputs": [],
   "source": [
    "import numpy as np"
   ]
  },
  {
   "cell_type": "code",
   "execution_count": 3,
   "metadata": {},
   "outputs": [],
   "source": [
    "n1 = 247\n",
    "p1 = .37\n",
    "\n",
    "\n",
    "n2 = 308\n",
    "p2 = .39"
   ]
  },
  {
   "cell_type": "code",
   "execution_count": 4,
   "metadata": {},
   "outputs": [],
   "source": [
    "population1 = np.random.binomial(1,p1,n1)\n",
    "population2 = np.random.binomial(1,p2,n2)   "
   ]
  },
  {
   "cell_type": "code",
   "execution_count": 5,
   "metadata": {},
   "outputs": [
    {
     "data": {
      "text/plain": [
       "array([1, 0, 0, 0, 0, 0, 0, 0, 0, 1, 0, 0, 1, 0, 0, 0, 0, 0, 0, 1, 0, 1,\n",
       "       1, 1, 1, 0, 0, 0, 0, 1, 0, 0, 0, 0, 0, 0, 1, 1, 0, 1, 0, 1, 1, 0,\n",
       "       0, 1, 0, 0, 1, 1, 0, 0, 1, 0, 0, 0, 1, 1, 1, 0, 0, 0, 1, 1, 0, 0,\n",
       "       1, 1, 1, 0, 1, 1, 1, 1, 1, 0, 0, 1, 1, 0, 1, 0, 1, 0, 1, 1, 1, 0,\n",
       "       1, 0, 0, 1, 1, 1, 1, 0, 0, 0, 1, 1, 1, 1, 1, 1, 0, 1, 0, 1, 1, 1,\n",
       "       0, 1, 0, 1, 1, 1, 0, 0, 1, 0, 0, 1, 1, 0, 0, 0, 1, 1, 1, 1, 0, 0,\n",
       "       0, 0, 0, 0, 0, 0, 1, 0, 1, 1, 0, 1, 0, 1, 0, 0, 0, 1, 1, 0, 0, 1,\n",
       "       0, 0, 0, 0, 0, 1, 1, 1, 0, 1, 0, 1, 0, 0, 1, 0, 1, 0, 1, 0, 1, 0,\n",
       "       0, 0, 0, 1, 0, 0, 1, 0, 1, 0, 0, 0, 0, 1, 0, 1, 1, 1, 1, 1, 0, 0,\n",
       "       0, 0, 0, 0, 0, 0, 0, 0, 1, 0, 1, 0, 0, 1, 0, 0, 1, 1, 1, 0, 0, 1,\n",
       "       1, 0, 0, 0, 0, 0, 0, 0, 0, 0, 0, 0, 0, 0, 0, 1, 1, 0, 0, 1, 1, 1,\n",
       "       1, 1, 0, 0, 1])"
      ]
     },
     "execution_count": 5,
     "metadata": {},
     "output_type": "execute_result"
    }
   ],
   "source": [
    "population1"
   ]
  },
  {
   "cell_type": "code",
   "execution_count": 6,
   "metadata": {},
   "outputs": [
    {
     "data": {
      "text/plain": [
       "247"
      ]
     },
     "execution_count": 6,
     "metadata": {},
     "output_type": "execute_result"
    }
   ],
   "source": [
    "len(population1)"
   ]
  },
  {
   "cell_type": "code",
   "execution_count": 15,
   "metadata": {},
   "outputs": [
    {
     "data": {
      "text/plain": [
       "np.float64(0.4291497975708502)"
      ]
     },
     "execution_count": 15,
     "metadata": {},
     "output_type": "execute_result"
    }
   ],
   "source": [
    "population1.mean()"
   ]
  },
  {
   "cell_type": "code",
   "execution_count": 14,
   "metadata": {},
   "outputs": [
    {
     "data": {
      "text/plain": [
       "np.float64(0.36038961038961037)"
      ]
     },
     "execution_count": 14,
     "metadata": {},
     "output_type": "execute_result"
    }
   ],
   "source": [
    "population2.mean()"
   ]
  },
  {
   "cell_type": "code",
   "execution_count": null,
   "metadata": {},
   "outputs": [],
   "source": []
  },
  {
   "cell_type": "code",
   "execution_count": 12,
   "metadata": {},
   "outputs": [
    {
     "name": "stdout",
     "output_type": "stream",
     "text": [
      "Collecting statsmodels\n",
      "  Downloading statsmodels-0.14.2-cp312-cp312-manylinux_2_17_x86_64.manylinux2014_x86_64.whl.metadata (9.2 kB)\n",
      "Requirement already satisfied: numpy>=1.22.3 in /home/codespace/.local/lib/python3.12/site-packages (from statsmodels) (2.1.0)\n",
      "Requirement already satisfied: scipy!=1.9.2,>=1.8 in /home/codespace/.local/lib/python3.12/site-packages (from statsmodels) (1.14.0)\n",
      "Requirement already satisfied: pandas!=2.1.0,>=1.4 in /home/codespace/.local/lib/python3.12/site-packages (from statsmodels) (2.2.2)\n",
      "Collecting patsy>=0.5.6 (from statsmodels)\n",
      "  Downloading patsy-0.5.6-py2.py3-none-any.whl.metadata (3.5 kB)\n",
      "Requirement already satisfied: packaging>=21.3 in /home/codespace/.local/lib/python3.12/site-packages (from statsmodels) (24.1)\n",
      "Requirement already satisfied: python-dateutil>=2.8.2 in /home/codespace/.local/lib/python3.12/site-packages (from pandas!=2.1.0,>=1.4->statsmodels) (2.9.0.post0)\n",
      "Requirement already satisfied: pytz>=2020.1 in /home/codespace/.local/lib/python3.12/site-packages (from pandas!=2.1.0,>=1.4->statsmodels) (2024.1)\n",
      "Requirement already satisfied: tzdata>=2022.7 in /home/codespace/.local/lib/python3.12/site-packages (from pandas!=2.1.0,>=1.4->statsmodels) (2024.1)\n",
      "Requirement already satisfied: six in /home/codespace/.local/lib/python3.12/site-packages (from patsy>=0.5.6->statsmodels) (1.16.0)\n",
      "Downloading statsmodels-0.14.2-cp312-cp312-manylinux_2_17_x86_64.manylinux2014_x86_64.whl (10.7 MB)\n",
      "\u001b[2K   \u001b[90m━━━━━━━━━━━━━━━━━━━━━━━━━━━━━━━━━━━━━━━━\u001b[0m \u001b[32m10.7/10.7 MB\u001b[0m \u001b[31m25.3 MB/s\u001b[0m eta \u001b[36m0:00:00\u001b[0m \u001b[36m0:00:01\u001b[0m\n",
      "\u001b[?25hDownloading patsy-0.5.6-py2.py3-none-any.whl (233 kB)\n",
      "Installing collected packages: patsy, statsmodels\n",
      "Successfully installed patsy-0.5.6 statsmodels-0.14.2\n"
     ]
    }
   ],
   "source": [
    "!pip install statsmodels"
   ]
  },
  {
   "cell_type": "code",
   "execution_count": 13,
   "metadata": {},
   "outputs": [],
   "source": [
    "import statsmodels.api as sm\n"
   ]
  },
  {
   "cell_type": "code",
   "execution_count": 16,
   "metadata": {},
   "outputs": [],
   "source": [
    "t,p,df = sm.stats.ttest_ind(population1,population2)"
   ]
  },
  {
   "cell_type": "code",
   "execution_count": 17,
   "metadata": {},
   "outputs": [
    {
     "data": {
      "text/plain": [
       "np.float64(1.650831437929816)"
      ]
     },
     "execution_count": 17,
     "metadata": {},
     "output_type": "execute_result"
    }
   ],
   "source": [
    "t"
   ]
  },
  {
   "cell_type": "code",
   "execution_count": 18,
   "metadata": {},
   "outputs": [
    {
     "data": {
      "text/plain": [
       "np.float64(0.09934075670569809)"
      ]
     },
     "execution_count": 18,
     "metadata": {},
     "output_type": "execute_result"
    }
   ],
   "source": [
    "p"
   ]
  },
  {
   "cell_type": "code",
   "execution_count": 19,
   "metadata": {},
   "outputs": [
    {
     "name": "stdout",
     "output_type": "stream",
     "text": [
      "reject Null hypothesis\n"
     ]
    }
   ],
   "source": [
    "if p<0.5:\n",
    "    print('reject Null hypothesis')\n",
    "else :\n",
    "    print('fail to reject Null hypothesis')"
   ]
  },
  {
   "cell_type": "code",
   "execution_count": null,
   "metadata": {},
   "outputs": [],
   "source": []
  },
  {
   "cell_type": "markdown",
   "metadata": {},
   "source": [
    "### Manual Calculation of 2 Proportion t-test\n",
    "\n",
    "#### Step 1: Calculate the Pooled Proportion\n",
    "The pooled proportion (p̄) is the total number of successes divided by the total number of trials.\n",
    "\n",
    "p̄ = (X1 + X2) / (n1 + n2)\n",
    "\n",
    "where:\n",
    "- X1 = number of successes in sample 1\n",
    "- X2 = number of successes in sample 2\n",
    "- n1 = sample size of sample 1\n",
    "- n2 = sample size of sample 2\n",
    "\n",
    "#### Step 2: Calculate the Standard Error of the Difference\n",
    "The standard error of the difference (SE) is a measure of the variability of the difference between the two proportions.\n",
    "\n",
    "SE = sqrt(p̄(1-p̄)(1/n1 + 1/n2))\n",
    "\n",
    "#### Step 3: Calculate the Test Statistic (t)\n",
    "The test statistic (t) is a measure of the number of standard errors that the observed difference is away from zero.\n",
    "\n",
    "t = (p1 - p2) / SE\n",
    "\n",
    "where:\n",
    "- p1 = proportion of sample 1\n",
    "- p2 = proportion of sample 2\n",
    "\n",
    "#### Step 4: Determine the Degrees of Freedom\n",
    "The degrees of freedom (df) is the number of values in the final calculation of the test statistic that are free to vary.\n",
    "\n",
    "df = n1 + n2 - 2\n",
    "\n",
    "#### Step 5: Look Up the Critical t-value or Calculate the p-value\n",
    "Using a t-distribution table or calculator, look up the critical t-value for the given degrees of freedom and desired significance level (α). Alternatively, calculate the p-value associated with the test statistic.\n",
    "\n",
    "#### Step 6: Compare the Test Statistic to the Critical t-value or p-value\n",
    "If the test statistic is greater than the critical t-value or the p-value is less than the desired significance level, reject the null hypothesis. Otherwise, fail to reject the null hypothesis.\n",
    "\n",
    "Note: The null hypothesis is typically H0: p1 = p2, and the alternative hypothesis is Ha: p1 ≠ p2."
   ]
  },
  {
   "cell_type": "markdown",
   "metadata": {},
   "source": [
    "from scipy import stats\n",
    "import numpy as np\n",
    "\n",
    "# Sample data\n",
    "group1 = np.random.normal(0, 1, 100)\n",
    "group2 = np.random.normal(1, 1, 100)\n",
    "\n",
    "# Perform two-proportion t-test\n",
    "t_stat, p_val = stats.ttest_ind(group1, group2)\n",
    "\n",
    "print(\"T-statistic:\", t_stat)\n",
    "print(\"p-value:\", p_val)\n",
    "\n",
    "# Interpret the results\n",
    "alpha = 0.05\n",
    "if p_val < alpha:\n",
    "    print(\"Reject the null hypothesis. The means are significantly different.\")\n",
    "else:\n",
    "    print(\"Fail to reject the null hypothesis. The means are not significantly different.\")"
   ]
  }
 ],
 "metadata": {
  "kernelspec": {
   "display_name": "Python 3",
   "language": "python",
   "name": "python3"
  },
  "language_info": {
   "codemirror_mode": {
    "name": "ipython",
    "version": 3
   },
   "file_extension": ".py",
   "mimetype": "text/x-python",
   "name": "python",
   "nbconvert_exporter": "python",
   "pygments_lexer": "ipython3",
   "version": "3.12.1"
  }
 },
 "nbformat": 4,
 "nbformat_minor": 2
}

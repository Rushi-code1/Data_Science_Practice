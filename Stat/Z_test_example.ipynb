{
 "cells": [
  {
   "cell_type": "markdown",
   "metadata": {},
   "source": [
    "# Example# Z-Test Example\n",
    "\n",
    "## Problem Statement\n",
    "\n",
    "Suppose a factory claims that the average weight of a product is 500 grams. A quality control manager randomly selects 36 products from the factory and finds that the sample mean weight is 495 grams with a known population standard deviation of 20 grams. You want to test the factory's claim at a 5% significance level.\n",
    "\n",
    "## Steps to Conduct the Z-Test\n",
    "\n",
    "### 1. Set Up the Hypotheses\n",
    "- **Null Hypothesis (\\(H_0\\))**: The average weight of the product is 500 grams.\n",
    "  \\[\n",
    "  H_0: \\mu = 500\n",
    "  \\]\n",
    "- **Alternative Hypothesis (\\(H_1\\))**: The average weight of the product is not 500 grams.\n",
    "  \\[\n",
    "  H_1: \\mu \\neq 500\n",
    "  \\]\n",
    "\n",
    "### 2. Given Data\n",
    "- Sample mean (\\(\\bar{X}\\)) = 495 grams\n",
    "- Hypothesized population mean (\\(\\mu_0\\)) = 500 grams\n",
    "- Population standard deviation (\\(\\sigma\\)) = 20 grams\n",
    "- Sample size (\\(n\\)) = 36\n",
    "\n",
    "### 3. Z-Score Formula\n",
    "\\[\n",
    "Z = \\frac{\\bar{X} - \\mu_0}{\\frac{\\sigma}{\\sqrt{n}}}\n",
    "\\]\n",
    "\n",
    "### 4. Calculate the Z-Score and p-value in Python"
   ]
  },
  {
   "cell_type": "code",
   "execution_count": 1,
   "metadata": {},
   "outputs": [],
   "source": [
    "import numpy as np\n",
    "import scipy.stats as stats"
   ]
  },
  {
   "cell_type": "code",
   "execution_count": 2,
   "metadata": {},
   "outputs": [],
   "source": [
    "# Given data\n",
    "sample_mean = 495       # Sample mean\n",
    "mu_0 = 500              # Hypothesized population mean\n",
    "sigma = 20              # Population standard deviation\n",
    "n = 36                  # Sample size\n"
   ]
  },
  {
   "cell_type": "code",
   "execution_count": 9,
   "metadata": {},
   "outputs": [
    {
     "data": {
      "text/plain": [
       "np.float64(-1.5)"
      ]
     },
     "execution_count": 9,
     "metadata": {},
     "output_type": "execute_result"
    }
   ],
   "source": [
    "# Calculate the Z-score\n",
    "z_score = (sample_mean - mu_0) / (sigma / np.sqrt(n))\n",
    "z_score\n"
   ]
  },
  {
   "cell_type": "code",
   "execution_count": 7,
   "metadata": {},
   "outputs": [
    {
     "data": {
      "text/plain": [
       "np.float64(0.13361440253771617)"
      ]
     },
     "execution_count": 7,
     "metadata": {},
     "output_type": "execute_result"
    }
   ],
   "source": [
    "# Calculate the p-value\n",
    "p_value = 2 * (1 - stats.norm.cdf(abs(z_score)))\n",
    "p_value"
   ]
  },
  {
   "cell_type": "code",
   "execution_count": 8,
   "metadata": {},
   "outputs": [
    {
     "data": {
      "text/plain": [
       "0.05"
      ]
     },
     "execution_count": 8,
     "metadata": {},
     "output_type": "execute_result"
    }
   ],
   "source": [
    "# Set significance level (α)\n",
    "alpha = 0.05\n",
    "alpha"
   ]
  },
  {
   "cell_type": "code",
   "execution_count": 6,
   "metadata": {},
   "outputs": [
    {
     "name": "stdout",
     "output_type": "stream",
     "text": [
      "Fail to reject the null hypothesis: p-value = 0.13361\n",
      "Z-score: -1.50000, p-value: 0.13361\n"
     ]
    }
   ],
   "source": [
    "# Decision\n",
    "if p_value < alpha:\n",
    "    print(f\"Reject the null hypothesis: p-value = {p_value:.5f}\")\n",
    "else:\n",
    "    print(f\"Fail to reject the null hypothesis: p-value = {p_value:.5f}\")\n",
    "\n",
    "print(f\"Z-score: {z_score:.5f}, p-value: {p_value:.5f}\")\n"
   ]
  }
 ],
 "metadata": {
  "kernelspec": {
   "display_name": "Python 3",
   "language": "python",
   "name": "python3"
  },
  "language_info": {
   "codemirror_mode": {
    "name": "ipython",
    "version": 3
   },
   "file_extension": ".py",
   "mimetype": "text/x-python",
   "name": "python",
   "nbconvert_exporter": "python",
   "pygments_lexer": "ipython3",
   "version": "3.12.1"
  }
 },
 "nbformat": 4,
 "nbformat_minor": 2
}

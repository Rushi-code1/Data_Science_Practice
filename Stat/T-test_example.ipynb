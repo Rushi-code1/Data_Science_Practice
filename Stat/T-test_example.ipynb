{
 "cells": [
  {
   "cell_type": "markdown",
   "metadata": {},
   "source": [
    "# T-Test Example\n",
    "\n",
    "## Problem Statement\n",
    "\n",
    "Suppose a factory claims that the average weight of a product is 500 grams. A quality control manager randomly selects 25 products from the factory and finds that the sample mean weight is 495 grams. The sample standard deviation is 18 grams. You want to test the factory's claim at a 5% significance level.\n",
    "\n",
    "## Steps to Conduct the T-Test\n",
    "\n",
    "### 1. Set Up the Hypotheses\n",
    "- **Null Hypothesis (\\(H_0\\))**: The average weight of the product is 500 grams.\n",
    "  \\[\n",
    "  H_0: \\mu = 500\n",
    "  \\]\n",
    "- **Alternative Hypothesis (\\(H_1\\))**: The average weight of the product is not 500 grams.\n",
    "  \\[\n",
    "  H_1: \\mu \\neq 500\n",
    "  \\]\n",
    "\n",
    "### 2. Given Data\n",
    "- Sample mean (\\(\\bar{X}\\)) = 495 grams\n",
    "- Hypothesized population mean (\\(\\mu_0\\)) = 500 grams\n",
    "- Sample standard deviation (\\(s\\)) = 18 grams\n",
    "- Sample size (\\(n\\)) = 25\n",
    "\n",
    "### 3. T-Score Formula\n",
    "\\[\n",
    "t = \\frac{\\bar{X} - \\mu_0}{\\frac{s}{\\sqrt{n}}}\n",
    "\\]\n",
    "\n",
    "### 4. Calculate the T-Score and p-value in Python\n"
   ]
  },
  {
   "cell_type": "code",
   "execution_count": 1,
   "metadata": {},
   "outputs": [],
   "source": [
    "import numpy as np\n",
    "import scipy.stats as stats"
   ]
  },
  {
   "cell_type": "code",
   "execution_count": 2,
   "metadata": {},
   "outputs": [],
   "source": [
    "# Given data\n",
    "sample_mean = 495       # Sample mean\n",
    "mu_0 = 500              # Hypothesized population mean\n",
    "s = 18                  # Sample standard deviation\n",
    "n = 25                  # Sample size\n"
   ]
  },
  {
   "cell_type": "code",
   "execution_count": 4,
   "metadata": {},
   "outputs": [
    {
     "data": {
      "text/plain": [
       "np.float64(-1.3888888888888888)"
      ]
     },
     "execution_count": 4,
     "metadata": {},
     "output_type": "execute_result"
    }
   ],
   "source": [
    "# Calculate the T-score\n",
    "t_score = (sample_mean - mu_0) / (s / np.sqrt(n))\n",
    "t_score"
   ]
  },
  {
   "cell_type": "code",
   "execution_count": 5,
   "metadata": {},
   "outputs": [
    {
     "data": {
      "text/plain": [
       "np.float64(0.17762145994412748)"
      ]
     },
     "execution_count": 5,
     "metadata": {},
     "output_type": "execute_result"
    }
   ],
   "source": [
    "\n",
    "# Calculate the p-value for a two-tailed test\n",
    "p_value = 2 * (1 - stats.t.cdf(abs(t_score), df=n-1))\n",
    "p_value"
   ]
  },
  {
   "cell_type": "code",
   "execution_count": 6,
   "metadata": {},
   "outputs": [],
   "source": [
    "# Set significance level (α)\n",
    "alpha = 0.05\n"
   ]
  },
  {
   "cell_type": "code",
   "execution_count": 7,
   "metadata": {},
   "outputs": [
    {
     "name": "stdout",
     "output_type": "stream",
     "text": [
      "Fail to reject the null hypothesis: p-value = 0.17762\n",
      "T-score: -1.38889, p-value: 0.17762\n"
     ]
    }
   ],
   "source": [
    "# Decision\n",
    "if p_value < alpha:\n",
    "    print(f\"Reject the null hypothesis: p-value = {p_value:.5f}\")\n",
    "else:\n",
    "    print(f\"Fail to reject the null hypothesis: p-value = {p_value:.5f}\")\n",
    "\n",
    "print(f\"T-score: {t_score:.5f}, p-value: {p_value:.5f}\")"
   ]
  }
 ],
 "metadata": {
  "kernelspec": {
   "display_name": "Python 3",
   "language": "python",
   "name": "python3"
  },
  "language_info": {
   "codemirror_mode": {
    "name": "ipython",
    "version": 3
   },
   "file_extension": ".py",
   "mimetype": "text/x-python",
   "name": "python",
   "nbconvert_exporter": "python",
   "pygments_lexer": "ipython3",
   "version": "3.12.1"
  }
 },
 "nbformat": 4,
 "nbformat_minor": 2
}
